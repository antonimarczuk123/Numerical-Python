{
 "cells": [
  {
   "cell_type": "markdown",
   "metadata": {},
   "source": [
    "# <a id='toc1_'></a>[Rozdział 10. Macierze rzadkie i grafy](#toc0_)"
   ]
  },
  {
   "cell_type": "markdown",
   "metadata": {},
   "source": [
    "**Table of contents**<a id='toc0_'></a>    \n",
    "- [Rozdział 10. Macierze rzadkie i grafy](#toc1_)    \n",
    "  - [Format listy współrzędnych - COO](#toc1_1_)    \n",
    "  - [CSR](#toc1_2_)    \n",
    "  - [Funkcje do tworzenia macierzy rzadkich](#toc1_3_)    \n",
    "  - [Alebra liniowa macierzy rzadkich](#toc1_4_)    \n",
    "    - [Przykład permutacji macierzy odwrotnym algorytmem Cuthilla-McKee'a](#toc1_4_1_)    \n",
    "    - [Problem wartości własnych](#toc1_4_2_)    \n",
    "  - [Grafy](#toc1_5_)    \n",
    "    - [Graf tokijskiego metra](#toc1_5_1_)    \n",
    "\n",
    "<!-- vscode-jupyter-toc-config\n",
    "\tnumbering=false\n",
    "\tanchor=true\n",
    "\tflat=false\n",
    "\tminLevel=1\n",
    "\tmaxLevel=6\n",
    "\t/vscode-jupyter-toc-config -->\n",
    "<!-- THIS CELL WILL BE REPLACED ON TOC UPDATE. DO NOT WRITE YOUR TEXT IN THIS CELL -->"
   ]
  },
  {
   "cell_type": "markdown",
   "metadata": {},
   "source": [
    "**Libraries:**\n",
    "\n",
    "- [NumPy](https://numpy.org/)\n",
    "- [SymPy](https://www.sympy.org/en/index.html)\n",
    "- [Matplotlib](https://matplotlib.org/)\n",
    "- [SciPy](https://scipy.org/)\n",
    "- [NetworkX](https://networkx.org/documentation/stable/reference/index.html)"
   ]
  },
  {
   "cell_type": "code",
   "execution_count": 1,
   "metadata": {},
   "outputs": [],
   "source": [
    "import matplotlib.pyplot as plt\n",
    "import matplotlib as mpl\n",
    "\n",
    "import numpy as np\n",
    "\n",
    "import scipy.sparse as sp\n",
    "import scipy.sparse.linalg\n",
    "import scipy.linalg as la\n",
    "\n",
    "import networkx as nx"
   ]
  },
  {
   "cell_type": "markdown",
   "metadata": {},
   "source": [
    "## <a id='toc1_1_'></a>[Format listy współrzędnych - COO](#toc0_)"
   ]
  },
  {
   "cell_type": "code",
   "execution_count": 2,
   "metadata": {},
   "outputs": [
    {
     "data": {
      "text/plain": [
       "matrix([[0, 1, 0, 0],\n",
       "        [0, 0, 0, 2],\n",
       "        [0, 0, 3, 0],\n",
       "        [4, 0, 0, 0]])"
      ]
     },
     "execution_count": 2,
     "metadata": {},
     "output_type": "execute_result"
    }
   ],
   "source": [
    "values = [1, 2, 3, 4]\n",
    "rows = [0, 1, 2, 3]\n",
    "cols = [1, 3, 2, 0]\n",
    "\n",
    "A = sp.coo_matrix((values, (rows, cols)), shape=[4, 4])\n",
    "A.todense()"
   ]
  },
  {
   "cell_type": "code",
   "execution_count": 4,
   "metadata": {},
   "outputs": [
    {
     "data": {
      "text/plain": [
       "<4x4 sparse matrix of type '<class 'numpy.int32'>'\n",
       "\twith 4 stored elements in COOrdinate format>"
      ]
     },
     "execution_count": 4,
     "metadata": {},
     "output_type": "execute_result"
    }
   ],
   "source": [
    "A"
   ]
  },
  {
   "cell_type": "code",
   "execution_count": 5,
   "metadata": {},
   "outputs": [
    {
     "data": {
      "text/plain": [
       "((4, 4), 4, dtype('int32'), 2)"
      ]
     },
     "execution_count": 5,
     "metadata": {},
     "output_type": "execute_result"
    }
   ],
   "source": [
    "A.shape, A.size, A.dtype, A.ndim"
   ]
  },
  {
   "cell_type": "code",
   "execution_count": 6,
   "metadata": {},
   "outputs": [
    {
     "data": {
      "text/plain": [
       "(4, array([1, 2, 3, 4]))"
      ]
     },
     "execution_count": 6,
     "metadata": {},
     "output_type": "execute_result"
    }
   ],
   "source": [
    "A.nnz, A.data"
   ]
  },
  {
   "cell_type": "code",
   "execution_count": 7,
   "metadata": {},
   "outputs": [
    {
     "data": {
      "text/plain": [
       "array([0, 1, 2, 3])"
      ]
     },
     "execution_count": 7,
     "metadata": {},
     "output_type": "execute_result"
    }
   ],
   "source": [
    "A.row"
   ]
  },
  {
   "cell_type": "code",
   "execution_count": 8,
   "metadata": {},
   "outputs": [
    {
     "data": {
      "text/plain": [
       "array([1, 3, 2, 0])"
      ]
     },
     "execution_count": 8,
     "metadata": {},
     "output_type": "execute_result"
    }
   ],
   "source": [
    "A.col"
   ]
  },
  {
   "cell_type": "code",
   "execution_count": 9,
   "metadata": {},
   "outputs": [
    {
     "data": {
      "text/plain": [
       "<4x4 sparse matrix of type '<class 'numpy.intc'>'\n",
       "\twith 4 stored elements in Compressed Sparse Row format>"
      ]
     },
     "execution_count": 9,
     "metadata": {},
     "output_type": "execute_result"
    }
   ],
   "source": [
    "A.tocsr()"
   ]
  },
  {
   "cell_type": "code",
   "execution_count": 10,
   "metadata": {},
   "outputs": [
    {
     "data": {
      "text/plain": [
       "array([[0, 1, 0, 0],\n",
       "       [0, 0, 0, 2],\n",
       "       [0, 0, 3, 0],\n",
       "       [4, 0, 0, 0]])"
      ]
     },
     "execution_count": 10,
     "metadata": {},
     "output_type": "execute_result"
    }
   ],
   "source": [
    "A.toarray()"
   ]
  },
  {
   "cell_type": "code",
   "execution_count": 11,
   "metadata": {},
   "outputs": [
    {
     "data": {
      "text/plain": [
       "matrix([[0, 1, 0, 0],\n",
       "        [0, 0, 0, 2],\n",
       "        [0, 0, 3, 0],\n",
       "        [4, 0, 0, 0]])"
      ]
     },
     "execution_count": 11,
     "metadata": {},
     "output_type": "execute_result"
    }
   ],
   "source": [
    "A.todense()"
   ]
  },
  {
   "cell_type": "markdown",
   "metadata": {},
   "source": [
    "## <a id='toc1_2_'></a>[CSR](#toc0_)"
   ]
  },
  {
   "cell_type": "code",
   "execution_count": 12,
   "metadata": {},
   "outputs": [
    {
     "data": {
      "text/plain": [
       "array([[1, 2, 0, 0],\n",
       "       [0, 3, 4, 0],\n",
       "       [0, 0, 5, 6],\n",
       "       [7, 0, 8, 9]])"
      ]
     },
     "execution_count": 12,
     "metadata": {},
     "output_type": "execute_result"
    }
   ],
   "source": [
    "A = np.array([[1, 2, 0, 0], [0, 3, 4, 0], [0, 0, 5, 6], [7, 0, 8, 9]]); \n",
    "A"
   ]
  },
  {
   "cell_type": "code",
   "execution_count": 13,
   "metadata": {},
   "outputs": [],
   "source": [
    "A = sp.csr_matrix(A)"
   ]
  },
  {
   "cell_type": "code",
   "execution_count": 17,
   "metadata": {},
   "outputs": [
    {
     "data": {
      "text/plain": [
       "array([1, 2, 3, 4, 5, 6, 7, 8, 9], dtype=int32)"
      ]
     },
     "execution_count": 17,
     "metadata": {},
     "output_type": "execute_result"
    }
   ],
   "source": [
    "A.data"
   ]
  },
  {
   "cell_type": "code",
   "execution_count": 18,
   "metadata": {},
   "outputs": [
    {
     "data": {
      "text/plain": [
       "array([0, 1, 1, 2, 2, 3, 0, 2, 3])"
      ]
     },
     "execution_count": 18,
     "metadata": {},
     "output_type": "execute_result"
    }
   ],
   "source": [
    "A.indices"
   ]
  },
  {
   "cell_type": "code",
   "execution_count": 19,
   "metadata": {},
   "outputs": [
    {
     "data": {
      "text/plain": [
       "array([0, 2, 4, 6, 9])"
      ]
     },
     "execution_count": 19,
     "metadata": {},
     "output_type": "execute_result"
    }
   ],
   "source": [
    "A.indptr"
   ]
  },
  {
   "cell_type": "markdown",
   "metadata": {},
   "source": [
    "## <a id='toc1_3_'></a>[Funkcje do tworzenia macierzy rzadkich](#toc0_)"
   ]
  },
  {
   "cell_type": "code",
   "execution_count": 20,
   "metadata": {},
   "outputs": [
    {
     "data": {
      "text/plain": [
       "<10x10 sparse matrix of type '<class 'numpy.float64'>'\n",
       "\twith 28 stored elements (3 diagonals) in DIAgonal format>"
      ]
     },
     "execution_count": 20,
     "metadata": {},
     "output_type": "execute_result"
    }
   ],
   "source": [
    "N = 10\n",
    "A = -2 * sp.eye(N) + sp.eye(N, k=1) + sp.eye(N, k=-1)\n",
    "A"
   ]
  },
  {
   "cell_type": "code",
   "execution_count": 21,
   "metadata": {},
   "outputs": [
    {
     "data": {
      "text/plain": [
       "matrix([[-2.,  1.,  0.,  0.,  0.,  0.,  0.,  0.,  0.,  0.],\n",
       "        [ 1., -2.,  1.,  0.,  0.,  0.,  0.,  0.,  0.,  0.],\n",
       "        [ 0.,  1., -2.,  1.,  0.,  0.,  0.,  0.,  0.,  0.],\n",
       "        [ 0.,  0.,  1., -2.,  1.,  0.,  0.,  0.,  0.,  0.],\n",
       "        [ 0.,  0.,  0.,  1., -2.,  1.,  0.,  0.,  0.,  0.],\n",
       "        [ 0.,  0.,  0.,  0.,  1., -2.,  1.,  0.,  0.,  0.],\n",
       "        [ 0.,  0.,  0.,  0.,  0.,  1., -2.,  1.,  0.,  0.],\n",
       "        [ 0.,  0.,  0.,  0.,  0.,  0.,  1., -2.,  1.,  0.],\n",
       "        [ 0.,  0.,  0.,  0.,  0.,  0.,  0.,  1., -2.,  1.],\n",
       "        [ 0.,  0.,  0.,  0.,  0.,  0.,  0.,  0.,  1., -2.]])"
      ]
     },
     "execution_count": 21,
     "metadata": {},
     "output_type": "execute_result"
    }
   ],
   "source": [
    "A.todense()"
   ]
  },
  {
   "cell_type": "code",
   "execution_count": 22,
   "metadata": {},
   "outputs": [
    {
     "data": {
      "image/png": "[encoded data removed]",
      "text/plain": [
       "<Figure size 640x480 with 1 Axes>"
      ]
     },
     "metadata": {},
     "output_type": "display_data"
    }
   ],
   "source": [
    "fig, ax = plt.subplots()\n",
    "ax.spy(A);"
   ]
  },
  {
   "cell_type": "code",
   "execution_count": 37,
   "metadata": {},
   "outputs": [
    {
     "data": {
      "text/plain": [
       "<10x10 sparse matrix of type '<class 'numpy.float64'>'\n",
       "\twith 28 stored elements in Compressed Sparse Column format>"
      ]
     },
     "execution_count": 37,
     "metadata": {},
     "output_type": "execute_result"
    }
   ],
   "source": [
    "A = sp.diags([1,-2,1], [1,0,-1], shape=[N, N], format='csc')\n",
    "A"
   ]
  },
  {
   "cell_type": "code",
   "execution_count": 38,
   "metadata": {},
   "outputs": [
    {
     "data": {
      "text/plain": [
       "<3x3 sparse matrix of type '<class 'numpy.float64'>'\n",
       "\twith 4 stored elements (2 diagonals) in DIAgonal format>"
      ]
     },
     "execution_count": 38,
     "metadata": {},
     "output_type": "execute_result"
    }
   ],
   "source": [
    "B = sp.diags([1, 1], [-1, 1], shape=[3,3])\n",
    "B"
   ]
  },
  {
   "cell_type": "code",
   "execution_count": 39,
   "metadata": {},
   "outputs": [
    {
     "data": {
      "text/plain": [
       "<30x30 sparse matrix of type '<class 'numpy.float64'>'\n",
       "\twith 112 stored elements in Compressed Sparse Row format>"
      ]
     },
     "execution_count": 39,
     "metadata": {},
     "output_type": "execute_result"
    }
   ],
   "source": [
    "C = sp.kron(A, B, format='csr')\n",
    "C"
   ]
  },
  {
   "cell_type": "code",
   "execution_count": 41,
   "metadata": {},
   "outputs": [
    {
     "data": {
      "image/png": "[encoded data removed]",
      "text/plain": [
       "<Figure size 1200x400 with 3 Axes>"
      ]
     },
     "metadata": {},
     "output_type": "display_data"
    }
   ],
   "source": [
    "fig, (ax_A, ax_B, ax_C) = plt.subplots(1, 3, figsize=(12, 4))\n",
    "ax_A.spy(A)\n",
    "ax_B.spy(B)\n",
    "ax_C.spy(C);"
   ]
  },
  {
   "cell_type": "markdown",
   "metadata": {},
   "source": [
    "## <a id='toc1_4_'></a>[Alebra liniowa macierzy rzadkich](#toc0_)"
   ]
  },
  {
   "cell_type": "code",
   "execution_count": 184,
   "metadata": {},
   "outputs": [
    {
     "data": {
      "text/plain": [
       "array([ 5.,  9., 12., 14., 15., 15., 14., 12.,  9.,  5.])"
      ]
     },
     "execution_count": 184,
     "metadata": {},
     "output_type": "execute_result"
    }
   ],
   "source": [
    "N = 10\n",
    "A = sp.diags([1, -2, 1], [1, 0, -1], shape=[N, N], format='csc')\n",
    "b = -np.ones(N)\n",
    "\n",
    "# Solve the system of sparse linear equations\n",
    "x = sp.linalg.spsolve(A, b)\n",
    "x"
   ]
  },
  {
   "cell_type": "code",
   "execution_count": 185,
   "metadata": {},
   "outputs": [],
   "source": [
    "# LU decomposition\n",
    "lu = sp.linalg.splu(A)"
   ]
  },
  {
   "cell_type": "code",
   "execution_count": 187,
   "metadata": {},
   "outputs": [
    {
     "data": {
      "text/plain": [
       "<10x10 sparse matrix of type '<class 'numpy.float64'>'\n",
       "\twith 20 stored elements in Compressed Sparse Column format>"
      ]
     },
     "execution_count": 187,
     "metadata": {},
     "output_type": "execute_result"
    }
   ],
   "source": [
    "lu.L"
   ]
  },
  {
   "cell_type": "code",
   "execution_count": 188,
   "metadata": {},
   "outputs": [
    {
     "data": {
      "text/plain": [
       "array([0, 1, 2, 3, 4, 5, 6, 8, 7, 9], dtype=int32)"
      ]
     },
     "execution_count": 188,
     "metadata": {},
     "output_type": "execute_result"
    }
   ],
   "source": [
    "lu.perm_r"
   ]
  },
  {
   "cell_type": "code",
   "execution_count": 189,
   "metadata": {},
   "outputs": [
    {
     "data": {
      "text/plain": [
       "<10x10 sparse matrix of type '<class 'numpy.float64'>'\n",
       "\twith 20 stored elements in Compressed Sparse Column format>"
      ]
     },
     "execution_count": 189,
     "metadata": {},
     "output_type": "execute_result"
    }
   ],
   "source": [
    "lu.U"
   ]
  },
  {
   "cell_type": "code",
   "execution_count": 190,
   "metadata": {},
   "outputs": [
    {
     "data": {
      "image/png": "[encoded data removed]",
      "text/plain": [
       "<Figure size 1200x400 with 3 Axes>"
      ]
     },
     "metadata": {},
     "output_type": "display_data"
    }
   ],
   "source": [
    "fig, (ax1, ax2, ax3) = plt.subplots(1, 3, figsize=(12, 4))\n",
    "ax1.spy(lu.L)\n",
    "ax2.spy(lu.U)\n",
    "ax3.spy(A);"
   ]
  },
  {
   "cell_type": "code",
   "execution_count": 191,
   "metadata": {},
   "outputs": [
    {
     "data": {
      "text/plain": [
       "array([ 5.,  9., 12., 14., 15., 15., 14., 12.,  9.,  5.])"
      ]
     },
     "execution_count": 191,
     "metadata": {},
     "output_type": "execute_result"
    }
   ],
   "source": [
    "# Solve the system of sparse linear equations using the LU decomposition\n",
    "x = lu.solve(b)\n",
    "x"
   ]
  },
  {
   "cell_type": "code",
   "execution_count": 192,
   "metadata": {},
   "outputs": [
    {
     "data": {
      "text/plain": [
       "(array([ 5.,  9., 12., 14., 15., 15., 14., 12.,  9.,  5.]), 0)"
      ]
     },
     "execution_count": 192,
     "metadata": {},
     "output_type": "execute_result"
    }
   ],
   "source": [
    "# Solve the system of sparse linear equations using the conjugate gradient method\n",
    "x, info = sp.linalg.cg(A, b)\n",
    "x, info"
   ]
  },
  {
   "cell_type": "code",
   "execution_count": 193,
   "metadata": {},
   "outputs": [
    {
     "data": {
      "text/plain": [
       "(array([ 5.,  9., 12., 14., 15., 15., 14., 12.,  9.,  5.]), 0)"
      ]
     },
     "execution_count": 193,
     "metadata": {},
     "output_type": "execute_result"
    }
   ],
   "source": [
    "# Solve the system of sparse linear equations using the BiCGStab method\n",
    "x, info = sp.linalg.bicgstab(A, b)\n",
    "x, info"
   ]
  },
  {
   "cell_type": "code",
   "execution_count": 194,
   "metadata": {},
   "outputs": [
    {
     "data": {
      "text/plain": [
       "(array([ 5.,  9., 12., 14., 15., 15., 14., 12.,  9.,  5.]), 0)"
      ]
     },
     "execution_count": 194,
     "metadata": {},
     "output_type": "execute_result"
    }
   ],
   "source": [
    "# Solve the system of sparse linear equations using the GMRES method\n",
    "x, info = sp.linalg.lgmres(A, b, atol=1e-5)\n",
    "x, info"
   ]
  },
  {
   "cell_type": "markdown",
   "metadata": {},
   "source": [
    "### <a id='toc1_4_1_'></a>[Przykład permutacji macierzy odwrotnym algorytmem Cuthilla-McKee'a](#toc0_)"
   ]
  },
  {
   "cell_type": "code",
   "execution_count": 195,
   "metadata": {},
   "outputs": [],
   "source": [
    "N = 25\n",
    "A = sp.diags([1, -2, 1], [8, 0, -8], shape=[N, N], format='csc')"
   ]
  },
  {
   "cell_type": "code",
   "execution_count": 196,
   "metadata": {},
   "outputs": [],
   "source": [
    "perm = sp.csgraph.reverse_cuthill_mckee(A)\n",
    "M, N = A.shape\n",
    "P = sp.coo_matrix((np.ones(M), (perm, np.arange(N)))).tocsr()\n",
    "A_perm = P.T * A * P"
   ]
  },
  {
   "cell_type": "code",
   "execution_count": 199,
   "metadata": {},
   "outputs": [
    {
     "data": {
      "image/png": "[encoded data removed]",
      "text/plain": [
       "<Figure size 800x400 with 2 Axes>"
      ]
     },
     "metadata": {},
     "output_type": "display_data"
    }
   ],
   "source": [
    "fig, (ax1, ax2) = plt.subplots(1, 2, figsize=(8, 4))\n",
    "ax1.spy(A)\n",
    "ax2.spy(A_perm);"
   ]
  },
  {
   "cell_type": "markdown",
   "metadata": {},
   "source": [
    "### <a id='toc1_4_2_'></a>[Problem wartości własnych](#toc0_)"
   ]
  },
  {
   "cell_type": "code",
   "execution_count": 66,
   "metadata": {},
   "outputs": [
    {
     "data": {
      "text/plain": [
       "array([-3.91898595+0.j, -3.68250707+0.j, -3.30972147+0.j, -2.83083003+0.j])"
      ]
     },
     "execution_count": 66,
     "metadata": {},
     "output_type": "execute_result"
    }
   ],
   "source": [
    "# Find four the largest eigenvalues and corresponding eigenvectors\n",
    "N = 10\n",
    "A = sp.diags([1, -2, 1], [1, 0, -1], shape=[N, N], format='csc')\n",
    "evals, evecs = sp.linalg.eigs(A, k=4, which='LM')\n",
    "evals"
   ]
  },
  {
   "cell_type": "code",
   "execution_count": 67,
   "metadata": {},
   "outputs": [
    {
     "data": {
      "text/plain": [
       "array([-3.91898595+0.j, -2.83083003+0.j, -3.68250707+0.j, -3.30972147+0.j])"
      ]
     },
     "execution_count": 67,
     "metadata": {},
     "output_type": "execute_result"
    }
   ],
   "source": [
    "# Find four eigenvalues with the smallest real part and corresponding eigenvectors\n",
    "evals, evecs = sp.linalg.eigs(A, k=4, which='SR')\n",
    "evals"
   ]
  },
  {
   "cell_type": "markdown",
   "metadata": {},
   "source": [
    "## <a id='toc1_5_'></a>[Grafy](#toc0_)"
   ]
  },
  {
   "cell_type": "code",
   "execution_count": 68,
   "metadata": {},
   "outputs": [],
   "source": [
    "g = nx.MultiGraph()"
   ]
  },
  {
   "cell_type": "code",
   "execution_count": 69,
   "metadata": {},
   "outputs": [],
   "source": [
    "g.add_node(1)"
   ]
  },
  {
   "cell_type": "code",
   "execution_count": 70,
   "metadata": {},
   "outputs": [
    {
     "data": {
      "text/plain": [
       "NodeView((1,))"
      ]
     },
     "execution_count": 70,
     "metadata": {},
     "output_type": "execute_result"
    }
   ],
   "source": [
    "g.nodes()"
   ]
  },
  {
   "cell_type": "code",
   "execution_count": 71,
   "metadata": {},
   "outputs": [],
   "source": [
    "g.add_nodes_from([3, 4, 5])"
   ]
  },
  {
   "cell_type": "code",
   "execution_count": 72,
   "metadata": {},
   "outputs": [
    {
     "data": {
      "text/plain": [
       "NodeView((1, 3, 4, 5))"
      ]
     },
     "execution_count": 72,
     "metadata": {},
     "output_type": "execute_result"
    }
   ],
   "source": [
    "g.nodes()"
   ]
  },
  {
   "cell_type": "code",
   "execution_count": 73,
   "metadata": {},
   "outputs": [
    {
     "data": {
      "text/plain": [
       "0"
      ]
     },
     "execution_count": 73,
     "metadata": {},
     "output_type": "execute_result"
    }
   ],
   "source": [
    "g.add_edge(1, 2)"
   ]
  },
  {
   "cell_type": "code",
   "execution_count": 74,
   "metadata": {},
   "outputs": [
    {
     "data": {
      "text/plain": [
       "MultiEdgeDataView([(1, 2)])"
      ]
     },
     "execution_count": 74,
     "metadata": {},
     "output_type": "execute_result"
    }
   ],
   "source": [
    "g.edges()"
   ]
  },
  {
   "cell_type": "code",
   "execution_count": 75,
   "metadata": {},
   "outputs": [
    {
     "data": {
      "text/plain": [
       "[0, 0]"
      ]
     },
     "execution_count": 75,
     "metadata": {},
     "output_type": "execute_result"
    }
   ],
   "source": [
    "g.add_edges_from([(3, 4), (5, 6)])"
   ]
  },
  {
   "cell_type": "code",
   "execution_count": 76,
   "metadata": {},
   "outputs": [
    {
     "data": {
      "text/plain": [
       "MultiEdgeDataView([(1, 2), (3, 4), (5, 6)])"
      ]
     },
     "execution_count": 76,
     "metadata": {},
     "output_type": "execute_result"
    }
   ],
   "source": [
    "g.edges()"
   ]
  },
  {
   "cell_type": "code",
   "execution_count": 77,
   "metadata": {},
   "outputs": [],
   "source": [
    "g.add_weighted_edges_from([(1, 3, 1.5), (3, 5, 2.5)])"
   ]
  },
  {
   "cell_type": "code",
   "execution_count": 78,
   "metadata": {},
   "outputs": [
    {
     "data": {
      "text/plain": [
       "MultiEdgeDataView([(1, 2), (1, 3), (3, 4), (3, 5), (5, 6)])"
      ]
     },
     "execution_count": 78,
     "metadata": {},
     "output_type": "execute_result"
    }
   ],
   "source": [
    "g.edges()"
   ]
  },
  {
   "cell_type": "code",
   "execution_count": 79,
   "metadata": {},
   "outputs": [
    {
     "data": {
      "text/plain": [
       "MultiEdgeDataView([(1, 2, {}), (1, 3, {'weight': 1.5}), (3, 4, {}), (3, 5, {'weight': 2.5}), (5, 6, {})])"
      ]
     },
     "execution_count": 79,
     "metadata": {},
     "output_type": "execute_result"
    }
   ],
   "source": [
    "g.edges(data=True)"
   ]
  },
  {
   "cell_type": "code",
   "execution_count": 80,
   "metadata": {},
   "outputs": [],
   "source": [
    "g.add_weighted_edges_from([(6, 7, 1.5)])"
   ]
  },
  {
   "cell_type": "code",
   "execution_count": 81,
   "metadata": {},
   "outputs": [
    {
     "data": {
      "text/plain": [
       "NodeView((1, 3, 4, 5, 2, 6, 7))"
      ]
     },
     "execution_count": 81,
     "metadata": {},
     "output_type": "execute_result"
    }
   ],
   "source": [
    "g.nodes()"
   ]
  },
  {
   "cell_type": "code",
   "execution_count": 82,
   "metadata": {},
   "outputs": [
    {
     "data": {
      "text/plain": [
       "MultiEdgeDataView([(1, 2), (1, 3), (3, 4), (3, 5), (5, 6), (6, 7)])"
      ]
     },
     "execution_count": 82,
     "metadata": {},
     "output_type": "execute_result"
    }
   ],
   "source": [
    "g.edges()"
   ]
  },
  {
   "cell_type": "markdown",
   "metadata": {},
   "source": [
    "### <a id='toc1_5_1_'></a>[Graf tokijskiego metra](#toc0_)"
   ]
  },
  {
   "cell_type": "code",
   "execution_count": 200,
   "metadata": {},
   "outputs": [],
   "source": [
    "import numpy as np\n",
    "import json"
   ]
  },
  {
   "cell_type": "code",
   "execution_count": 201,
   "metadata": {},
   "outputs": [],
   "source": [
    "with open(\"../Dane/r10/tokyo-metro.json\") as f:\n",
    "    data = json.load(f)"
   ]
  },
  {
   "cell_type": "code",
   "execution_count": 202,
   "metadata": {},
   "outputs": [
    {
     "data": {
      "text/plain": [
       "dict_keys(['C', 'G', 'F', 'H', 'M', 'N', 'T', 'Y', 'Z'])"
      ]
     },
     "execution_count": 202,
     "metadata": {},
     "output_type": "execute_result"
    }
   ],
   "source": [
    "data.keys()"
   ]
  },
  {
   "cell_type": "code",
   "execution_count": 203,
   "metadata": {},
   "outputs": [
    {
     "data": {
      "text/plain": [
       "{'color': '#149848',\n",
       " 'transfers': [['C3', 'F15'],\n",
       "  ['C4', 'Z2'],\n",
       "  ['C4', 'G2'],\n",
       "  ['C7', 'M14'],\n",
       "  ['C7', 'N6'],\n",
       "  ['C7', 'G6'],\n",
       "  ['C8', 'M15'],\n",
       "  ['C8', 'H6'],\n",
       "  ['C9', 'H7'],\n",
       "  ['C9', 'Y18'],\n",
       "  ['C11', 'T9'],\n",
       "  ['C11', 'M18'],\n",
       "  ['C11', 'Z8'],\n",
       "  ['C12', 'M19'],\n",
       "  ['C18', 'H21']],\n",
       " 'travel_times': [['C1', 'C2', 2],\n",
       "  ['C2', 'C3', 2],\n",
       "  ['C3', 'C4', 1],\n",
       "  ['C4', 'C5', 2],\n",
       "  ['C5', 'C6', 2],\n",
       "  ['C6', 'C7', 2],\n",
       "  ['C7', 'C8', 1],\n",
       "  ['C8', 'C9', 3],\n",
       "  ['C9', 'C10', 1],\n",
       "  ['C10', 'C11', 2],\n",
       "  ['C11', 'C12', 2],\n",
       "  ['C12', 'C13', 2],\n",
       "  ['C13', 'C14', 2],\n",
       "  ['C14', 'C15', 2],\n",
       "  ['C15', 'C16', 2],\n",
       "  ['C16', 'C17', 3],\n",
       "  ['C17', 'C18', 3],\n",
       "  ['C18', 'C19', 3]]}"
      ]
     },
     "execution_count": 203,
     "metadata": {},
     "output_type": "execute_result"
    }
   ],
   "source": [
    "data[\"C\"]"
   ]
  },
  {
   "cell_type": "code",
   "execution_count": 204,
   "metadata": {},
   "outputs": [],
   "source": [
    "# Create a graph from the data\n",
    "g = nx.Graph()\n",
    "\n",
    "for line in data.values():\n",
    "    g.add_weighted_edges_from(line[\"travel_times\"])\n",
    "    g.add_edges_from(line[\"transfers\"])"
   ]
  },
  {
   "cell_type": "code",
   "execution_count": 205,
   "metadata": {},
   "outputs": [
    {
     "data": {
      "text/plain": [
       "EdgeDataView([('C1', 'C2', {'weight': 2}), ('C2', 'C3', {'weight': 2}), ('C3', 'C4', {'weight': 1}), ('C3', 'F15', {}), ('C4', 'C5', {'weight': 2}), ('C4', 'Z2', {}), ('C4', 'G2', {}), ('C5', 'C6', {'weight': 2}), ('C6', 'C7', {'weight': 2}), ('C7', 'C8', {'weight': 1}), ('C7', 'M14', {}), ('C7', 'N6', {}), ('C7', 'G6', {}), ('C8', 'C9', {'weight': 3}), ('C8', 'M15', {}), ('C8', 'H6', {}), ('C9', 'C10', {'weight': 1}), ('C9', 'H7', {}), ('C9', 'Y18', {}), ('C10', 'C11', {'weight': 2}), ('C11', 'C12', {'weight': 2}), ('C11', 'T9', {}), ('C11', 'M18', {}), ('C11', 'Z8', {}), ('C12', 'C13', {'weight': 2}), ('C12', 'M19', {}), ('C13', 'C14', {'weight': 2}), ('C14', 'C15', {'weight': 2}), ('C15', 'C16', {'weight': 2}), ('C16', 'C17', {'weight': 3}), ('C17', 'C18', {'weight': 3}), ('C18', 'C19', {'weight': 3}), ('C18', 'H21', {}), ('F15', 'F14', {'weight': 2}), ('F15', 'F16', {'weight': 2}), ('Z2', 'G2', {}), ('Z2', 'Z1', {'weight': 3}), ('Z2', 'Z3', {'weight': 2}), ('G2', 'G1', {'weight': 2}), ('G2', 'G3', {'weight': 1}), ('M14', 'G6', {}), ('M14', 'M13', {'weight': 2}), ('M14', 'M15', {'weight': 1}), ('M14', 'N6', {}), ('N6', 'G6', {}), ('N6', 'N5', {'weight': 2}), ('N6', 'N7', {'weight': 2}), ('G6', 'G5', {'weight': 2}), ('G6', 'G7', {'weight': 2}), ('M15', 'H6', {}), ('M15', 'M16', {'weight': 3}), ('H6', 'H5', {'weight': 2}), ('H6', 'H7', {'weight': 3}), ('H7', 'H8', {'weight': 1}), ('H7', 'Y18', {}), ('Y18', 'Y17', {'weight': 2}), ('Y18', 'Y19', {'weight': 2}), ('T9', 'M18', {}), ('T9', 'T8', {'weight': 16}), ('T9', 'T10', {'weight': 18}), ('T9', 'Z8', {}), ('M18', 'M17', {'weight': 2}), ('M18', 'M19', {'weight': 2}), ('M18', 'Z8', {}), ('Z8', 'Z7', {'weight': 2}), ('Z8', 'Z9', {'weight': 2}), ('M19', 'M20', {'weight': 1}), ('H21', 'H20', {'weight': 3}), ('G1', 'Z1', {}), ('G1', 'F16', {}), ('G3', 'G4', {'weight': 2}), ('G4', 'G5', {'weight': 2}), ('G4', 'Z3', {}), ('G5', 'M13', {}), ('G5', 'Y16', {}), ('G5', 'Z4', {}), ('G5', 'N7', {}), ('G7', 'G8', {'weight': 2}), ('G8', 'G9', {'weight': 2}), ('G9', 'G10', {'weight': 1}), ('G9', 'M16', {}), ('G9', 'H8', {}), ('G10', 'G11', {'weight': 2}), ('G11', 'G12', {'weight': 2}), ('G11', 'T10', {}), ('G12', 'G13', {'weight': 1}), ('G12', 'Z9', {}), ('G13', 'G14', {'weight': 2}), ('G14', 'G15', {'weight': 2}), ('G15', 'G16', {'weight': 1}), ('G15', 'H16', {}), ('G16', 'G17', {'weight': 2}), ('G16', 'H17', {}), ('G17', 'G18', {'weight': 1}), ('G18', 'G19', {'weight': 2}), ('Z1', 'F16', {}), ('Z3', 'Z4', {'weight': 2}), ('M13', 'M12', {'weight': 3}), ('M13', 'Y16', {}), ('M13', 'Z4', {}), ('M13', 'N7', {}), ('Y16', 'N7', {}), ('Y16', 'Y15', {'weight': 1}), ('Y16', 'Y17', {'weight': 2}), ('Y16', 'Z4', {}), ('Z4', 'N7', {}), ('Z4', 'Z5', {'weight': 2}), ('N7', 'N8', {'weight': 2}), ('M16', 'H8', {}), ('M16', 'M17', {'weight': 2}), ('H8', 'H9', {'weight': 2}), ('T10', 'T11', {'weight': 20}), ('Z9', 'Z10', {'weight': 3}), ('H16', 'H15', {'weight': 2}), ('H16', 'H17', {'weight': 1}), ('H17', 'H18', {'weight': 2}), ('F1', 'F2', {'weight': 3}), ('F1', 'Y1', {}), ('F2', 'F3', {'weight': 2}), ('F2', 'Y2', {}), ('F3', 'F4', {'weight': 3}), ('F3', 'Y3', {}), ('F4', 'F5', {'weight': 2}), ('F4', 'Y4', {}), ('F5', 'F6', {'weight': 2}), ('F5', 'Y5', {}), ('F6', 'F7', {'weight': 2}), ('F6', 'Y6', {}), ('F7', 'F8', {'weight': 2}), ('F7', 'Y7', {}), ('F8', 'F9', {'weight': 2}), ('F8', 'Y8', {}), ('F9', 'F10', {'weight': 3}), ('F9', 'Y9', {}), ('F9', 'M25', {}), ('F10', 'F11', {'weight': 2}), ('F11', 'F12', {'weight': 2}), ('F12', 'F13', {'weight': 2}), ('F13', 'F14', {'weight': 3}), ('F13', 'M9', {}), ('Y1', 'Y2', {'weight': 4}), ('Y2', 'Y3', {'weight': 2}), ('Y3', 'Y4', {'weight': 3}), ('Y4', 'Y5', {'weight': 2}), ('Y5', 'Y6', {'weight': 2}), ('Y6', 'Y7', {'weight': 2}), ('Y7', 'Y8', {'weight': 2}), ('Y8', 'Y9', {'weight': 3}), ('Y9', 'M25', {}), ('Y9', 'Y10', {'weight': 2}), ('M25', 'M24', {'weight': 3}), ('M9', 'M8', {'weight': 2}), ('M9', 'M10', {'weight': 1}), ('H1', 'H2', {'weight': 3}), ('H2', 'H3', {'weight': 3}), ('H3', 'H4', {'weight': 3}), ('H4', 'H5', {'weight': 3}), ('H9', 'H10', {'weight': 2}), ('H10', 'H11', {'weight': 2}), ('H11', 'H12', {'weight': 1}), ('H12', 'H13', {'weight': 3}), ('H12', 'T11', {}), ('H13', 'H14', {'weight': 1}), ('H14', 'H15', {'weight': 2}), ('H18', 'H19', {'weight': 2}), ('H19', 'H20', {'weight': 2}), ('T11', 'T12', {'weight': 21}), ('M1', 'M2', {'weight': 2}), ('M2', 'M3', {'weight': 2}), ('M3', 'M4', {'weight': 2}), ('M4', 'M5', {'weight': 2}), ('M5', 'M6', {'weight': 2}), ('M6', 'M7', {'weight': 2}), ('M6', 'm5', {'weight': 2}), ('M7', 'M8', {'weight': 2}), ('M10', 'M11', {'weight': 2}), ('M11', 'M12', {'weight': 2}), ('M12', 'N8', {}), ('M20', 'M21', {'weight': 2}), ('M21', 'M22', {'weight': 2}), ('M22', 'M23', {'weight': 3}), ('M22', 'N11', {}), ('M23', 'M24', {'weight': 2}), ('m3', 'm4', {'weight': 2}), ('m4', 'm5', {'weight': 2}), ('N8', 'N9', {'weight': 2}), ('N11', 'N10', {'weight': 2}), ('N11', 'N12', {'weight': 3}), ('N1', 'N2', {'weight': 2}), ('N1', 'T1', {}), ('N2', 'N3', {'weight': 2}), ('N2', 'T2', {}), ('N3', 'N4', {'weight': 2}), ('N3', 'T3', {}), ('N4', 'N5', {'weight': 2}), ('N9', 'N10', {'weight': 2}), ('N9', 'Y14', {}), ('N10', 'Y13', {}), ('N10', 'T6', {}), ('N12', 'N13', {'weight': 2}), ('N13', 'N14', {'weight': 2}), ('N14', 'N15', {'weight': 3}), ('N15', 'N16', {'weight': 1}), ('N16', 'N17', {'weight': 3}), ('N17', 'N18', {'weight': 2}), ('N18', 'N19', {'weight': 2}), ('T1', 'T2', {'weight': 0}), ('T2', 'T3', {'weight': 3}), ('T3', 'T4', {'weight': 6}), ('Y14', 'Y13', {'weight': 2}), ('Y14', 'Y15', {'weight': 2}), ('Y13', 'T6', {}), ('Y13', 'Y12', {'weight': 3}), ('T6', 'T5', {'weight': 11}), ('T6', 'T7', {'weight': 13}), ('T4', 'T5', {'weight': 9}), ('T7', 'T8', {'weight': 14}), ('T7', 'Z6', {}), ('T12', 'T13', {'weight': 24}), ('T13', 'T14', {'weight': 26}), ('T14', 'T15', {'weight': 27}), ('T15', 'T16', {'weight': 30}), ('T16', 'T17', {'weight': 33}), ('T17', 'T18', {'weight': 35}), ('T18', 'T19', {'weight': 37}), ('T19', 'T20', {'weight': 39}), ('T20', 'T21', {'weight': 41}), ('T21', 'T22', {'weight': 43}), ('T22', 'T23', {'weight': 46}), ('T23', 'T24', {'weight': 49}), ('Z6', 'Z5', {'weight': 2}), ('Z6', 'Z7', {'weight': 2}), ('Y10', 'Y11', {'weight': 2}), ('Y11', 'Y12', {'weight': 2}), ('Y19', 'Y20', {'weight': 2}), ('Y20', 'Y21', {'weight': 2}), ('Y21', 'Y22', {'weight': 2}), ('Y22', 'Y23', {'weight': 3}), ('Y23', 'Y24', {'weight': 2}), ('Z10', 'Z11', {'weight': 3}), ('Z11', 'Z12', {'weight': 3}), ('Z12', 'Z13', {'weight': 2}), ('Z13', 'Z14', {'weight': 2})])"
      ]
     },
     "execution_count": 205,
     "metadata": {},
     "output_type": "execute_result"
    }
   ],
   "source": [
    "g.edges(data=True)"
   ]
  },
  {
   "cell_type": "code",
   "execution_count": 206,
   "metadata": {},
   "outputs": [],
   "source": [
    "# Set the transfer attribute to True for edges that do not have a weight attribute\n",
    "for n1, n2 in g.edges():\n",
    "    g[n1][n2][\"transfer\"] = \"weight\" not in g[n1][n2]"
   ]
  },
  {
   "cell_type": "code",
   "execution_count": 207,
   "metadata": {},
   "outputs": [
    {
     "data": {
      "text/plain": [
       "EdgeDataView([('C1', 'C2', {'weight': 2, 'transfer': False}), ('C2', 'C3', {'weight': 2, 'transfer': False}), ('C3', 'C4', {'weight': 1, 'transfer': False}), ('C3', 'F15', {'transfer': True}), ('C4', 'C5', {'weight': 2, 'transfer': False}), ('C4', 'Z2', {'transfer': True}), ('C4', 'G2', {'transfer': True}), ('C5', 'C6', {'weight': 2, 'transfer': False}), ('C6', 'C7', {'weight': 2, 'transfer': False}), ('C7', 'C8', {'weight': 1, 'transfer': False}), ('C7', 'M14', {'transfer': True}), ('C7', 'N6', {'transfer': True}), ('C7', 'G6', {'transfer': True}), ('C8', 'C9', {'weight': 3, 'transfer': False}), ('C8', 'M15', {'transfer': True}), ('C8', 'H6', {'transfer': True}), ('C9', 'C10', {'weight': 1, 'transfer': False}), ('C9', 'H7', {'transfer': True}), ('C9', 'Y18', {'transfer': True}), ('C10', 'C11', {'weight': 2, 'transfer': False}), ('C11', 'C12', {'weight': 2, 'transfer': False}), ('C11', 'T9', {'transfer': True}), ('C11', 'M18', {'transfer': True}), ('C11', 'Z8', {'transfer': True}), ('C12', 'C13', {'weight': 2, 'transfer': False}), ('C12', 'M19', {'transfer': True}), ('C13', 'C14', {'weight': 2, 'transfer': False}), ('C14', 'C15', {'weight': 2, 'transfer': False}), ('C15', 'C16', {'weight': 2, 'transfer': False}), ('C16', 'C17', {'weight': 3, 'transfer': False}), ('C17', 'C18', {'weight': 3, 'transfer': False}), ('C18', 'C19', {'weight': 3, 'transfer': False}), ('C18', 'H21', {'transfer': True}), ('F15', 'F14', {'weight': 2, 'transfer': False}), ('F15', 'F16', {'weight': 2, 'transfer': False}), ('Z2', 'G2', {'transfer': True}), ('Z2', 'Z1', {'weight': 3, 'transfer': False}), ('Z2', 'Z3', {'weight': 2, 'transfer': False}), ('G2', 'G1', {'weight': 2, 'transfer': False}), ('G2', 'G3', {'weight': 1, 'transfer': False}), ('M14', 'G6', {'transfer': True}), ('M14', 'M13', {'weight': 2, 'transfer': False}), ('M14', 'M15', {'weight': 1, 'transfer': False}), ('M14', 'N6', {'transfer': True}), ('N6', 'G6', {'transfer': True}), ('N6', 'N5', {'weight': 2, 'transfer': False}), ('N6', 'N7', {'weight': 2, 'transfer': False}), ('G6', 'G5', {'weight': 2, 'transfer': False}), ('G6', 'G7', {'weight': 2, 'transfer': False}), ('M15', 'H6', {'transfer': True}), ('M15', 'M16', {'weight': 3, 'transfer': False}), ('H6', 'H5', {'weight': 2, 'transfer': False}), ('H6', 'H7', {'weight': 3, 'transfer': False}), ('H7', 'H8', {'weight': 1, 'transfer': False}), ('H7', 'Y18', {'transfer': True}), ('Y18', 'Y17', {'weight': 2, 'transfer': False}), ('Y18', 'Y19', {'weight': 2, 'transfer': False}), ('T9', 'M18', {'transfer': True}), ('T9', 'T8', {'weight': 16, 'transfer': False}), ('T9', 'T10', {'weight': 18, 'transfer': False}), ('T9', 'Z8', {'transfer': True}), ('M18', 'M17', {'weight': 2, 'transfer': False}), ('M18', 'M19', {'weight': 2, 'transfer': False}), ('M18', 'Z8', {'transfer': True}), ('Z8', 'Z7', {'weight': 2, 'transfer': False}), ('Z8', 'Z9', {'weight': 2, 'transfer': False}), ('M19', 'M20', {'weight': 1, 'transfer': False}), ('H21', 'H20', {'weight': 3, 'transfer': False}), ('G1', 'Z1', {'transfer': True}), ('G1', 'F16', {'transfer': True}), ('G3', 'G4', {'weight': 2, 'transfer': False}), ('G4', 'G5', {'weight': 2, 'transfer': False}), ('G4', 'Z3', {'transfer': True}), ('G5', 'M13', {'transfer': True}), ('G5', 'Y16', {'transfer': True}), ('G5', 'Z4', {'transfer': True}), ('G5', 'N7', {'transfer': True}), ('G7', 'G8', {'weight': 2, 'transfer': False}), ('G8', 'G9', {'weight': 2, 'transfer': False}), ('G9', 'G10', {'weight': 1, 'transfer': False}), ('G9', 'M16', {'transfer': True}), ('G9', 'H8', {'transfer': True}), ('G10', 'G11', {'weight': 2, 'transfer': False}), ('G11', 'G12', {'weight': 2, 'transfer': False}), ('G11', 'T10', {'transfer': True}), ('G12', 'G13', {'weight': 1, 'transfer': False}), ('G12', 'Z9', {'transfer': True}), ('G13', 'G14', {'weight': 2, 'transfer': False}), ('G14', 'G15', {'weight': 2, 'transfer': False}), ('G15', 'G16', {'weight': 1, 'transfer': False}), ('G15', 'H16', {'transfer': True}), ('G16', 'G17', {'weight': 2, 'transfer': False}), ('G16', 'H17', {'transfer': True}), ('G17', 'G18', {'weight': 1, 'transfer': False}), ('G18', 'G19', {'weight': 2, 'transfer': False}), ('Z1', 'F16', {'transfer': True}), ('Z3', 'Z4', {'weight': 2, 'transfer': False}), ('M13', 'M12', {'weight': 3, 'transfer': False}), ('M13', 'Y16', {'transfer': True}), ('M13', 'Z4', {'transfer': True}), ('M13', 'N7', {'transfer': True}), ('Y16', 'N7', {'transfer': True}), ('Y16', 'Y15', {'weight': 1, 'transfer': False}), ('Y16', 'Y17', {'weight': 2, 'transfer': False}), ('Y16', 'Z4', {'transfer': True}), ('Z4', 'N7', {'transfer': True}), ('Z4', 'Z5', {'weight': 2, 'transfer': False}), ('N7', 'N8', {'weight': 2, 'transfer': False}), ('M16', 'H8', {'transfer': True}), ('M16', 'M17', {'weight': 2, 'transfer': False}), ('H8', 'H9', {'weight': 2, 'transfer': False}), ('T10', 'T11', {'weight': 20, 'transfer': False}), ('Z9', 'Z10', {'weight': 3, 'transfer': False}), ('H16', 'H15', {'weight': 2, 'transfer': False}), ('H16', 'H17', {'weight': 1, 'transfer': False}), ('H17', 'H18', {'weight': 2, 'transfer': False}), ('F1', 'F2', {'weight': 3, 'transfer': False}), ('F1', 'Y1', {'transfer': True}), ('F2', 'F3', {'weight': 2, 'transfer': False}), ('F2', 'Y2', {'transfer': True}), ('F3', 'F4', {'weight': 3, 'transfer': False}), ('F3', 'Y3', {'transfer': True}), ('F4', 'F5', {'weight': 2, 'transfer': False}), ('F4', 'Y4', {'transfer': True}), ('F5', 'F6', {'weight': 2, 'transfer': False}), ('F5', 'Y5', {'transfer': True}), ('F6', 'F7', {'weight': 2, 'transfer': False}), ('F6', 'Y6', {'transfer': True}), ('F7', 'F8', {'weight': 2, 'transfer': False}), ('F7', 'Y7', {'transfer': True}), ('F8', 'F9', {'weight': 2, 'transfer': False}), ('F8', 'Y8', {'transfer': True}), ('F9', 'F10', {'weight': 3, 'transfer': False}), ('F9', 'Y9', {'transfer': True}), ('F9', 'M25', {'transfer': True}), ('F10', 'F11', {'weight': 2, 'transfer': False}), ('F11', 'F12', {'weight': 2, 'transfer': False}), ('F12', 'F13', {'weight': 2, 'transfer': False}), ('F13', 'F14', {'weight': 3, 'transfer': False}), ('F13', 'M9', {'transfer': True}), ('Y1', 'Y2', {'weight': 4, 'transfer': False}), ('Y2', 'Y3', {'weight': 2, 'transfer': False}), ('Y3', 'Y4', {'weight': 3, 'transfer': False}), ('Y4', 'Y5', {'weight': 2, 'transfer': False}), ('Y5', 'Y6', {'weight': 2, 'transfer': False}), ('Y6', 'Y7', {'weight': 2, 'transfer': False}), ('Y7', 'Y8', {'weight': 2, 'transfer': False}), ('Y8', 'Y9', {'weight': 3, 'transfer': False}), ('Y9', 'M25', {'transfer': True}), ('Y9', 'Y10', {'weight': 2, 'transfer': False}), ('M25', 'M24', {'weight': 3, 'transfer': False}), ('M9', 'M8', {'weight': 2, 'transfer': False}), ('M9', 'M10', {'weight': 1, 'transfer': False}), ('H1', 'H2', {'weight': 3, 'transfer': False}), ('H2', 'H3', {'weight': 3, 'transfer': False}), ('H3', 'H4', {'weight': 3, 'transfer': False}), ('H4', 'H5', {'weight': 3, 'transfer': False}), ('H9', 'H10', {'weight': 2, 'transfer': False}), ('H10', 'H11', {'weight': 2, 'transfer': False}), ('H11', 'H12', {'weight': 1, 'transfer': False}), ('H12', 'H13', {'weight': 3, 'transfer': False}), ('H12', 'T11', {'transfer': True}), ('H13', 'H14', {'weight': 1, 'transfer': False}), ('H14', 'H15', {'weight': 2, 'transfer': False}), ('H18', 'H19', {'weight': 2, 'transfer': False}), ('H19', 'H20', {'weight': 2, 'transfer': False}), ('T11', 'T12', {'weight': 21, 'transfer': False}), ('M1', 'M2', {'weight': 2, 'transfer': False}), ('M2', 'M3', {'weight': 2, 'transfer': False}), ('M3', 'M4', {'weight': 2, 'transfer': False}), ('M4', 'M5', {'weight': 2, 'transfer': False}), ('M5', 'M6', {'weight': 2, 'transfer': False}), ('M6', 'M7', {'weight': 2, 'transfer': False}), ('M6', 'm5', {'weight': 2, 'transfer': False}), ('M7', 'M8', {'weight': 2, 'transfer': False}), ('M10', 'M11', {'weight': 2, 'transfer': False}), ('M11', 'M12', {'weight': 2, 'transfer': False}), ('M12', 'N8', {'transfer': True}), ('M20', 'M21', {'weight': 2, 'transfer': False}), ('M21', 'M22', {'weight': 2, 'transfer': False}), ('M22', 'M23', {'weight': 3, 'transfer': False}), ('M22', 'N11', {'transfer': True}), ('M23', 'M24', {'weight': 2, 'transfer': False}), ('m3', 'm4', {'weight': 2, 'transfer': False}), ('m4', 'm5', {'weight': 2, 'transfer': False}), ('N8', 'N9', {'weight': 2, 'transfer': False}), ('N11', 'N10', {'weight': 2, 'transfer': False}), ('N11', 'N12', {'weight': 3, 'transfer': False}), ('N1', 'N2', {'weight': 2, 'transfer': False}), ('N1', 'T1', {'transfer': True}), ('N2', 'N3', {'weight': 2, 'transfer': False}), ('N2', 'T2', {'transfer': True}), ('N3', 'N4', {'weight': 2, 'transfer': False}), ('N3', 'T3', {'transfer': True}), ('N4', 'N5', {'weight': 2, 'transfer': False}), ('N9', 'N10', {'weight': 2, 'transfer': False}), ('N9', 'Y14', {'transfer': True}), ('N10', 'Y13', {'transfer': True}), ('N10', 'T6', {'transfer': True}), ('N12', 'N13', {'weight': 2, 'transfer': False}), ('N13', 'N14', {'weight': 2, 'transfer': False}), ('N14', 'N15', {'weight': 3, 'transfer': False}), ('N15', 'N16', {'weight': 1, 'transfer': False}), ('N16', 'N17', {'weight': 3, 'transfer': False}), ('N17', 'N18', {'weight': 2, 'transfer': False}), ('N18', 'N19', {'weight': 2, 'transfer': False}), ('T1', 'T2', {'weight': 0, 'transfer': False}), ('T2', 'T3', {'weight': 3, 'transfer': False}), ('T3', 'T4', {'weight': 6, 'transfer': False}), ('Y14', 'Y13', {'weight': 2, 'transfer': False}), ('Y14', 'Y15', {'weight': 2, 'transfer': False}), ('Y13', 'T6', {'transfer': True}), ('Y13', 'Y12', {'weight': 3, 'transfer': False}), ('T6', 'T5', {'weight': 11, 'transfer': False}), ('T6', 'T7', {'weight': 13, 'transfer': False}), ('T4', 'T5', {'weight': 9, 'transfer': False}), ('T7', 'T8', {'weight': 14, 'transfer': False}), ('T7', 'Z6', {'transfer': True}), ('T12', 'T13', {'weight': 24, 'transfer': False}), ('T13', 'T14', {'weight': 26, 'transfer': False}), ('T14', 'T15', {'weight': 27, 'transfer': False}), ('T15', 'T16', {'weight': 30, 'transfer': False}), ('T16', 'T17', {'weight': 33, 'transfer': False}), ('T17', 'T18', {'weight': 35, 'transfer': False}), ('T18', 'T19', {'weight': 37, 'transfer': False}), ('T19', 'T20', {'weight': 39, 'transfer': False}), ('T20', 'T21', {'weight': 41, 'transfer': False}), ('T21', 'T22', {'weight': 43, 'transfer': False}), ('T22', 'T23', {'weight': 46, 'transfer': False}), ('T23', 'T24', {'weight': 49, 'transfer': False}), ('Z6', 'Z5', {'weight': 2, 'transfer': False}), ('Z6', 'Z7', {'weight': 2, 'transfer': False}), ('Y10', 'Y11', {'weight': 2, 'transfer': False}), ('Y11', 'Y12', {'weight': 2, 'transfer': False}), ('Y19', 'Y20', {'weight': 2, 'transfer': False}), ('Y20', 'Y21', {'weight': 2, 'transfer': False}), ('Y21', 'Y22', {'weight': 2, 'transfer': False}), ('Y22', 'Y23', {'weight': 3, 'transfer': False}), ('Y23', 'Y24', {'weight': 2, 'transfer': False}), ('Z10', 'Z11', {'weight': 3, 'transfer': False}), ('Z11', 'Z12', {'weight': 3, 'transfer': False}), ('Z12', 'Z13', {'weight': 2, 'transfer': False}), ('Z13', 'Z14', {'weight': 2, 'transfer': False})])"
      ]
     },
     "execution_count": 207,
     "metadata": {},
     "output_type": "execute_result"
    }
   ],
   "source": [
    "g.edges(data=True)"
   ]
  },
  {
   "cell_type": "code",
   "execution_count": 208,
   "metadata": {},
   "outputs": [
    {
     "data": {
      "text/plain": [
       "(184, 243)"
      ]
     },
     "execution_count": 208,
     "metadata": {},
     "output_type": "execute_result"
    }
   ],
   "source": [
    "g.number_of_nodes(), g.number_of_edges()"
   ]
  },
  {
   "cell_type": "code",
   "execution_count": 209,
   "metadata": {},
   "outputs": [],
   "source": [
    "# List of edges that represent a transfer\n",
    "on_foot = [e for e in g.edges() if g.get_edge_data(*e)[\"transfer\"]]"
   ]
  },
  {
   "cell_type": "code",
   "execution_count": 210,
   "metadata": {},
   "outputs": [],
   "source": [
    "# List of edges that represent a travel time\n",
    "on_train = [e for e in g.edges() if not g.get_edge_data(*e)[\"transfer\"]]"
   ]
  },
  {
   "cell_type": "code",
   "execution_count": 211,
   "metadata": {},
   "outputs": [
    {
     "data": {
      "text/plain": [
       "NodeView(('C1', 'C2', 'C3', 'C4', 'C5', 'C6', 'C7', 'C8', 'C9', 'C10', 'C11', 'C12', 'C13', 'C14', 'C15', 'C16', 'C17', 'C18', 'C19', 'F15', 'Z2', 'G2', 'M14', 'N6', 'G6', 'M15', 'H6', 'H7', 'Y18', 'T9', 'M18', 'Z8', 'M19', 'H21', 'G1', 'G3', 'G4', 'G5', 'G7', 'G8', 'G9', 'G10', 'G11', 'G12', 'G13', 'G14', 'G15', 'G16', 'G17', 'G18', 'G19', 'Z1', 'F16', 'Z3', 'M13', 'Y16', 'Z4', 'N7', 'M16', 'H8', 'T10', 'Z9', 'H16', 'H17', 'F1', 'F2', 'F3', 'F4', 'F5', 'F6', 'F7', 'F8', 'F9', 'F10', 'F11', 'F12', 'F13', 'F14', 'Y1', 'Y2', 'Y3', 'Y4', 'Y5', 'Y6', 'Y7', 'Y8', 'Y9', 'M25', 'M9', 'H1', 'H2', 'H3', 'H4', 'H5', 'H9', 'H10', 'H11', 'H12', 'H13', 'H14', 'H15', 'H18', 'H19', 'H20', 'T11', 'M1', 'M2', 'M3', 'M4', 'M5', 'M6', 'M7', 'M8', 'M10', 'M11', 'M12', 'M17', 'M20', 'M21', 'M22', 'M23', 'M24', 'm3', 'm4', 'm5', 'N8', 'N11', 'N1', 'N2', 'N3', 'N4', 'N5', 'N9', 'N10', 'N12', 'N13', 'N14', 'N15', 'N16', 'N17', 'N18', 'N19', 'T1', 'T2', 'T3', 'Y14', 'Y13', 'T6', 'T4', 'T5', 'T7', 'T8', 'T12', 'T13', 'T14', 'T15', 'T16', 'T17', 'T18', 'T19', 'T20', 'T21', 'T22', 'T23', 'T24', 'Z6', 'Y10', 'Y11', 'Y12', 'Y15', 'Y17', 'Y19', 'Y20', 'Y21', 'Y22', 'Y23', 'Y24', 'Z5', 'Z7', 'Z10', 'Z11', 'Z12', 'Z13', 'Z14'))"
      ]
     },
     "execution_count": 211,
     "metadata": {},
     "output_type": "execute_result"
    }
   ],
   "source": [
    "g.nodes()"
   ]
  },
  {
   "cell_type": "code",
   "execution_count": 212,
   "metadata": {},
   "outputs": [],
   "source": [
    "# Set the color attribute for each metro line\n",
    "colors = [data[n[0].upper()][\"color\"] for n in g.nodes()]"
   ]
  },
  {
   "cell_type": "code",
   "execution_count": 246,
   "metadata": {},
   "outputs": [
    {
     "data": {
      "image/png": "[encoded data removed]",
      "text/plain": [
       "<Figure size 640x480 with 1 Axes>"
      ]
     },
     "metadata": {},
     "output_type": "display_data"
    }
   ],
   "source": [
    "nx.draw(g, node_size=25, node_color=colors)"
   ]
  },
  {
   "cell_type": "code",
   "execution_count": 214,
   "metadata": {},
   "outputs": [
    {
     "data": {
      "text/plain": [
       "DegreeView({'C1': 1, 'C2': 2, 'C3': 3, 'C4': 4, 'C5': 2, 'C6': 2, 'C7': 5, 'C8': 4, 'C9': 4, 'C10': 2, 'C11': 5, 'C12': 3, 'C13': 2, 'C14': 2, 'C15': 2, 'C16': 2, 'C17': 2, 'C18': 3, 'C19': 1, 'F15': 3, 'Z2': 4, 'G2': 4, 'M14': 5, 'N6': 5, 'G6': 5, 'M15': 4, 'H6': 4, 'H7': 4, 'Y18': 4, 'T9': 5, 'M18': 5, 'Z8': 5, 'M19': 3, 'H21': 2, 'G1': 3, 'G3': 2, 'G4': 3, 'G5': 6, 'G7': 2, 'G8': 2, 'G9': 4, 'G10': 2, 'G11': 3, 'G12': 3, 'G13': 2, 'G14': 2, 'G15': 3, 'G16': 3, 'G17': 2, 'G18': 2, 'G19': 1, 'Z1': 3, 'F16': 3, 'Z3': 3, 'M13': 6, 'Y16': 6, 'Z4': 6, 'N7': 6, 'M16': 4, 'H8': 4, 'T10': 3, 'Z9': 3, 'H16': 3, 'H17': 3, 'F1': 2, 'F2': 3, 'F3': 3, 'F4': 3, 'F5': 3, 'F6': 3, 'F7': 3, 'F8': 3, 'F9': 4, 'F10': 2, 'F11': 2, 'F12': 2, 'F13': 3, 'F14': 2, 'Y1': 2, 'Y2': 3, 'Y3': 3, 'Y4': 3, 'Y5': 3, 'Y6': 3, 'Y7': 3, 'Y8': 3, 'Y9': 4, 'M25': 3, 'M9': 3, 'H1': 1, 'H2': 2, 'H3': 2, 'H4': 2, 'H5': 2, 'H9': 2, 'H10': 2, 'H11': 2, 'H12': 3, 'H13': 2, 'H14': 2, 'H15': 2, 'H18': 2, 'H19': 2, 'H20': 2, 'T11': 3, 'M1': 1, 'M2': 2, 'M3': 2, 'M4': 2, 'M5': 2, 'M6': 3, 'M7': 2, 'M8': 2, 'M10': 2, 'M11': 2, 'M12': 3, 'M17': 2, 'M20': 2, 'M21': 2, 'M22': 3, 'M23': 2, 'M24': 2, 'm3': 1, 'm4': 2, 'm5': 2, 'N8': 3, 'N11': 3, 'N1': 2, 'N2': 3, 'N3': 3, 'N4': 2, 'N5': 2, 'N9': 3, 'N10': 4, 'N12': 2, 'N13': 2, 'N14': 2, 'N15': 2, 'N16': 2, 'N17': 2, 'N18': 2, 'N19': 1, 'T1': 2, 'T2': 3, 'T3': 3, 'Y14': 3, 'Y13': 4, 'T6': 4, 'T4': 2, 'T5': 2, 'T7': 3, 'T8': 2, 'T12': 2, 'T13': 2, 'T14': 2, 'T15': 2, 'T16': 2, 'T17': 2, 'T18': 2, 'T19': 2, 'T20': 2, 'T21': 2, 'T22': 2, 'T23': 2, 'T24': 1, 'Z6': 3, 'Y10': 2, 'Y11': 2, 'Y12': 2, 'Y15': 2, 'Y17': 2, 'Y19': 2, 'Y20': 2, 'Y21': 2, 'Y22': 2, 'Y23': 2, 'Y24': 1, 'Z5': 2, 'Z7': 2, 'Z10': 2, 'Z11': 2, 'Z12': 2, 'Z13': 2, 'Z14': 1})"
      ]
     },
     "execution_count": 214,
     "metadata": {},
     "output_type": "execute_result"
    }
   ],
   "source": [
    "g.degree()"
   ]
  },
  {
   "cell_type": "code",
   "execution_count": 215,
   "metadata": {},
   "outputs": [
    {
     "data": {
      "text/plain": [
       "[('G5', 6), ('M13', 6), ('Y16', 6), ('Z4', 6), ('N7', 6)]"
      ]
     },
     "execution_count": 215,
     "metadata": {},
     "output_type": "execute_result"
    }
   ],
   "source": [
    "d_max = max(d for (n, d) in g.degree())\n",
    "[(n, d) for (n, d) in g.degree() if d == d_max]"
   ]
  },
  {
   "cell_type": "code",
   "execution_count": 216,
   "metadata": {},
   "outputs": [
    {
     "data": {
      "text/plain": [
       "array(['Y24', 'Y23', 'Y22', 'Y21', 'Y20', 'Y19', 'Y18', 'C9', 'C10',\n",
       "       'C11', 'C12', 'C13', 'C14', 'C15', 'C16', 'C17', 'C18', 'C19'],\n",
       "      dtype='<U3')"
      ]
     },
     "execution_count": 216,
     "metadata": {},
     "output_type": "execute_result"
    }
   ],
   "source": [
    "p = nx.shortest_path(g, \"Y24\", \"C19\")\n",
    "np.array(p)"
   ]
  },
  {
   "cell_type": "code",
   "execution_count": 217,
   "metadata": {},
   "outputs": [
    {
     "data": {
      "text/plain": [
       "<184x184 sparse array of type '<class 'numpy.intc'>'\n",
       "\twith 486 stored elements in Compressed Sparse Row format>"
      ]
     },
     "execution_count": 217,
     "metadata": {},
     "output_type": "execute_result"
    }
   ],
   "source": [
    "import scipy.sparse as sp\n",
    "import networkx as nx\n",
    "\n",
    "A = nx.to_scipy_sparse_array(g)\n",
    "A"
   ]
  },
  {
   "cell_type": "code",
   "execution_count": 218,
   "metadata": {},
   "outputs": [],
   "source": [
    "perm = sp.csgraph.reverse_cuthill_mckee(A)\n",
    "M, N = A.shape\n",
    "P = sp.coo_matrix((np.ones(M), (perm, np.arange(N)))).tocsr()\n",
    "A_perm = P.T * A * P"
   ]
  },
  {
   "cell_type": "code",
   "execution_count": 219,
   "metadata": {},
   "outputs": [
    {
     "data": {
      "image/png": "[encoded data removed]",
      "text/plain": [
       "<Figure size 800x400 with 2 Axes>"
      ]
     },
     "metadata": {},
     "output_type": "display_data"
    }
   ],
   "source": [
    "fig, (ax1, ax2) = plt.subplots(1, 2, figsize=(8, 4))\n",
    "ax1.spy(A, markersize=2)\n",
    "ax2.spy(A_perm, markersize=2)\n",
    "fig.tight_layout();"
   ]
  }
 ],
 "metadata": {
  "kernelspec": {
   "display_name": "Python 3",
   "language": "python",
   "name": "python3"
  },
  "language_info": {
   "codemirror_mode": {
    "name": "ipython",
    "version": 3
   },
   "file_extension": ".py",
   "mimetype": "text/x-python",
   "name": "python",
   "nbconvert_exporter": "python",
   "pygments_lexer": "ipython3",
   "version": "3.11.4"
  }
 },
 "nbformat": 4,
 "nbformat_minor": 2
}
