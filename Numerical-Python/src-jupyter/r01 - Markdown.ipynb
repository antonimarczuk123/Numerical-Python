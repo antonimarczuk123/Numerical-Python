{
 "cells": [
  {
   "cell_type": "markdown",
   "metadata": {},
   "source": [
    "## Podsumowanie możliwości Markdown "
   ]
  },
  {
   "cell_type": "markdown",
   "metadata": {},
   "source": [
    "Notatnik testowy do tabeli 1.2 z rodziału 1."
   ]
  },
  {
   "cell_type": "markdown",
   "metadata": {},
   "source": [
    "## Kursywa"
   ]
  },
  {
   "cell_type": "markdown",
   "metadata": {},
   "source": [
    "Tekst otoczony gwiazdką `*tekst*` jest wyświetlany jako pochylony: *tekst*"
   ]
  },
  {
   "cell_type": "markdown",
   "metadata": {},
   "source": [
    "## Pogrubienie"
   ]
  },
  {
   "cell_type": "markdown",
   "metadata": {},
   "source": [
    "Tekst otoczony dwoma gwiazdkami `*tekst*` jest wyświetlany jako pogrubiony: **tekst**"
   ]
  },
  {
   "cell_type": "markdown",
   "metadata": {},
   "source": [
    "## Przekreślenie"
   ]
  },
  {
   "cell_type": "markdown",
   "metadata": {},
   "source": [
    "Tekst otoczony dwoma tyldami `~~text~~` wyświetla się jako przekreślony: ~~tekst~~"
   ]
  },
  {
   "cell_type": "markdown",
   "metadata": {},
   "source": [
    "## Czcionka o stałej szerokości znaku"
   ]
  },
  {
   "cell_type": "markdown",
   "metadata": {},
   "source": [
    "Tekst znajdujący się pomiędzy apostrofami ` jest wyświetlany czcionką o stałej szerokości znaku:\n",
    "\n",
    "`tekst`"
   ]
  },
  {
   "cell_type": "markdown",
   "metadata": {},
   "source": [
    "## Adresy URL"
   ]
  },
  {
   "cell_type": "markdown",
   "metadata": {},
   "source": [
    "Adresy URL zapisuję się jako\t`[Tekst wyświetlany](http://www.example.com)`: [Tekst wyświetlany](http://www.example.com) "
   ]
  },
  {
   "cell_type": "markdown",
   "metadata": {},
   "source": [
    "## Nowy akapit"
   ]
  },
  {
   "cell_type": "markdown",
   "metadata": {},
   "source": [
    "Rozdziel tekst pustą linią.\n",
    "\n",
    "To jest nowy akapit."
   ]
  },
  {
   "cell_type": "markdown",
   "metadata": {},
   "source": [
    "## Dokładna zawartość"
   ]
  },
  {
   "cell_type": "markdown",
   "metadata": {},
   "source": [
    "Wiersze rozpoczynające się od czterech spacji są wyświetlane z użyciem czcionki o stałej szerokości znaków bez jakiegokolwiek przetwarzania.\n",
    "\n",
    "    def func(x):\n",
    "      return x** 2\n"
   ]
  },
  {
   "cell_type": "markdown",
   "metadata": {},
   "source": [
    "## Tabele"
   ]
  },
  {
   "cell_type": "markdown",
   "metadata": {},
   "source": [
    "Tabele tworzy się w nastepujący sposób\n",
    "\n",
    "    | A | B | C |\n",
    "    |---|---|---|\n",
    "    | 1 | 2 | 3 |\n",
    "    | 4 | 5 | 6 |\n",
    "\n",
    "| A | B | C |\n",
    "|---|---|---|\n",
    "| 1 | 2 | 3 |\n",
    "| 4 | 5 | 6 |"
   ]
  },
  {
   "cell_type": "markdown",
   "metadata": {},
   "source": [
    "## Linia pozioma"
   ]
  },
  {
   "cell_type": "markdown",
   "metadata": {},
   "source": [
    "Wiersz składający się z `---` wyświetla się jako linia pozioma:\n",
    "\n",
    "---"
   ]
  },
  {
   "cell_type": "markdown",
   "metadata": {},
   "source": [
    "## Nagłówki"
   ]
  },
  {
   "cell_type": "markdown",
   "metadata": {},
   "source": [
    "Wiersz rozpoczynający się od jednego `#` to nagłówek 1 poziomu, `##` to nagłówek 2 poziomu, `###` to nagłówek 3 poziomu, itd.\n",
    "\n",
    "# Nagłówek 1 poziomu\n",
    "## Nagłówek 2 poziomu\n",
    "### Nagłówek 3 poziomu\n",
    "#### Nagłówek 4 poziomu"
   ]
  },
  {
   "cell_type": "markdown",
   "metadata": {},
   "source": [
    "## Cytat blokowy"
   ]
  },
  {
   "cell_type": "markdown",
   "metadata": {},
   "source": [
    "Wiersze rozpoczynające się od znaku > są wyświetlane jako cytat blokowy.\n",
    "\n",
    "> Ten tekst jest wcięty i oddzielony\n",
    "> od zasadniczej treści.\n"
   ]
  },
  {
   "cell_type": "markdown",
   "metadata": {},
   "source": [
    "## Lista wypunktowana"
   ]
  },
  {
   "cell_type": "markdown",
   "metadata": {},
   "source": [
    "Listę wypunktowaną tworzy się przy użyciu `*`:\n",
    "\n",
    "* Pierwsza rzecz\n",
    "* Druga rzecz\n",
    "* Trzecia rzecz\n"
   ]
  },
  {
   "cell_type": "markdown",
   "metadata": {},
   "source": [
    "## Lista numerowana"
   ]
  },
  {
   "cell_type": "markdown",
   "metadata": {},
   "source": [
    "Lista numerowana to po prostu kolejne wiersze rozpoczynające się od kolejnych cyfr/liczb:\n",
    "1. Pierwsza rzecz\n",
    "2. Druga rzecz\n",
    "3. Trzecia rzecz\n"
   ]
  },
  {
   "cell_type": "markdown",
   "metadata": {},
   "source": [
    "## HTML"
   ]
  },
  {
   "cell_type": "markdown",
   "metadata": {},
   "source": [
    "W komórkach można wykorzystać znaczniki HTML i style CSS\n",
    "\n",
    "    <img src=\"https://www.bornfree.org.uk/wp-content/uploads/2023/09/Web-image-c-OBRC-14.jpg\" alt=\"Drawing\" style=\"display: block; width: 400px; margin: 10px;\"/>\n",
    "    \n",
    "<img src=\"https://www.bornfree.org.uk/wp-content/uploads/2023/09/Web-image-c-OBRC-14.jpg\" alt=\"Drawing\" style=\"display: block; width: 400px; margin: 10px;\"/>\n",
    "lub\n",
    "\n",
    "    <img src=\"https://files.worldwildlife.org/wwfcmsprod/images/Brown_Bear_/hero_small/7h2u6tj3h3_brownbear_hero.jpg\" alt=\"Drawing\" style=\"display: block; width: 400px; filter: blur(4px); margin: 10px;\"/>\n",
    "\n",
    "<img src=\"https://files.worldwildlife.org/wwfcmsprod/images/Brown_Bear_/hero_small/7h2u6tj3h3_brownbear_hero.jpg\" alt=\"Drawing\" style=\"display: block; width: 400px; filter: blur(4px); margin: 10px;\"/>\n"
   ]
  },
  {
   "cell_type": "markdown",
   "metadata": {},
   "source": [
    "## LaTeX"
   ]
  },
  {
   "cell_type": "markdown",
   "metadata": {},
   "source": [
    "Równanie w obrębie akapitu można umieścić pomiędzy znakami `$` `$\\LaTeX$`: $\\LaTeX$\n",
    "\n",
    "Równanie poza akapitem (wyśrodkowane i w nowej linii) `$$\\LaTeX$$`\n",
    "\n",
    "$$\\LaTeX$$ \n",
    "\n",
    "Można również korzystać z różnych środowisk $$\\LaTeX$$  takich jak na przykład `equation`, `eqnarray`, `align`, itd:\n",
    "\n",
    "`\\begin{equation} x = 1 \\end{equation}`\n",
    "\n",
    "\\begin{equation} x = 1 \\end{equation}\n",
    "\n",
    "`\\begin{align} x = 3 \\end{align}`\n",
    "\n",
    "\\begin{align} x = 3 \\end{align}\n"
   ]
  },
  {
   "cell_type": "markdown",
   "metadata": {},
   "source": [
    "    $$\\hat{H} = -\\frac{1}{2}\\epsilon \\hat{\\sigma}_z-\\frac{1}{2}\\delta \\hat{\\sigma}_x$$\n",
    "\n",
    "$$\\hat{H} = -\\frac{1}{2}\\epsilon \\hat{\\sigma}_z-\\frac{1}{2}\\delta \\hat{\\sigma}_x$$"
   ]
  }
 ],
 "metadata": {
  "kernelspec": {
   "display_name": "Python 3",
   "language": "python",
   "name": "python3"
  },
  "language_info": {
   "codemirror_mode": {
    "name": "ipython",
    "version": 3
   },
   "file_extension": ".py",
   "mimetype": "text/x-python",
   "name": "python",
   "nbconvert_exporter": "python",
   "pygments_lexer": "ipython3",
   "version": "3.11.4"
  }
 },
 "nbformat": 4,
 "nbformat_minor": 2
}
