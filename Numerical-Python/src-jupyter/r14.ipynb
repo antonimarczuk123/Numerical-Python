{
 "cells": [
  {
   "cell_type": "markdown",
   "metadata": {},
   "source": [
    "# Rozdział 14. Modelowanie statystyczne"
   ]
  },
  {
   "cell_type": "code",
   "execution_count": 1,
   "metadata": {},
   "outputs": [],
   "source": [
    "import statsmodels.api as sm"
   ]
  },
  {
   "cell_type": "code",
   "execution_count": 2,
   "metadata": {},
   "outputs": [],
   "source": [
    "import statsmodels.formula.api as smf"
   ]
  },
  {
   "cell_type": "code",
   "execution_count": 3,
   "metadata": {},
   "outputs": [],
   "source": [
    "import statsmodels.graphics.api as smg"
   ]
  },
  {
   "cell_type": "code",
   "execution_count": 4,
   "metadata": {},
   "outputs": [],
   "source": [
    "import patsy"
   ]
  },
  {
   "cell_type": "code",
   "execution_count": 5,
   "metadata": {},
   "outputs": [],
   "source": [
    "%matplotlib inline\n",
    "import matplotlib.pyplot as plt"
   ]
  },
  {
   "cell_type": "code",
   "execution_count": 6,
   "metadata": {},
   "outputs": [],
   "source": [
    "import numpy as np"
   ]
  },
  {
   "cell_type": "code",
   "execution_count": 7,
   "metadata": {},
   "outputs": [],
   "source": [
    "import pandas as pd"
   ]
  },
  {
   "cell_type": "code",
   "execution_count": 8,
   "metadata": {},
   "outputs": [],
   "source": [
    "from scipy import stats"
   ]
  },
  {
   "cell_type": "code",
   "execution_count": 9,
   "metadata": {},
   "outputs": [],
   "source": [
    "import seaborn as sns\n",
    "sns.set(style=\"whitegrid\")"
   ]
  },
  {
   "cell_type": "markdown",
   "metadata": {},
   "source": [
    "## Modele statystyczne i formuły z Patsy"
   ]
  },
  {
   "cell_type": "code",
   "execution_count": 10,
   "metadata": {},
   "outputs": [],
   "source": [
    "np.random.seed(123456789)"
   ]
  },
  {
   "cell_type": "code",
   "execution_count": 11,
   "metadata": {},
   "outputs": [],
   "source": [
    "y = np.array([1, 2, 3, 4, 5])"
   ]
  },
  {
   "cell_type": "code",
   "execution_count": 12,
   "metadata": {},
   "outputs": [],
   "source": [
    "x1 = np.array([6, 7, 8, 9, 10])"
   ]
  },
  {
   "cell_type": "code",
   "execution_count": 13,
   "metadata": {},
   "outputs": [],
   "source": [
    "x2 = np.array([11, 12, 13, 14, 15])"
   ]
  },
  {
   "cell_type": "code",
   "execution_count": 14,
   "metadata": {},
   "outputs": [],
   "source": [
    "X = np.vstack([np.ones(5), x1, x2, x1*x2]).T"
   ]
  },
  {
   "cell_type": "code",
   "execution_count": 15,
   "metadata": {},
   "outputs": [
    {
     "data": {
      "text/plain": [
       "array([[  1.,   6.,  11.,  66.],\n",
       "       [  1.,   7.,  12.,  84.],\n",
       "       [  1.,   8.,  13., 104.],\n",
       "       [  1.,   9.,  14., 126.],\n",
       "       [  1.,  10.,  15., 150.]])"
      ]
     },
     "execution_count": 15,
     "metadata": {},
     "output_type": "execute_result"
    }
   ],
   "source": [
    "X"
   ]
  },
  {
   "cell_type": "code",
   "execution_count": 16,
   "metadata": {},
   "outputs": [
    {
     "name": "stderr",
     "output_type": "stream",
     "text": [
      "<ipython-input-16-5b103a50eabd>:1: FutureWarning: `rcond` parameter will change to the default of machine precision times ``max(M, N)`` where M and N are the input matrix dimensions.\n",
      "To use the future default and silence this warning we advise to pass `rcond=None`, to keep using the old, explicitly pass `rcond=-1`.\n",
      "  beta, res, rank, sval = np.linalg.lstsq(X, y)\n"
     ]
    }
   ],
   "source": [
    "beta, res, rank, sval = np.linalg.lstsq(X, y)"
   ]
  },
  {
   "cell_type": "code",
   "execution_count": 17,
   "metadata": {},
   "outputs": [
    {
     "data": {
      "text/plain": [
       "array([-5.55555556e-01,  1.88888889e+00, -8.88888889e-01, -8.88900666e-16])"
      ]
     },
     "execution_count": 17,
     "metadata": {},
     "output_type": "execute_result"
    }
   ],
   "source": [
    "beta"
   ]
  },
  {
   "cell_type": "code",
   "execution_count": 18,
   "metadata": {},
   "outputs": [],
   "source": [
    "data = {\"y\": y, \"x1\": x1, \"x2\": x2}"
   ]
  },
  {
   "cell_type": "code",
   "execution_count": 19,
   "metadata": {},
   "outputs": [],
   "source": [
    "y, X = patsy.dmatrices(\"y ~ 1 + x1 + x2 + x1*x2\", data)"
   ]
  },
  {
   "cell_type": "code",
   "execution_count": 20,
   "metadata": {},
   "outputs": [
    {
     "data": {
      "text/plain": [
       "DesignMatrix with shape (5, 1)\n",
       "  y\n",
       "  1\n",
       "  2\n",
       "  3\n",
       "  4\n",
       "  5\n",
       "  Terms:\n",
       "    'y' (column 0)"
      ]
     },
     "execution_count": 20,
     "metadata": {},
     "output_type": "execute_result"
    }
   ],
   "source": [
    "y"
   ]
  },
  {
   "cell_type": "code",
   "execution_count": 21,
   "metadata": {},
   "outputs": [
    {
     "data": {
      "text/plain": [
       "DesignMatrix with shape (5, 4)\n",
       "  Intercept  x1  x2  x1:x2\n",
       "          1   6  11     66\n",
       "          1   7  12     84\n",
       "          1   8  13    104\n",
       "          1   9  14    126\n",
       "          1  10  15    150\n",
       "  Terms:\n",
       "    'Intercept' (column 0)\n",
       "    'x1' (column 1)\n",
       "    'x2' (column 2)\n",
       "    'x1:x2' (column 3)"
      ]
     },
     "execution_count": 21,
     "metadata": {},
     "output_type": "execute_result"
    }
   ],
   "source": [
    "X"
   ]
  },
  {
   "cell_type": "code",
   "execution_count": 22,
   "metadata": {},
   "outputs": [
    {
     "data": {
      "text/plain": [
       "patsy.design_info.DesignMatrix"
      ]
     },
     "execution_count": 22,
     "metadata": {},
     "output_type": "execute_result"
    }
   ],
   "source": [
    "type(X)"
   ]
  },
  {
   "cell_type": "code",
   "execution_count": 23,
   "metadata": {},
   "outputs": [
    {
     "data": {
      "text/plain": [
       "array([[  1.,   6.,  11.,  66.],\n",
       "       [  1.,   7.,  12.,  84.],\n",
       "       [  1.,   8.,  13., 104.],\n",
       "       [  1.,   9.,  14., 126.],\n",
       "       [  1.,  10.,  15., 150.]])"
      ]
     },
     "execution_count": 23,
     "metadata": {},
     "output_type": "execute_result"
    }
   ],
   "source": [
    "np.array(X)"
   ]
  },
  {
   "cell_type": "code",
   "execution_count": 24,
   "metadata": {},
   "outputs": [],
   "source": [
    "df_data = pd.DataFrame(data)"
   ]
  },
  {
   "cell_type": "code",
   "execution_count": 25,
   "metadata": {},
   "outputs": [],
   "source": [
    "y, X = patsy.dmatrices(\"y ~ 1 + x1 + x2 + x1:x2\", df_data, return_type=\"dataframe\")"
   ]
  },
  {
   "cell_type": "code",
   "execution_count": 26,
   "metadata": {},
   "outputs": [
    {
     "data": {
      "text/html": [
       "<div>\n",
       "<style scoped>\n",
       "    .dataframe tbody tr th:only-of-type {\n",
       "        vertical-align: middle;\n",
       "    }\n",
       "\n",
       "    .dataframe tbody tr th {\n",
       "        vertical-align: top;\n",
       "    }\n",
       "\n",
       "    .dataframe thead th {\n",
       "        text-align: right;\n",
       "    }\n",
       "</style>\n",
       "<table border=\"1\" class=\"dataframe\">\n",
       "  <thead>\n",
       "    <tr style=\"text-align: right;\">\n",
       "      <th></th>\n",
       "      <th>Intercept</th>\n",
       "      <th>x1</th>\n",
       "      <th>x2</th>\n",
       "      <th>x1:x2</th>\n",
       "    </tr>\n",
       "  </thead>\n",
       "  <tbody>\n",
       "    <tr>\n",
       "      <th>0</th>\n",
       "      <td>1.0</td>\n",
       "      <td>6.0</td>\n",
       "      <td>11.0</td>\n",
       "      <td>66.0</td>\n",
       "    </tr>\n",
       "    <tr>\n",
       "      <th>1</th>\n",
       "      <td>1.0</td>\n",
       "      <td>7.0</td>\n",
       "      <td>12.0</td>\n",
       "      <td>84.0</td>\n",
       "    </tr>\n",
       "    <tr>\n",
       "      <th>2</th>\n",
       "      <td>1.0</td>\n",
       "      <td>8.0</td>\n",
       "      <td>13.0</td>\n",
       "      <td>104.0</td>\n",
       "    </tr>\n",
       "    <tr>\n",
       "      <th>3</th>\n",
       "      <td>1.0</td>\n",
       "      <td>9.0</td>\n",
       "      <td>14.0</td>\n",
       "      <td>126.0</td>\n",
       "    </tr>\n",
       "    <tr>\n",
       "      <th>4</th>\n",
       "      <td>1.0</td>\n",
       "      <td>10.0</td>\n",
       "      <td>15.0</td>\n",
       "      <td>150.0</td>\n",
       "    </tr>\n",
       "  </tbody>\n",
       "</table>\n",
       "</div>"
      ],
      "text/plain": [
       "   Intercept    x1    x2  x1:x2\n",
       "0        1.0   6.0  11.0   66.0\n",
       "1        1.0   7.0  12.0   84.0\n",
       "2        1.0   8.0  13.0  104.0\n",
       "3        1.0   9.0  14.0  126.0\n",
       "4        1.0  10.0  15.0  150.0"
      ]
     },
     "execution_count": 26,
     "metadata": {},
     "output_type": "execute_result"
    }
   ],
   "source": [
    "X"
   ]
  },
  {
   "cell_type": "code",
   "execution_count": 27,
   "metadata": {},
   "outputs": [],
   "source": [
    "model = sm.OLS(y, X)"
   ]
  },
  {
   "cell_type": "code",
   "execution_count": 28,
   "metadata": {},
   "outputs": [],
   "source": [
    "result = model.fit()"
   ]
  },
  {
   "cell_type": "code",
   "execution_count": 29,
   "metadata": {},
   "outputs": [
    {
     "data": {
      "text/plain": [
       "Intercept   -5.555556e-01\n",
       "x1           1.888889e+00\n",
       "x2          -8.888889e-01\n",
       "x1:x2       -1.110223e-15\n",
       "dtype: float64"
      ]
     },
     "execution_count": 29,
     "metadata": {},
     "output_type": "execute_result"
    }
   ],
   "source": [
    "result.params"
   ]
  },
  {
   "cell_type": "code",
   "execution_count": 30,
   "metadata": {},
   "outputs": [],
   "source": [
    "model = smf.ols(\"y ~ 1 + x1 + x2 + x1:x2\", df_data)"
   ]
  },
  {
   "cell_type": "code",
   "execution_count": 31,
   "metadata": {},
   "outputs": [],
   "source": [
    "result = model.fit()"
   ]
  },
  {
   "cell_type": "code",
   "execution_count": 32,
   "metadata": {},
   "outputs": [
    {
     "data": {
      "text/plain": [
       "Intercept   -5.555556e-01\n",
       "x1           1.888889e+00\n",
       "x2          -8.888889e-01\n",
       "x1:x2       -1.110223e-15\n",
       "dtype: float64"
      ]
     },
     "execution_count": 32,
     "metadata": {},
     "output_type": "execute_result"
    }
   ],
   "source": [
    "result.params"
   ]
  },
  {
   "cell_type": "code",
   "execution_count": 33,
   "metadata": {},
   "outputs": [
    {
     "name": "stdout",
     "output_type": "stream",
     "text": [
      "                            OLS Regression Results                            \n",
      "==============================================================================\n",
      "Dep. Variable:                      y   R-squared:                       1.000\n",
      "Model:                            OLS   Adj. R-squared:                  1.000\n",
      "Method:                 Least Squares   F-statistic:                 7.401e+26\n",
      "Date:                Wed, 26 Aug 2020   Prob (F-statistic):           1.35e-27\n",
      "Time:                        17:19:01   Log-Likelihood:                 145.84\n",
      "No. Observations:                   5   AIC:                            -285.7\n",
      "Df Residuals:                       2   BIC:                            -286.9\n",
      "Df Model:                           2                                         \n",
      "Covariance Type:            nonrobust                                         \n",
      "==============================================================================\n",
      "                 coef    std err          t      P>|t|      [0.025      0.975]\n",
      "------------------------------------------------------------------------------\n",
      "Intercept     -0.5556   1.87e-13  -2.96e+12      0.000      -0.556      -0.556\n",
      "x1             1.8889   6.99e-13    2.7e+12      0.000       1.889       1.889\n",
      "x2            -0.8889   2.38e-13  -3.73e+12      0.000      -0.889      -0.889\n",
      "x1:x2       -1.11e-15    2.2e-14     -0.051      0.964   -9.56e-14    9.34e-14\n",
      "==============================================================================\n",
      "Omnibus:                          nan   Durbin-Watson:                   0.003\n",
      "Prob(Omnibus):                    nan   Jarque-Bera (JB):                0.645\n",
      "Skew:                           0.375   Prob(JB):                        0.724\n",
      "Kurtosis:                       1.408   Cond. No.                     9.62e+17\n",
      "==============================================================================\n",
      "\n",
      "Warnings:\n",
      "[1] Standard Errors assume that the covariance matrix of the errors is correctly specified.\n",
      "[2] The smallest eigenvalue is 6.68e-32. This might indicate that there are\n",
      "strong multicollinearity problems or that the design matrix is singular.\n"
     ]
    },
    {
     "name": "stderr",
     "output_type": "stream",
     "text": [
      "/Users/filip/miniconda3/envs/py3.8/lib/python3.8/site-packages/statsmodels/stats/stattools.py:70: ValueWarning: omni_normtest is not valid with less than 8 observations; 5 samples were given.\n",
      "  warn(\"omni_normtest is not valid with less than 8 observations; %i \"\n"
     ]
    }
   ],
   "source": [
    "print(result.summary())"
   ]
  },
  {
   "cell_type": "code",
   "execution_count": 34,
   "metadata": {},
   "outputs": [
    {
     "data": {
      "text/plain": [
       "array([-5.55555556e-01,  1.88888889e+00, -8.88888889e-01, -8.88900666e-16])"
      ]
     },
     "execution_count": 34,
     "metadata": {},
     "output_type": "execute_result"
    }
   ],
   "source": [
    "beta"
   ]
  },
  {
   "cell_type": "code",
   "execution_count": 35,
   "metadata": {},
   "outputs": [],
   "source": [
    "from collections import defaultdict"
   ]
  },
  {
   "cell_type": "code",
   "execution_count": 36,
   "metadata": {},
   "outputs": [],
   "source": [
    "data = defaultdict(lambda: np.array([1,2,3]))"
   ]
  },
  {
   "cell_type": "code",
   "execution_count": 37,
   "metadata": {},
   "outputs": [
    {
     "data": {
      "text/plain": [
       "['Intercept', 'a']"
      ]
     },
     "execution_count": 37,
     "metadata": {},
     "output_type": "execute_result"
    }
   ],
   "source": [
    "patsy.dmatrices(\"y ~ a\", data=data)[1].design_info.term_names"
   ]
  },
  {
   "cell_type": "code",
   "execution_count": 38,
   "metadata": {},
   "outputs": [
    {
     "data": {
      "text/plain": [
       "['Intercept', 'a', 'b']"
      ]
     },
     "execution_count": 38,
     "metadata": {},
     "output_type": "execute_result"
    }
   ],
   "source": [
    "patsy.dmatrices(\"y ~ 1 + a + b\", data=data)[1].design_info.term_names"
   ]
  },
  {
   "cell_type": "code",
   "execution_count": 39,
   "metadata": {},
   "outputs": [
    {
     "data": {
      "text/plain": [
       "['a', 'b']"
      ]
     },
     "execution_count": 39,
     "metadata": {},
     "output_type": "execute_result"
    }
   ],
   "source": [
    "patsy.dmatrices(\"y ~ -1 + a + b\", data=data)[1].design_info.term_names"
   ]
  },
  {
   "cell_type": "code",
   "execution_count": 40,
   "metadata": {},
   "outputs": [
    {
     "data": {
      "text/plain": [
       "['Intercept', 'a', 'b', 'a:b']"
      ]
     },
     "execution_count": 40,
     "metadata": {},
     "output_type": "execute_result"
    }
   ],
   "source": [
    "patsy.dmatrices(\"y ~ a * b\", data=data)[1].design_info.term_names"
   ]
  },
  {
   "cell_type": "code",
   "execution_count": 41,
   "metadata": {},
   "outputs": [
    {
     "data": {
      "text/plain": [
       "['Intercept', 'a', 'b', 'a:b', 'c', 'a:c', 'b:c', 'a:b:c']"
      ]
     },
     "execution_count": 41,
     "metadata": {},
     "output_type": "execute_result"
    }
   ],
   "source": [
    "patsy.dmatrices(\"y ~ a * b * c\", data=data)[1].design_info.term_names"
   ]
  },
  {
   "cell_type": "code",
   "execution_count": 42,
   "metadata": {},
   "outputs": [
    {
     "data": {
      "text/plain": [
       "['Intercept', 'a', 'b', 'a:b', 'c', 'a:c', 'b:c']"
      ]
     },
     "execution_count": 42,
     "metadata": {},
     "output_type": "execute_result"
    }
   ],
   "source": [
    "patsy.dmatrices(\"y ~ a * b * c - a:b:c\", data=data)[1].design_info.term_names"
   ]
  },
  {
   "cell_type": "code",
   "execution_count": 43,
   "metadata": {},
   "outputs": [],
   "source": [
    "data = {k: np.array([]) for k in [\"y\", \"a\", \"b\", \"c\"]}"
   ]
  },
  {
   "cell_type": "code",
   "execution_count": 44,
   "metadata": {},
   "outputs": [
    {
     "data": {
      "text/plain": [
       "['Intercept', 'a', 'b']"
      ]
     },
     "execution_count": 44,
     "metadata": {},
     "output_type": "execute_result"
    }
   ],
   "source": [
    "patsy.dmatrices(\"y ~ a + b\", data=data)[1].design_info.term_names"
   ]
  },
  {
   "cell_type": "code",
   "execution_count": 45,
   "metadata": {},
   "outputs": [
    {
     "data": {
      "text/plain": [
       "['Intercept', 'I(a + b)']"
      ]
     },
     "execution_count": 45,
     "metadata": {},
     "output_type": "execute_result"
    }
   ],
   "source": [
    "patsy.dmatrices(\"y ~ I(a + b)\", data=data)[1].design_info.term_names"
   ]
  },
  {
   "cell_type": "code",
   "execution_count": 46,
   "metadata": {},
   "outputs": [
    {
     "data": {
      "text/plain": [
       "['Intercept', 'a']"
      ]
     },
     "execution_count": 46,
     "metadata": {},
     "output_type": "execute_result"
    }
   ],
   "source": [
    "patsy.dmatrices(\"y ~ a*a\", data=data)[1].design_info.term_names"
   ]
  },
  {
   "cell_type": "code",
   "execution_count": 47,
   "metadata": {},
   "outputs": [
    {
     "data": {
      "text/plain": [
       "['Intercept', 'I(a ** 2)']"
      ]
     },
     "execution_count": 47,
     "metadata": {},
     "output_type": "execute_result"
    }
   ],
   "source": [
    "patsy.dmatrices(\"y ~ I(a**2)\", data=data)[1].design_info.term_names"
   ]
  },
  {
   "cell_type": "code",
   "execution_count": 48,
   "metadata": {},
   "outputs": [
    {
     "data": {
      "text/plain": [
       "['Intercept', 'np.log(a)', 'b']"
      ]
     },
     "execution_count": 48,
     "metadata": {},
     "output_type": "execute_result"
    }
   ],
   "source": [
    "patsy.dmatrices(\"y ~ np.log(a) + b\", data=data)[1].design_info.term_names"
   ]
  },
  {
   "cell_type": "code",
   "execution_count": 49,
   "metadata": {},
   "outputs": [],
   "source": [
    "z = lambda x1, x2: x1+x2"
   ]
  },
  {
   "cell_type": "code",
   "execution_count": 50,
   "metadata": {},
   "outputs": [
    {
     "data": {
      "text/plain": [
       "['Intercept', 'z(a, b)']"
      ]
     },
     "execution_count": 50,
     "metadata": {},
     "output_type": "execute_result"
    }
   ],
   "source": [
    "patsy.dmatrices(\"y ~ z(a, b)\", data=data)[1].design_info.term_names"
   ]
  },
  {
   "cell_type": "markdown",
   "metadata": {},
   "source": [
    "### Zmienne kategorialne"
   ]
  },
  {
   "cell_type": "code",
   "execution_count": 51,
   "metadata": {},
   "outputs": [],
   "source": [
    "data = {\"y\": [1, 2, 3], \"a\": [1, 2, 3]}"
   ]
  },
  {
   "cell_type": "code",
   "execution_count": 52,
   "metadata": {},
   "outputs": [
    {
     "data": {
      "text/html": [
       "<div>\n",
       "<style scoped>\n",
       "    .dataframe tbody tr th:only-of-type {\n",
       "        vertical-align: middle;\n",
       "    }\n",
       "\n",
       "    .dataframe tbody tr th {\n",
       "        vertical-align: top;\n",
       "    }\n",
       "\n",
       "    .dataframe thead th {\n",
       "        text-align: right;\n",
       "    }\n",
       "</style>\n",
       "<table border=\"1\" class=\"dataframe\">\n",
       "  <thead>\n",
       "    <tr style=\"text-align: right;\">\n",
       "      <th></th>\n",
       "      <th>a</th>\n",
       "    </tr>\n",
       "  </thead>\n",
       "  <tbody>\n",
       "    <tr>\n",
       "      <th>0</th>\n",
       "      <td>1.0</td>\n",
       "    </tr>\n",
       "    <tr>\n",
       "      <th>1</th>\n",
       "      <td>2.0</td>\n",
       "    </tr>\n",
       "    <tr>\n",
       "      <th>2</th>\n",
       "      <td>3.0</td>\n",
       "    </tr>\n",
       "  </tbody>\n",
       "</table>\n",
       "</div>"
      ],
      "text/plain": [
       "     a\n",
       "0  1.0\n",
       "1  2.0\n",
       "2  3.0"
      ]
     },
     "execution_count": 52,
     "metadata": {},
     "output_type": "execute_result"
    }
   ],
   "source": [
    "patsy.dmatrices(\"y ~ - 1 + a\", data=data, return_type=\"dataframe\")[1]"
   ]
  },
  {
   "cell_type": "code",
   "execution_count": 53,
   "metadata": {},
   "outputs": [
    {
     "data": {
      "text/html": [
       "<div>\n",
       "<style scoped>\n",
       "    .dataframe tbody tr th:only-of-type {\n",
       "        vertical-align: middle;\n",
       "    }\n",
       "\n",
       "    .dataframe tbody tr th {\n",
       "        vertical-align: top;\n",
       "    }\n",
       "\n",
       "    .dataframe thead th {\n",
       "        text-align: right;\n",
       "    }\n",
       "</style>\n",
       "<table border=\"1\" class=\"dataframe\">\n",
       "  <thead>\n",
       "    <tr style=\"text-align: right;\">\n",
       "      <th></th>\n",
       "      <th>C(a)[1]</th>\n",
       "      <th>C(a)[2]</th>\n",
       "      <th>C(a)[3]</th>\n",
       "    </tr>\n",
       "  </thead>\n",
       "  <tbody>\n",
       "    <tr>\n",
       "      <th>0</th>\n",
       "      <td>1.0</td>\n",
       "      <td>0.0</td>\n",
       "      <td>0.0</td>\n",
       "    </tr>\n",
       "    <tr>\n",
       "      <th>1</th>\n",
       "      <td>0.0</td>\n",
       "      <td>1.0</td>\n",
       "      <td>0.0</td>\n",
       "    </tr>\n",
       "    <tr>\n",
       "      <th>2</th>\n",
       "      <td>0.0</td>\n",
       "      <td>0.0</td>\n",
       "      <td>1.0</td>\n",
       "    </tr>\n",
       "  </tbody>\n",
       "</table>\n",
       "</div>"
      ],
      "text/plain": [
       "   C(a)[1]  C(a)[2]  C(a)[3]\n",
       "0      1.0      0.0      0.0\n",
       "1      0.0      1.0      0.0\n",
       "2      0.0      0.0      1.0"
      ]
     },
     "execution_count": 53,
     "metadata": {},
     "output_type": "execute_result"
    }
   ],
   "source": [
    "patsy.dmatrices(\"y ~ - 1 + C(a)\", data=data, return_type=\"dataframe\")[1]"
   ]
  },
  {
   "cell_type": "code",
   "execution_count": 54,
   "metadata": {},
   "outputs": [],
   "source": [
    "data = {\"y\": [1, 2, 3], \"a\": [\"type A\", \"type B\", \"type C\"]}"
   ]
  },
  {
   "cell_type": "code",
   "execution_count": 55,
   "metadata": {},
   "outputs": [
    {
     "data": {
      "text/html": [
       "<div>\n",
       "<style scoped>\n",
       "    .dataframe tbody tr th:only-of-type {\n",
       "        vertical-align: middle;\n",
       "    }\n",
       "\n",
       "    .dataframe tbody tr th {\n",
       "        vertical-align: top;\n",
       "    }\n",
       "\n",
       "    .dataframe thead th {\n",
       "        text-align: right;\n",
       "    }\n",
       "</style>\n",
       "<table border=\"1\" class=\"dataframe\">\n",
       "  <thead>\n",
       "    <tr style=\"text-align: right;\">\n",
       "      <th></th>\n",
       "      <th>a[type A]</th>\n",
       "      <th>a[type B]</th>\n",
       "      <th>a[type C]</th>\n",
       "    </tr>\n",
       "  </thead>\n",
       "  <tbody>\n",
       "    <tr>\n",
       "      <th>0</th>\n",
       "      <td>1.0</td>\n",
       "      <td>0.0</td>\n",
       "      <td>0.0</td>\n",
       "    </tr>\n",
       "    <tr>\n",
       "      <th>1</th>\n",
       "      <td>0.0</td>\n",
       "      <td>1.0</td>\n",
       "      <td>0.0</td>\n",
       "    </tr>\n",
       "    <tr>\n",
       "      <th>2</th>\n",
       "      <td>0.0</td>\n",
       "      <td>0.0</td>\n",
       "      <td>1.0</td>\n",
       "    </tr>\n",
       "  </tbody>\n",
       "</table>\n",
       "</div>"
      ],
      "text/plain": [
       "   a[type A]  a[type B]  a[type C]\n",
       "0        1.0        0.0        0.0\n",
       "1        0.0        1.0        0.0\n",
       "2        0.0        0.0        1.0"
      ]
     },
     "execution_count": 55,
     "metadata": {},
     "output_type": "execute_result"
    }
   ],
   "source": [
    "patsy.dmatrices(\"y ~ - 1 + a\", data=data, return_type=\"dataframe\")[1]"
   ]
  },
  {
   "cell_type": "code",
   "execution_count": 56,
   "metadata": {},
   "outputs": [
    {
     "data": {
      "text/html": [
       "<div>\n",
       "<style scoped>\n",
       "    .dataframe tbody tr th:only-of-type {\n",
       "        vertical-align: middle;\n",
       "    }\n",
       "\n",
       "    .dataframe tbody tr th {\n",
       "        vertical-align: top;\n",
       "    }\n",
       "\n",
       "    .dataframe thead th {\n",
       "        text-align: right;\n",
       "    }\n",
       "</style>\n",
       "<table border=\"1\" class=\"dataframe\">\n",
       "  <thead>\n",
       "    <tr style=\"text-align: right;\">\n",
       "      <th></th>\n",
       "      <th>C(a, Poly).Constant</th>\n",
       "      <th>C(a, Poly).Linear</th>\n",
       "      <th>C(a, Poly).Quadratic</th>\n",
       "    </tr>\n",
       "  </thead>\n",
       "  <tbody>\n",
       "    <tr>\n",
       "      <th>0</th>\n",
       "      <td>1.0</td>\n",
       "      <td>-7.071068e-01</td>\n",
       "      <td>0.408248</td>\n",
       "    </tr>\n",
       "    <tr>\n",
       "      <th>1</th>\n",
       "      <td>1.0</td>\n",
       "      <td>-4.433780e-17</td>\n",
       "      <td>-0.816497</td>\n",
       "    </tr>\n",
       "    <tr>\n",
       "      <th>2</th>\n",
       "      <td>1.0</td>\n",
       "      <td>7.071068e-01</td>\n",
       "      <td>0.408248</td>\n",
       "    </tr>\n",
       "  </tbody>\n",
       "</table>\n",
       "</div>"
      ],
      "text/plain": [
       "   C(a, Poly).Constant  C(a, Poly).Linear  C(a, Poly).Quadratic\n",
       "0                  1.0      -7.071068e-01              0.408248\n",
       "1                  1.0      -4.433780e-17             -0.816497\n",
       "2                  1.0       7.071068e-01              0.408248"
      ]
     },
     "execution_count": 56,
     "metadata": {},
     "output_type": "execute_result"
    }
   ],
   "source": [
    "patsy.dmatrices(\"y ~ - 1 + C(a, Poly)\", data=data, return_type=\"dataframe\")[1]"
   ]
  },
  {
   "cell_type": "markdown",
   "metadata": {},
   "source": [
    "# Regresja liniowa"
   ]
  },
  {
   "cell_type": "code",
   "execution_count": 57,
   "metadata": {},
   "outputs": [],
   "source": [
    "np.random.seed(123456789)"
   ]
  },
  {
   "cell_type": "code",
   "execution_count": 58,
   "metadata": {},
   "outputs": [],
   "source": [
    "N = 100"
   ]
  },
  {
   "cell_type": "code",
   "execution_count": 59,
   "metadata": {},
   "outputs": [],
   "source": [
    "x1 = np.random.randn(N)"
   ]
  },
  {
   "cell_type": "code",
   "execution_count": 60,
   "metadata": {},
   "outputs": [],
   "source": [
    "x2 = np.random.randn(N)"
   ]
  },
  {
   "cell_type": "code",
   "execution_count": 61,
   "metadata": {},
   "outputs": [],
   "source": [
    "data = pd.DataFrame({\"x1\": x1, \"x2\": x2})"
   ]
  },
  {
   "cell_type": "code",
   "execution_count": 62,
   "metadata": {},
   "outputs": [],
   "source": [
    "def y_true(x1, x2):\n",
    "    return 1  + 2 * x1 + 3 * x2 + 4 * x1 * x2"
   ]
  },
  {
   "cell_type": "code",
   "execution_count": 63,
   "metadata": {},
   "outputs": [],
   "source": [
    "data[\"y_true\"] = y_true(x1, x2)"
   ]
  },
  {
   "cell_type": "code",
   "execution_count": 64,
   "metadata": {},
   "outputs": [],
   "source": [
    "e = np.random.randn(N)"
   ]
  },
  {
   "cell_type": "code",
   "execution_count": 65,
   "metadata": {},
   "outputs": [],
   "source": [
    "data[\"y\"] = data[\"y_true\"] + e"
   ]
  },
  {
   "cell_type": "code",
   "execution_count": 66,
   "metadata": {},
   "outputs": [
    {
     "data": {
      "text/html": [
       "<div>\n",
       "<style scoped>\n",
       "    .dataframe tbody tr th:only-of-type {\n",
       "        vertical-align: middle;\n",
       "    }\n",
       "\n",
       "    .dataframe tbody tr th {\n",
       "        vertical-align: top;\n",
       "    }\n",
       "\n",
       "    .dataframe thead th {\n",
       "        text-align: right;\n",
       "    }\n",
       "</style>\n",
       "<table border=\"1\" class=\"dataframe\">\n",
       "  <thead>\n",
       "    <tr style=\"text-align: right;\">\n",
       "      <th></th>\n",
       "      <th>x1</th>\n",
       "      <th>x2</th>\n",
       "      <th>y_true</th>\n",
       "      <th>y</th>\n",
       "    </tr>\n",
       "  </thead>\n",
       "  <tbody>\n",
       "    <tr>\n",
       "      <th>0</th>\n",
       "      <td>2.212902</td>\n",
       "      <td>-0.474588</td>\n",
       "      <td>-0.198823</td>\n",
       "      <td>-1.452775</td>\n",
       "    </tr>\n",
       "    <tr>\n",
       "      <th>1</th>\n",
       "      <td>2.128398</td>\n",
       "      <td>-1.524772</td>\n",
       "      <td>-12.298805</td>\n",
       "      <td>-12.560965</td>\n",
       "    </tr>\n",
       "    <tr>\n",
       "      <th>2</th>\n",
       "      <td>1.841711</td>\n",
       "      <td>-1.939271</td>\n",
       "      <td>-15.420705</td>\n",
       "      <td>-14.715090</td>\n",
       "    </tr>\n",
       "    <tr>\n",
       "      <th>3</th>\n",
       "      <td>0.082382</td>\n",
       "      <td>0.345148</td>\n",
       "      <td>2.313945</td>\n",
       "      <td>1.190283</td>\n",
       "    </tr>\n",
       "    <tr>\n",
       "      <th>4</th>\n",
       "      <td>0.858964</td>\n",
       "      <td>-0.621523</td>\n",
       "      <td>-1.282107</td>\n",
       "      <td>0.307772</td>\n",
       "    </tr>\n",
       "  </tbody>\n",
       "</table>\n",
       "</div>"
      ],
      "text/plain": [
       "         x1        x2     y_true          y\n",
       "0  2.212902 -0.474588  -0.198823  -1.452775\n",
       "1  2.128398 -1.524772 -12.298805 -12.560965\n",
       "2  1.841711 -1.939271 -15.420705 -14.715090\n",
       "3  0.082382  0.345148   2.313945   1.190283\n",
       "4  0.858964 -0.621523  -1.282107   0.307772"
      ]
     },
     "execution_count": 66,
     "metadata": {},
     "output_type": "execute_result"
    }
   ],
   "source": [
    "data.head()"
   ]
  },
  {
   "cell_type": "code",
   "execution_count": 67,
   "metadata": {},
   "outputs": [
    {
     "data": {
      "image/png": "[encoded data removed]",
      "text/plain": [
       "<Figure size 576x288 with 2 Axes>"
      ]
     },
     "metadata": {},
     "output_type": "display_data"
    }
   ],
   "source": [
    "fig, axes = plt.subplots(1, 2, figsize=(8, 4))\n",
    "\n",
    "axes[0].scatter(data[\"x1\"], data[\"y\"])\n",
    "axes[1].scatter(data[\"x2\"], data[\"y\"])\n",
    "\n",
    "fig.tight_layout()"
   ]
  },
  {
   "cell_type": "code",
   "execution_count": 68,
   "metadata": {},
   "outputs": [
    {
     "data": {
      "text/plain": [
       "(100, 4)"
      ]
     },
     "execution_count": 68,
     "metadata": {},
     "output_type": "execute_result"
    }
   ],
   "source": [
    "data.shape"
   ]
  },
  {
   "cell_type": "code",
   "execution_count": 69,
   "metadata": {},
   "outputs": [],
   "source": [
    "model = smf.ols(\"y ~ x1 + x2\", data)"
   ]
  },
  {
   "cell_type": "code",
   "execution_count": 70,
   "metadata": {},
   "outputs": [],
   "source": [
    "result = model.fit()"
   ]
  },
  {
   "cell_type": "code",
   "execution_count": 71,
   "metadata": {},
   "outputs": [
    {
     "name": "stdout",
     "output_type": "stream",
     "text": [
      "                            OLS Regression Results                            \n",
      "==============================================================================\n",
      "Dep. Variable:                      y   R-squared:                       0.380\n",
      "Model:                            OLS   Adj. R-squared:                  0.367\n",
      "Method:                 Least Squares   F-statistic:                     29.76\n",
      "Date:                Wed, 26 Aug 2020   Prob (F-statistic):           8.36e-11\n",
      "Time:                        17:19:02   Log-Likelihood:                -271.52\n",
      "No. Observations:                 100   AIC:                             549.0\n",
      "Df Residuals:                      97   BIC:                             556.9\n",
      "Df Model:                           2                                         \n",
      "Covariance Type:            nonrobust                                         \n",
      "==============================================================================\n",
      "                 coef    std err          t      P>|t|      [0.025      0.975]\n",
      "------------------------------------------------------------------------------\n",
      "Intercept      0.9868      0.382      2.581      0.011       0.228       1.746\n",
      "x1             1.0810      0.391      2.766      0.007       0.305       1.857\n",
      "x2             3.0793      0.432      7.134      0.000       2.223       3.936\n",
      "==============================================================================\n",
      "Omnibus:                       19.951   Durbin-Watson:                   1.682\n",
      "Prob(Omnibus):                  0.000   Jarque-Bera (JB):               49.964\n",
      "Skew:                          -0.660   Prob(JB):                     1.41e-11\n",
      "Kurtosis:                       6.201   Cond. No.                         1.32\n",
      "==============================================================================\n",
      "\n",
      "Warnings:\n",
      "[1] Standard Errors assume that the covariance matrix of the errors is correctly specified.\n"
     ]
    }
   ],
   "source": [
    "print(result.summary())"
   ]
  },
  {
   "cell_type": "code",
   "execution_count": 72,
   "metadata": {},
   "outputs": [
    {
     "data": {
      "text/plain": [
       "0.3802538325513254"
      ]
     },
     "execution_count": 72,
     "metadata": {},
     "output_type": "execute_result"
    }
   ],
   "source": [
    "result.rsquared"
   ]
  },
  {
   "cell_type": "code",
   "execution_count": 73,
   "metadata": {},
   "outputs": [
    {
     "data": {
      "text/plain": [
       "0    -3.370455\n",
       "1   -11.153477\n",
       "2   -11.721319\n",
       "3    -0.948410\n",
       "4     0.306215\n",
       "dtype: float64"
      ]
     },
     "execution_count": 73,
     "metadata": {},
     "output_type": "execute_result"
    }
   ],
   "source": [
    "result.resid.head()"
   ]
  },
  {
   "cell_type": "code",
   "execution_count": 74,
   "metadata": {},
   "outputs": [],
   "source": [
    "z, p = stats.normaltest(result.resid.values)"
   ]
  },
  {
   "cell_type": "code",
   "execution_count": 75,
   "metadata": {},
   "outputs": [
    {
     "data": {
      "text/plain": [
       "4.6524990253009316e-05"
      ]
     },
     "execution_count": 75,
     "metadata": {},
     "output_type": "execute_result"
    }
   ],
   "source": [
    "p"
   ]
  },
  {
   "cell_type": "code",
   "execution_count": 76,
   "metadata": {},
   "outputs": [
    {
     "data": {
      "text/plain": [
       "Intercept    0.986826\n",
       "x1           1.081044\n",
       "x2           3.079284\n",
       "dtype: float64"
      ]
     },
     "execution_count": 76,
     "metadata": {},
     "output_type": "execute_result"
    }
   ],
   "source": [
    "result.params"
   ]
  },
  {
   "cell_type": "code",
   "execution_count": 77,
   "metadata": {},
   "outputs": [
    {
     "data": {
      "image/png": "[encoded data removed]",
      "text/plain": [
       "<Figure size 576x288 with 1 Axes>"
      ]
     },
     "metadata": {},
     "output_type": "display_data"
    }
   ],
   "source": [
    "fig, ax = plt.subplots(figsize=(8, 4))\n",
    "smg.qqplot(result.resid, ax=ax)\n",
    "ax.set_xlabel('Kwantyle teoretyczne')\n",
    "ax.set_ylabel('Kwantyle z próby')\n",
    "\n",
    "\n",
    "fig.tight_layout()\n",
    "fig.savefig(\"ch14-qqplot-model-1.pdf\")"
   ]
  },
  {
   "cell_type": "code",
   "execution_count": 78,
   "metadata": {},
   "outputs": [],
   "source": [
    "model = smf.ols(\"y ~ x1 + x2 + x1*x2\", data)"
   ]
  },
  {
   "cell_type": "code",
   "execution_count": 79,
   "metadata": {},
   "outputs": [],
   "source": [
    "result = model.fit()"
   ]
  },
  {
   "cell_type": "code",
   "execution_count": 80,
   "metadata": {},
   "outputs": [
    {
     "name": "stdout",
     "output_type": "stream",
     "text": [
      "                            OLS Regression Results                            \n",
      "==============================================================================\n",
      "Dep. Variable:                      y   R-squared:                       0.955\n",
      "Model:                            OLS   Adj. R-squared:                  0.954\n",
      "Method:                 Least Squares   F-statistic:                     684.5\n",
      "Date:                Wed, 26 Aug 2020   Prob (F-statistic):           1.21e-64\n",
      "Time:                        17:19:02   Log-Likelihood:                -140.01\n",
      "No. Observations:                 100   AIC:                             288.0\n",
      "Df Residuals:                      96   BIC:                             298.4\n",
      "Df Model:                           3                                         \n",
      "Covariance Type:            nonrobust                                         \n",
      "==============================================================================\n",
      "                 coef    std err          t      P>|t|      [0.025      0.975]\n",
      "------------------------------------------------------------------------------\n",
      "Intercept      0.8706      0.103      8.433      0.000       0.666       1.076\n",
      "x1             1.9693      0.108     18.160      0.000       1.754       2.185\n",
      "x2             2.9670      0.117     25.466      0.000       2.736       3.198\n",
      "x1:x2          3.9440      0.112     35.159      0.000       3.721       4.167\n",
      "==============================================================================\n",
      "Omnibus:                        2.950   Durbin-Watson:                   2.072\n",
      "Prob(Omnibus):                  0.229   Jarque-Bera (JB):                2.734\n",
      "Skew:                           0.327   Prob(JB):                        0.255\n",
      "Kurtosis:                       2.521   Cond. No.                         1.38\n",
      "==============================================================================\n",
      "\n",
      "Warnings:\n",
      "[1] Standard Errors assume that the covariance matrix of the errors is correctly specified.\n"
     ]
    }
   ],
   "source": [
    "print(result.summary())"
   ]
  },
  {
   "cell_type": "code",
   "execution_count": 81,
   "metadata": {},
   "outputs": [
    {
     "data": {
      "text/plain": [
       "Intercept    0.870620\n",
       "x1           1.969345\n",
       "x2           2.967004\n",
       "x1:x2        3.943993\n",
       "dtype: float64"
      ]
     },
     "execution_count": 81,
     "metadata": {},
     "output_type": "execute_result"
    }
   ],
   "source": [
    "result.params"
   ]
  },
  {
   "cell_type": "code",
   "execution_count": 82,
   "metadata": {},
   "outputs": [
    {
     "data": {
      "text/plain": [
       "0.9553393745884368"
      ]
     },
     "execution_count": 82,
     "metadata": {},
     "output_type": "execute_result"
    }
   ],
   "source": [
    "result.rsquared"
   ]
  },
  {
   "cell_type": "code",
   "execution_count": 83,
   "metadata": {},
   "outputs": [],
   "source": [
    "z, p = stats.normaltest(result.resid.values)"
   ]
  },
  {
   "cell_type": "code",
   "execution_count": 84,
   "metadata": {},
   "outputs": [
    {
     "data": {
      "text/plain": [
       "0.22874710482505126"
      ]
     },
     "execution_count": 84,
     "metadata": {},
     "output_type": "execute_result"
    }
   ],
   "source": [
    "p"
   ]
  },
  {
   "cell_type": "code",
   "execution_count": 85,
   "metadata": {},
   "outputs": [
    {
     "data": {
      "image/png": "[encoded data removed]",
      "text/plain": [
       "<Figure size 576x288 with 1 Axes>"
      ]
     },
     "metadata": {},
     "output_type": "display_data"
    }
   ],
   "source": [
    "fig, ax = plt.subplots(figsize=(8, 4))\n",
    "smg.qqplot(result.resid, ax=ax)\n",
    "ax.set_xlabel('Kwantyle teoretyczne')\n",
    "ax.set_ylabel('Kwantyle z próby')\n",
    "\n",
    "fig.tight_layout()\n",
    "fig.savefig(\"ch14-qqplot-model-2.pdf\")"
   ]
  },
  {
   "cell_type": "code",
   "execution_count": 86,
   "metadata": {},
   "outputs": [],
   "source": [
    "x = np.linspace(-1, 1, 50)"
   ]
  },
  {
   "cell_type": "code",
   "execution_count": 87,
   "metadata": {},
   "outputs": [],
   "source": [
    "X1, X2 = np.meshgrid(x, x)"
   ]
  },
  {
   "cell_type": "code",
   "execution_count": 88,
   "metadata": {},
   "outputs": [],
   "source": [
    "new_data = pd.DataFrame({\"x1\": X1.ravel(), \"x2\": X2.ravel()})"
   ]
  },
  {
   "cell_type": "code",
   "execution_count": 89,
   "metadata": {},
   "outputs": [],
   "source": [
    "y_pred = result.predict(new_data)"
   ]
  },
  {
   "cell_type": "code",
   "execution_count": 90,
   "metadata": {},
   "outputs": [
    {
     "data": {
      "text/plain": [
       "(2500,)"
      ]
     },
     "execution_count": 90,
     "metadata": {},
     "output_type": "execute_result"
    }
   ],
   "source": [
    "y_pred.shape"
   ]
  },
  {
   "cell_type": "code",
   "execution_count": 91,
   "metadata": {},
   "outputs": [],
   "source": [
    "y_pred = y_pred.values.reshape(50, 50)"
   ]
  },
  {
   "cell_type": "code",
   "execution_count": 92,
   "metadata": {},
   "outputs": [
    {
     "data": {
      "image/png": "[encoded data removed]",
      "text/plain": [
       "<Figure size 864x360 with 4 Axes>"
      ]
     },
     "metadata": {},
     "output_type": "display_data"
    }
   ],
   "source": [
    "fig, axes = plt.subplots(1, 2, figsize=(12, 5), sharey=True)\n",
    "\n",
    "def plot_y_contour(ax, Y, title):\n",
    "    c = ax.contourf(X1, X2, Y, 15, cmap=plt.cm.RdBu)\n",
    "    ax.set_xlabel(r\"$x_1$\", fontsize=20)\n",
    "    ax.set_ylabel(r\"$x_2$\", fontsize=20)\n",
    "    ax.set_title(title)\n",
    "    cb = fig.colorbar(c, ax=ax)\n",
    "    cb.set_label(r\"$y$\", fontsize=20)\n",
    "\n",
    "plot_y_contour(axes[0], y_true(X1, X2), \"Rzeczywisty model\")\n",
    "plot_y_contour(axes[1], y_pred, \"Dopasowany model\")\n",
    "\n",
    "fig.tight_layout()\n",
    "fig.savefig(\"ch14-comparison-model-true.pdf\")"
   ]
  },
  {
   "cell_type": "markdown",
   "metadata": {},
   "source": [
    "### Zbiory danych z R"
   ]
  },
  {
   "cell_type": "code",
   "execution_count": 93,
   "metadata": {},
   "outputs": [],
   "source": [
    "dataset = sm.datasets.get_rdataset(\"Icecream\", \"Ecdat\")"
   ]
  },
  {
   "cell_type": "code",
   "execution_count": 94,
   "metadata": {},
   "outputs": [
    {
     "data": {
      "text/plain": [
       "'Ice Cream Consumption'"
      ]
     },
     "execution_count": 94,
     "metadata": {},
     "output_type": "execute_result"
    }
   ],
   "source": [
    "dataset.title"
   ]
  },
  {
   "cell_type": "code",
   "execution_count": 95,
   "metadata": {
    "scrolled": false
   },
   "outputs": [
    {
     "name": "stdout",
     "output_type": "stream",
     "text": [
      "======== ===============\n",
      "Icecream R Documentation\n",
      "======== ===============\n",
      "\n",
      "Ice Cream Consumption\n",
      "---------------------\n",
      "\n",
      "Description\n",
      "~~~~~~~~~~~\n",
      "\n",
      "four–weekly observations from 1951–03–18 to 1953–07–11\n",
      "\n",
      "*number of observations* : 30\n",
      "\n",
      "*observation* : country\n",
      "\n",
      "*country* : United States\n",
      "\n",
      "Usage\n",
      "~~~~~\n",
      "\n",
      "::\n",
      "\n",
      "   data(Icecream)\n",
      "\n",
      "Format\n",
      "~~~~~~\n",
      "\n",
      "A time series containing :\n",
      "\n",
      "cons\n",
      "   consumption of ice cream per head (in pints);\n",
      "\n",
      "income\n",
      "   average family income per week (in US Dollars);\n",
      "\n",
      "price\n",
      "   price of ice cream (per pint);\n",
      "\n",
      "temp\n",
      "   average temperature (in Fahrenheit);\n",
      "\n",
      "Source\n",
      "~~~~~~\n",
      "\n",
      "Hildreth, C. and J. Lu (1960) *Demand relations with autocorrelated\n",
      "disturbances*, Technical Bulletin No 2765, Michigan State University.\n",
      "\n",
      "References\n",
      "~~~~~~~~~~\n",
      "\n",
      "Verbeek, Marno (2004) *A Guide to Modern Econometrics*, John Wiley and\n",
      "Sons, chapter 4.\n",
      "\n",
      "See Also\n",
      "~~~~~~~~\n",
      "\n",
      "``Index.Source``, ``Index.Economics``, ``Index.Econometrics``,\n",
      "``Index.Observations``,\n",
      "\n",
      "``Index.Time.Series``\n",
      "\n"
     ]
    }
   ],
   "source": [
    "print(dataset.__doc__)"
   ]
  },
  {
   "cell_type": "code",
   "execution_count": 96,
   "metadata": {},
   "outputs": [
    {
     "name": "stdout",
     "output_type": "stream",
     "text": [
      "<class 'pandas.core.frame.DataFrame'>\n",
      "RangeIndex: 30 entries, 0 to 29\n",
      "Data columns (total 4 columns):\n",
      " #   Column  Non-Null Count  Dtype  \n",
      "---  ------  --------------  -----  \n",
      " 0   cons    30 non-null     float64\n",
      " 1   income  30 non-null     int64  \n",
      " 2   price   30 non-null     float64\n",
      " 3   temp    30 non-null     int64  \n",
      "dtypes: float64(2), int64(2)\n",
      "memory usage: 1.1 KB\n"
     ]
    }
   ],
   "source": [
    "dataset.data.info()"
   ]
  },
  {
   "cell_type": "code",
   "execution_count": 97,
   "metadata": {},
   "outputs": [],
   "source": [
    "model = smf.ols(\"cons ~ -1 + price + temp\", data=dataset.data)"
   ]
  },
  {
   "cell_type": "code",
   "execution_count": 98,
   "metadata": {},
   "outputs": [],
   "source": [
    "result = model.fit()"
   ]
  },
  {
   "cell_type": "code",
   "execution_count": 99,
   "metadata": {},
   "outputs": [
    {
     "name": "stdout",
     "output_type": "stream",
     "text": [
      "                                 OLS Regression Results                                \n",
      "=======================================================================================\n",
      "Dep. Variable:                   cons   R-squared (uncentered):                   0.986\n",
      "Model:                            OLS   Adj. R-squared (uncentered):              0.985\n",
      "Method:                 Least Squares   F-statistic:                              1001.\n",
      "Date:                Wed, 26 Aug 2020   Prob (F-statistic):                    9.03e-27\n",
      "Time:                        17:19:05   Log-Likelihood:                          51.903\n",
      "No. Observations:                  30   AIC:                                     -99.81\n",
      "Df Residuals:                      28   BIC:                                     -97.00\n",
      "Df Model:                           2                                                  \n",
      "Covariance Type:            nonrobust                                                  \n",
      "==============================================================================\n",
      "                 coef    std err          t      P>|t|      [0.025      0.975]\n",
      "------------------------------------------------------------------------------\n",
      "price          0.7254      0.093      7.805      0.000       0.535       0.916\n",
      "temp           0.0032      0.000      6.549      0.000       0.002       0.004\n",
      "==============================================================================\n",
      "Omnibus:                        5.350   Durbin-Watson:                   0.637\n",
      "Prob(Omnibus):                  0.069   Jarque-Bera (JB):                3.675\n",
      "Skew:                           0.776   Prob(JB):                        0.159\n",
      "Kurtosis:                       3.729   Cond. No.                         593.\n",
      "==============================================================================\n",
      "\n",
      "Warnings:\n",
      "[1] Standard Errors assume that the covariance matrix of the errors is correctly specified.\n"
     ]
    }
   ],
   "source": [
    "print(result.summary())"
   ]
  },
  {
   "cell_type": "code",
   "execution_count": 100,
   "metadata": {},
   "outputs": [
    {
     "data": {
      "image/png": "[encoded data removed]",
      "text/plain": [
       "<Figure size 864x288 with 2 Axes>"
      ]
     },
     "metadata": {},
     "output_type": "display_data"
    }
   ],
   "source": [
    "fig, (ax1, ax2) = plt.subplots(1, 2, figsize=(12, 4))\n",
    "\n",
    "smg.plot_fit(result, 0, ax=ax1)\n",
    "smg.plot_fit(result, 1, ax=ax2)\n",
    "\n",
    "ax1.set_title(\"Dopasowane wartości w funkcji ceny\")\n",
    "ax2.set_title(\"Dopasowane wartości w funkcji temperatury\")\n",
    "\n",
    "ax1.set_xlabel(\"Cena (price)\")\n",
    "ax1.set_ylabel(\"Spożycie lodów (cons)\")\n",
    "\n",
    "ax2.set_xlabel(\"Temperatura (temp)\")\n",
    "ax2.set_ylabel(\"Spożycie lodów (cons)\")\n",
    "\n",
    "legend1=ax1.legend()\n",
    "legend1.get_texts()[0].set_text('Spożycie')\n",
    "legend1.get_texts()[1].set_text('Dopasowanie')\n",
    "\n",
    "legend2=ax2.legend()\n",
    "legend2.get_texts()[0].set_text('Spożycie')\n",
    "legend2.get_texts()[1].set_text('Dopasowanie')\n",
    "\n",
    "\n",
    "\n",
    "\n",
    "fig.tight_layout()\n",
    "fig.savefig(\"ch14-regressionplots.pdf\")"
   ]
  },
  {
   "cell_type": "code",
   "execution_count": 101,
   "metadata": {},
   "outputs": [
    {
     "data": {
      "image/png": "[encoded data removed]",
      "text/plain": [
       "<Figure size 864x288 with 2 Axes>"
      ]
     },
     "metadata": {},
     "output_type": "display_data"
    }
   ],
   "source": [
    "fig, (ax1, ax2) = plt.subplots(1, 2, figsize=(12, 4))\n",
    "\n",
    "sns.regplot(\"price\", \"cons\", dataset.data, ax=ax1);\n",
    "sns.regplot(\"temp\", \"cons\", dataset.data, ax=ax2);\n",
    "\n",
    "fig.tight_layout()\n",
    "fig.savefig(\"ch14-regressionplots-seaborn.pdf\")"
   ]
  },
  {
   "cell_type": "markdown",
   "metadata": {},
   "source": [
    "## Regresja dyskretna, regresja logistyczna"
   ]
  },
  {
   "cell_type": "code",
   "execution_count": 102,
   "metadata": {},
   "outputs": [],
   "source": [
    "df = sm.datasets.get_rdataset(\"iris\").data"
   ]
  },
  {
   "cell_type": "code",
   "execution_count": 103,
   "metadata": {},
   "outputs": [
    {
     "name": "stdout",
     "output_type": "stream",
     "text": [
      "<class 'pandas.core.frame.DataFrame'>\n",
      "RangeIndex: 150 entries, 0 to 149\n",
      "Data columns (total 5 columns):\n",
      " #   Column        Non-Null Count  Dtype  \n",
      "---  ------        --------------  -----  \n",
      " 0   Sepal.Length  150 non-null    float64\n",
      " 1   Sepal.Width   150 non-null    float64\n",
      " 2   Petal.Length  150 non-null    float64\n",
      " 3   Petal.Width   150 non-null    float64\n",
      " 4   Species       150 non-null    object \n",
      "dtypes: float64(4), object(1)\n",
      "memory usage: 6.0+ KB\n"
     ]
    }
   ],
   "source": [
    "df.info()"
   ]
  },
  {
   "cell_type": "code",
   "execution_count": 104,
   "metadata": {},
   "outputs": [
    {
     "data": {
      "text/plain": [
       "array(['setosa', 'versicolor', 'virginica'], dtype=object)"
      ]
     },
     "execution_count": 104,
     "metadata": {},
     "output_type": "execute_result"
    }
   ],
   "source": [
    "df.Species.unique()"
   ]
  },
  {
   "cell_type": "code",
   "execution_count": 105,
   "metadata": {},
   "outputs": [],
   "source": [
    "df_subset = df[(df.Species == \"versicolor\") | (df.Species == \"virginica\" )].copy()"
   ]
  },
  {
   "cell_type": "code",
   "execution_count": 106,
   "metadata": {},
   "outputs": [],
   "source": [
    "df_subset = df[df.Species.isin([\"versicolor\", \"virginica\"])].copy()"
   ]
  },
  {
   "cell_type": "code",
   "execution_count": 107,
   "metadata": {},
   "outputs": [],
   "source": [
    "df_subset.Species = df_subset.Species.map({\"versicolor\": 1, \"virginica\": 0})"
   ]
  },
  {
   "cell_type": "code",
   "execution_count": 108,
   "metadata": {},
   "outputs": [],
   "source": [
    "df_subset.rename(columns={\"Sepal.Length\": \"Sepal_Length\", \"Sepal.Width\": \"Sepal_Width\",\n",
    "                          \"Petal.Length\": \"Petal_Length\", \"Petal.Width\": \"Petal_Width\"}, inplace=True)"
   ]
  },
  {
   "cell_type": "code",
   "execution_count": 109,
   "metadata": {},
   "outputs": [
    {
     "data": {
      "text/html": [
       "<div>\n",
       "<style scoped>\n",
       "    .dataframe tbody tr th:only-of-type {\n",
       "        vertical-align: middle;\n",
       "    }\n",
       "\n",
       "    .dataframe tbody tr th {\n",
       "        vertical-align: top;\n",
       "    }\n",
       "\n",
       "    .dataframe thead th {\n",
       "        text-align: right;\n",
       "    }\n",
       "</style>\n",
       "<table border=\"1\" class=\"dataframe\">\n",
       "  <thead>\n",
       "    <tr style=\"text-align: right;\">\n",
       "      <th></th>\n",
       "      <th>Sepal_Length</th>\n",
       "      <th>Sepal_Width</th>\n",
       "      <th>Petal_Length</th>\n",
       "      <th>Petal_Width</th>\n",
       "      <th>Species</th>\n",
       "    </tr>\n",
       "  </thead>\n",
       "  <tbody>\n",
       "    <tr>\n",
       "      <th>50</th>\n",
       "      <td>7.0</td>\n",
       "      <td>3.2</td>\n",
       "      <td>4.7</td>\n",
       "      <td>1.4</td>\n",
       "      <td>1</td>\n",
       "    </tr>\n",
       "    <tr>\n",
       "      <th>51</th>\n",
       "      <td>6.4</td>\n",
       "      <td>3.2</td>\n",
       "      <td>4.5</td>\n",
       "      <td>1.5</td>\n",
       "      <td>1</td>\n",
       "    </tr>\n",
       "    <tr>\n",
       "      <th>52</th>\n",
       "      <td>6.9</td>\n",
       "      <td>3.1</td>\n",
       "      <td>4.9</td>\n",
       "      <td>1.5</td>\n",
       "      <td>1</td>\n",
       "    </tr>\n",
       "  </tbody>\n",
       "</table>\n",
       "</div>"
      ],
      "text/plain": [
       "    Sepal_Length  Sepal_Width  Petal_Length  Petal_Width  Species\n",
       "50           7.0          3.2           4.7          1.4        1\n",
       "51           6.4          3.2           4.5          1.5        1\n",
       "52           6.9          3.1           4.9          1.5        1"
      ]
     },
     "execution_count": 109,
     "metadata": {},
     "output_type": "execute_result"
    }
   ],
   "source": [
    "df_subset.head(3)"
   ]
  },
  {
   "cell_type": "code",
   "execution_count": 110,
   "metadata": {},
   "outputs": [],
   "source": [
    "model = smf.logit(\"Species ~ Sepal_Length + Sepal_Width + Petal_Length + Petal_Width\", data=df_subset)"
   ]
  },
  {
   "cell_type": "code",
   "execution_count": 111,
   "metadata": {},
   "outputs": [
    {
     "name": "stdout",
     "output_type": "stream",
     "text": [
      "Optimization terminated successfully.\n",
      "         Current function value: 0.059493\n",
      "         Iterations 12\n"
     ]
    }
   ],
   "source": [
    "result = model.fit()"
   ]
  },
  {
   "cell_type": "code",
   "execution_count": 112,
   "metadata": {},
   "outputs": [
    {
     "name": "stdout",
     "output_type": "stream",
     "text": [
      "                           Logit Regression Results                           \n",
      "==============================================================================\n",
      "Dep. Variable:                Species   No. Observations:                  100\n",
      "Model:                          Logit   Df Residuals:                       95\n",
      "Method:                           MLE   Df Model:                            4\n",
      "Date:                Wed, 26 Aug 2020   Pseudo R-squ.:                  0.9142\n",
      "Time:                        17:19:08   Log-Likelihood:                -5.9493\n",
      "converged:                       True   LL-Null:                       -69.315\n",
      "Covariance Type:            nonrobust   LLR p-value:                 1.947e-26\n",
      "================================================================================\n",
      "                   coef    std err          z      P>|z|      [0.025      0.975]\n",
      "--------------------------------------------------------------------------------\n",
      "Intercept       42.6378     25.708      1.659      0.097      -7.748      93.024\n",
      "Sepal_Length     2.4652      2.394      1.030      0.303      -2.228       7.158\n",
      "Sepal_Width      6.6809      4.480      1.491      0.136      -2.099      15.461\n",
      "Petal_Length    -9.4294      4.737     -1.990      0.047     -18.714      -0.145\n",
      "Petal_Width    -18.2861      9.743     -1.877      0.061     -37.381       0.809\n",
      "================================================================================\n",
      "\n",
      "Possibly complete quasi-separation: A fraction 0.60 of observations can be\n",
      "perfectly predicted. This might indicate that there is complete\n",
      "quasi-separation. In this case some parameters will not be identified.\n"
     ]
    }
   ],
   "source": [
    "print(result.summary())"
   ]
  },
  {
   "cell_type": "code",
   "execution_count": 113,
   "metadata": {},
   "outputs": [
    {
     "name": "stdout",
     "output_type": "stream",
     "text": [
      "        Logit Marginal Effects       \n",
      "=====================================\n",
      "Dep. Variable:                Species\n",
      "Method:                          dydx\n",
      "At:                           overall\n",
      "================================================================================\n",
      "                  dy/dx    std err          z      P>|z|      [0.025      0.975]\n",
      "--------------------------------------------------------------------------------\n",
      "Sepal_Length     0.0445      0.038      1.163      0.245      -0.031       0.120\n",
      "Sepal_Width      0.1207      0.064      1.891      0.059      -0.004       0.246\n",
      "Petal_Length    -0.1703      0.057     -2.965      0.003      -0.283      -0.058\n",
      "Petal_Width     -0.3303      0.110     -2.998      0.003      -0.546      -0.114\n",
      "================================================================================\n"
     ]
    }
   ],
   "source": [
    "print(result.get_margeff().summary())"
   ]
  },
  {
   "cell_type": "markdown",
   "metadata": {},
   "source": [
    "**Uwaga:** Sepal_Length i Sepal_Width nie wydają się znacząco wpływać na predyktywność modelu. "
   ]
  },
  {
   "cell_type": "code",
   "execution_count": 114,
   "metadata": {},
   "outputs": [],
   "source": [
    "model = smf.logit(\"Species ~ Petal_Length + Petal_Width\", data=df_subset)"
   ]
  },
  {
   "cell_type": "code",
   "execution_count": 115,
   "metadata": {},
   "outputs": [
    {
     "name": "stdout",
     "output_type": "stream",
     "text": [
      "Optimization terminated successfully.\n",
      "         Current function value: 0.102818\n",
      "         Iterations 10\n"
     ]
    }
   ],
   "source": [
    "result = model.fit()"
   ]
  },
  {
   "cell_type": "code",
   "execution_count": 116,
   "metadata": {},
   "outputs": [
    {
     "name": "stdout",
     "output_type": "stream",
     "text": [
      "                           Logit Regression Results                           \n",
      "==============================================================================\n",
      "Dep. Variable:                Species   No. Observations:                  100\n",
      "Model:                          Logit   Df Residuals:                       97\n",
      "Method:                           MLE   Df Model:                            2\n",
      "Date:                Wed, 26 Aug 2020   Pseudo R-squ.:                  0.8517\n",
      "Time:                        17:19:08   Log-Likelihood:                -10.282\n",
      "converged:                       True   LL-Null:                       -69.315\n",
      "Covariance Type:            nonrobust   LLR p-value:                 2.303e-26\n",
      "================================================================================\n",
      "                   coef    std err          z      P>|z|      [0.025      0.975]\n",
      "--------------------------------------------------------------------------------\n",
      "Intercept       45.2723     13.612      3.326      0.001      18.594      71.951\n",
      "Petal_Length    -5.7545      2.306     -2.496      0.013     -10.274      -1.235\n",
      "Petal_Width    -10.4467      3.756     -2.782      0.005     -17.808      -3.086\n",
      "================================================================================\n",
      "\n",
      "Possibly complete quasi-separation: A fraction 0.34 of observations can be\n",
      "perfectly predicted. This might indicate that there is complete\n",
      "quasi-separation. In this case some parameters will not be identified.\n"
     ]
    }
   ],
   "source": [
    "print(result.summary())"
   ]
  },
  {
   "cell_type": "code",
   "execution_count": 117,
   "metadata": {
    "scrolled": true
   },
   "outputs": [
    {
     "name": "stdout",
     "output_type": "stream",
     "text": [
      "        Logit Marginal Effects       \n",
      "=====================================\n",
      "Dep. Variable:                Species\n",
      "Method:                          dydx\n",
      "At:                           overall\n",
      "================================================================================\n",
      "                  dy/dx    std err          z      P>|z|      [0.025      0.975]\n",
      "--------------------------------------------------------------------------------\n",
      "Petal_Length    -0.1736      0.052     -3.347      0.001      -0.275      -0.072\n",
      "Petal_Width     -0.3151      0.068     -4.608      0.000      -0.449      -0.181\n",
      "================================================================================\n"
     ]
    }
   ],
   "source": [
    "print(result.get_margeff().summary())"
   ]
  },
  {
   "cell_type": "code",
   "execution_count": 118,
   "metadata": {},
   "outputs": [],
   "source": [
    "params = result.params\n",
    "beta0 = -params['Intercept']/params['Petal_Width']\n",
    "beta1 = -params['Petal_Length']/params['Petal_Width']"
   ]
  },
  {
   "cell_type": "code",
   "execution_count": 119,
   "metadata": {},
   "outputs": [],
   "source": [
    "df_new = pd.DataFrame({\"Petal_Length\": np.random.randn(20)*0.5 + 5,\n",
    "                       \"Petal_Width\": np.random.randn(20)*0.5 + 1.7})"
   ]
  },
  {
   "cell_type": "code",
   "execution_count": 120,
   "metadata": {},
   "outputs": [],
   "source": [
    "df_new[\"P-Species\"] = result.predict(df_new)"
   ]
  },
  {
   "cell_type": "code",
   "execution_count": 121,
   "metadata": {},
   "outputs": [
    {
     "data": {
      "text/plain": [
       "0    0.995472\n",
       "1    0.799899\n",
       "2    0.000033\n",
       "Name: P-Species, dtype: float64"
      ]
     },
     "execution_count": 121,
     "metadata": {},
     "output_type": "execute_result"
    }
   ],
   "source": [
    "df_new[\"P-Species\"].head(3)"
   ]
  },
  {
   "cell_type": "code",
   "execution_count": 122,
   "metadata": {},
   "outputs": [],
   "source": [
    "df_new[\"Species\"] = (df_new[\"P-Species\"] > 0.5).astype(int)"
   ]
  },
  {
   "cell_type": "code",
   "execution_count": 123,
   "metadata": {},
   "outputs": [
    {
     "data": {
      "text/html": [
       "<div>\n",
       "<style scoped>\n",
       "    .dataframe tbody tr th:only-of-type {\n",
       "        vertical-align: middle;\n",
       "    }\n",
       "\n",
       "    .dataframe tbody tr th {\n",
       "        vertical-align: top;\n",
       "    }\n",
       "\n",
       "    .dataframe thead th {\n",
       "        text-align: right;\n",
       "    }\n",
       "</style>\n",
       "<table border=\"1\" class=\"dataframe\">\n",
       "  <thead>\n",
       "    <tr style=\"text-align: right;\">\n",
       "      <th></th>\n",
       "      <th>Petal_Length</th>\n",
       "      <th>Petal_Width</th>\n",
       "      <th>P-Species</th>\n",
       "      <th>Species</th>\n",
       "    </tr>\n",
       "  </thead>\n",
       "  <tbody>\n",
       "    <tr>\n",
       "      <th>0</th>\n",
       "      <td>4.717684</td>\n",
       "      <td>1.218695</td>\n",
       "      <td>0.995472</td>\n",
       "      <td>1</td>\n",
       "    </tr>\n",
       "    <tr>\n",
       "      <th>1</th>\n",
       "      <td>5.280952</td>\n",
       "      <td>1.292013</td>\n",
       "      <td>0.799899</td>\n",
       "      <td>1</td>\n",
       "    </tr>\n",
       "    <tr>\n",
       "      <th>2</th>\n",
       "      <td>5.610778</td>\n",
       "      <td>2.230056</td>\n",
       "      <td>0.000033</td>\n",
       "      <td>0</td>\n",
       "    </tr>\n",
       "    <tr>\n",
       "      <th>3</th>\n",
       "      <td>4.458715</td>\n",
       "      <td>1.907844</td>\n",
       "      <td>0.421614</td>\n",
       "      <td>0</td>\n",
       "    </tr>\n",
       "    <tr>\n",
       "      <th>4</th>\n",
       "      <td>4.822227</td>\n",
       "      <td>1.938929</td>\n",
       "      <td>0.061070</td>\n",
       "      <td>0</td>\n",
       "    </tr>\n",
       "  </tbody>\n",
       "</table>\n",
       "</div>"
      ],
      "text/plain": [
       "   Petal_Length  Petal_Width  P-Species  Species\n",
       "0      4.717684     1.218695   0.995472        1\n",
       "1      5.280952     1.292013   0.799899        1\n",
       "2      5.610778     2.230056   0.000033        0\n",
       "3      4.458715     1.907844   0.421614        0\n",
       "4      4.822227     1.938929   0.061070        0"
      ]
     },
     "execution_count": 123,
     "metadata": {},
     "output_type": "execute_result"
    }
   ],
   "source": [
    "df_new.head()"
   ]
  },
  {
   "cell_type": "code",
   "execution_count": 124,
   "metadata": {},
   "outputs": [
    {
     "data": {
      "image/png": "[encoded data removed]",
      "text/plain": [
       "<Figure size 576x288 with 1 Axes>"
      ]
     },
     "metadata": {},
     "output_type": "display_data"
    }
   ],
   "source": [
    "fig, ax = plt.subplots(1, 1, figsize=(8, 4))\n",
    "\n",
    "# Iris virginica\n",
    "ax.plot(df_subset[df_subset.Species == 0].Petal_Length.values,\n",
    "        df_subset[df_subset.Species == 0].Petal_Width.values, 's', label='iris virginica')\n",
    "ax.plot(df_new[df_new.Species == 0].Petal_Length.values,\n",
    "        df_new[df_new.Species == 0].Petal_Width.values,\n",
    "        'o', markersize=10, color=\"steelblue\", label='iris virginica (predykcja)')\n",
    "\n",
    "# Iris versicolor\n",
    "ax.plot(df_subset[df_subset.Species == 1].Petal_Length.values,\n",
    "        df_subset[df_subset.Species == 1].Petal_Width.values, 's', label='iris versicolor')\n",
    "ax.plot(df_new[df_new.Species == 1].Petal_Length.values,\n",
    "        df_new[df_new.Species == 1].Petal_Width.values,\n",
    "        'o', markersize=10, color=\"green\", label='iris versicolor (predykcja)')\n",
    "\n",
    "# Linia graniczna\n",
    "_x = np.array([4.0, 6.1])\n",
    "ax.plot(_x, beta0 + beta1 * _x, 'k')\n",
    "\n",
    "ax.set_xlabel('Długość płatka')\n",
    "ax.set_ylabel('Szerokość płatka')\n",
    "ax.legend(loc=2)\n",
    "fig.tight_layout()\n",
    "fig.savefig(\"ch14-logit.pdf\")"
   ]
  },
  {
   "cell_type": "markdown",
   "metadata": {},
   "source": [
    "### Model Poissona"
   ]
  },
  {
   "cell_type": "code",
   "execution_count": 125,
   "metadata": {},
   "outputs": [],
   "source": [
    "dataset = sm.datasets.get_rdataset(\"discoveries\")"
   ]
  },
  {
   "cell_type": "code",
   "execution_count": 126,
   "metadata": {},
   "outputs": [],
   "source": [
    "df = dataset.data.rename(columns={\"value\": \"Liczba_odkryć\",\"time\": \"Rok\"}).set_index(\"Rok\")\n"
   ]
  },
  {
   "cell_type": "code",
   "execution_count": 127,
   "metadata": {},
   "outputs": [
    {
     "data": {
      "text/html": [
       "<div>\n",
       "<style scoped>\n",
       "    .dataframe tbody tr th:only-of-type {\n",
       "        vertical-align: middle;\n",
       "    }\n",
       "\n",
       "    .dataframe tbody tr th {\n",
       "        vertical-align: top;\n",
       "    }\n",
       "\n",
       "    .dataframe thead th {\n",
       "        text-align: right;\n",
       "    }\n",
       "</style>\n",
       "<table border=\"1\" class=\"dataframe\">\n",
       "  <thead>\n",
       "    <tr style=\"text-align: right;\">\n",
       "      <th>Rok</th>\n",
       "      <th>1860</th>\n",
       "      <th>1861</th>\n",
       "      <th>1862</th>\n",
       "      <th>1863</th>\n",
       "      <th>1864</th>\n",
       "      <th>1865</th>\n",
       "      <th>1866</th>\n",
       "      <th>1867</th>\n",
       "      <th>1868</th>\n",
       "      <th>1869</th>\n",
       "    </tr>\n",
       "  </thead>\n",
       "  <tbody>\n",
       "    <tr>\n",
       "      <th>Liczba_odkryć</th>\n",
       "      <td>5</td>\n",
       "      <td>3</td>\n",
       "      <td>0</td>\n",
       "      <td>2</td>\n",
       "      <td>0</td>\n",
       "      <td>3</td>\n",
       "      <td>2</td>\n",
       "      <td>3</td>\n",
       "      <td>6</td>\n",
       "      <td>1</td>\n",
       "    </tr>\n",
       "  </tbody>\n",
       "</table>\n",
       "</div>"
      ],
      "text/plain": [
       "Rok            1860  1861  1862  1863  1864  1865  1866  1867  1868  1869\n",
       "Liczba_odkryć     5     3     0     2     0     3     2     3     6     1"
      ]
     },
     "execution_count": 127,
     "metadata": {},
     "output_type": "execute_result"
    }
   ],
   "source": [
    "df.head(10).T"
   ]
  },
  {
   "cell_type": "code",
   "execution_count": 128,
   "metadata": {
    "scrolled": false
   },
   "outputs": [
    {
     "data": {
      "image/png": "[encoded data removed]",
      "text/plain": [
       "<Figure size 1152x288 with 1 Axes>"
      ]
     },
     "metadata": {},
     "output_type": "display_data"
    }
   ],
   "source": [
    "fig, ax = plt.subplots(1, 1, figsize=(16, 4))\n",
    "df.plot(kind='bar', ax=ax)\n",
    "fig.tight_layout()\n",
    "fig.savefig(\"ch14-discoveries.pdf\")"
   ]
  },
  {
   "cell_type": "code",
   "execution_count": 129,
   "metadata": {},
   "outputs": [],
   "source": [
    "model = smf.poisson(\"Liczba_odkryć ~ 1\", data=df)"
   ]
  },
  {
   "cell_type": "code",
   "execution_count": 130,
   "metadata": {},
   "outputs": [
    {
     "name": "stdout",
     "output_type": "stream",
     "text": [
      "Optimization terminated successfully.\n",
      "         Current function value: 2.168457\n",
      "         Iterations 1\n"
     ]
    }
   ],
   "source": [
    "result = model.fit()"
   ]
  },
  {
   "cell_type": "code",
   "execution_count": 131,
   "metadata": {},
   "outputs": [
    {
     "name": "stdout",
     "output_type": "stream",
     "text": [
      "                          Poisson Regression Results                          \n",
      "==============================================================================\n",
      "Dep. Variable:          Liczba_odkryć   No. Observations:                  100\n",
      "Model:                        Poisson   Df Residuals:                       99\n",
      "Method:                           MLE   Df Model:                            0\n",
      "Date:                Wed, 26 Aug 2020   Pseudo R-squ.:                   0.000\n",
      "Time:                        17:19:14   Log-Likelihood:                -216.85\n",
      "converged:                       True   LL-Null:                       -216.85\n",
      "Covariance Type:            nonrobust   LLR p-value:                       nan\n",
      "==============================================================================\n",
      "                 coef    std err          z      P>|z|      [0.025      0.975]\n",
      "------------------------------------------------------------------------------\n",
      "Intercept      1.1314      0.057     19.920      0.000       1.020       1.243\n",
      "==============================================================================\n"
     ]
    }
   ],
   "source": [
    "print(result.summary())"
   ]
  },
  {
   "cell_type": "code",
   "execution_count": 132,
   "metadata": {},
   "outputs": [],
   "source": [
    "lmbda = np.exp(result.params) "
   ]
  },
  {
   "cell_type": "code",
   "execution_count": 133,
   "metadata": {},
   "outputs": [],
   "source": [
    "X = stats.poisson(lmbda)"
   ]
  },
  {
   "cell_type": "code",
   "execution_count": 134,
   "metadata": {},
   "outputs": [
    {
     "data": {
      "text/html": [
       "<div>\n",
       "<style scoped>\n",
       "    .dataframe tbody tr th:only-of-type {\n",
       "        vertical-align: middle;\n",
       "    }\n",
       "\n",
       "    .dataframe tbody tr th {\n",
       "        vertical-align: top;\n",
       "    }\n",
       "\n",
       "    .dataframe thead th {\n",
       "        text-align: right;\n",
       "    }\n",
       "</style>\n",
       "<table border=\"1\" class=\"dataframe\">\n",
       "  <thead>\n",
       "    <tr style=\"text-align: right;\">\n",
       "      <th></th>\n",
       "      <th>0</th>\n",
       "      <th>1</th>\n",
       "    </tr>\n",
       "  </thead>\n",
       "  <tbody>\n",
       "    <tr>\n",
       "      <th>Intercept</th>\n",
       "      <td>1.020084</td>\n",
       "      <td>1.242721</td>\n",
       "    </tr>\n",
       "  </tbody>\n",
       "</table>\n",
       "</div>"
      ],
      "text/plain": [
       "                  0         1\n",
       "Intercept  1.020084  1.242721"
      ]
     },
     "execution_count": 134,
     "metadata": {},
     "output_type": "execute_result"
    }
   ],
   "source": [
    "result.conf_int()"
   ]
  },
  {
   "cell_type": "code",
   "execution_count": 135,
   "metadata": {},
   "outputs": [],
   "source": [
    "X_ci_l = stats.poisson(np.exp(result.conf_int().values)[0, 0])"
   ]
  },
  {
   "cell_type": "code",
   "execution_count": 136,
   "metadata": {},
   "outputs": [],
   "source": [
    "X_ci_u = stats.poisson(np.exp(result.conf_int().values)[0, 1])"
   ]
  },
  {
   "cell_type": "code",
   "execution_count": 137,
   "metadata": {},
   "outputs": [
    {
     "name": "stderr",
     "output_type": "stream",
     "text": [
      "<ipython-input-137-3d77bf3ffd41>:1: VisibleDeprecationWarning: Passing `normed=True` on non-uniform bins has always been broken, and computes neither the probability density function nor the probability mass function. The result is only correct if the bins are uniform, when density=True will produce the same result anyway. The argument will be removed in a future version of numpy.\n",
      "  v, k = np.histogram(df.values, bins=12, range=(0, 12), normed=True)\n"
     ]
    }
   ],
   "source": [
    "v, k = np.histogram(df.values, bins=12, range=(0, 12), normed=True)"
   ]
  },
  {
   "cell_type": "code",
   "execution_count": 138,
   "metadata": {},
   "outputs": [
    {
     "data": {
      "image/png": "[encoded data removed]",
      "text/plain": [
       "<Figure size 864x288 with 1 Axes>"
      ]
     },
     "metadata": {},
     "output_type": "display_data"
    }
   ],
   "source": [
    "fig, ax = plt.subplots(1, 1, figsize=(12, 4))\n",
    "ax.bar(k[:-1], v, color=\"steelblue\",  align='center', label='Liczba odkryć na rok') \n",
    "ax.bar(k-0.125, X_ci_l.pmf(k), color=\"red\", alpha=0.5, align='center', width=0.25, label='Model Poissona (dolna granica przedziału ufności)')\n",
    "ax.bar(k, X.pmf(k), color=\"green\",  align='center', width=0.5, label='Model Poissona')\n",
    "ax.bar(k+0.125, X_ci_u.pmf(k), color=\"red\",  alpha=0.5, align='center', width=0.25, label='Model Poissona (górna granica przedziału ufności)')\n",
    "ax.legend()\n",
    "fig.tight_layout()\n",
    "fig.savefig(\"ch14-discoveries-per-year.pdf\")"
   ]
  },
  {
   "cell_type": "markdown",
   "metadata": {},
   "source": [
    "## Szeregi czasowe"
   ]
  },
  {
   "cell_type": "code",
   "execution_count": 139,
   "metadata": {},
   "outputs": [],
   "source": [
    "df = pd.read_csv(\"temperatury_zewnetrzne_2014.tsv\", header=None, delimiter=\"\\t\", names=[\"Godzina\", \"Temperatura\"])\n",
    "df.Godzina = pd.to_datetime(df.Godzina, unit=\"s\")\n",
    "df = df.set_index(\"Godzina\").resample(\"H\").mean()"
   ]
  },
  {
   "cell_type": "code",
   "execution_count": 140,
   "metadata": {},
   "outputs": [],
   "source": [
    "df_march = df[df.index.month == 3]"
   ]
  },
  {
   "cell_type": "code",
   "execution_count": 141,
   "metadata": {},
   "outputs": [],
   "source": [
    "df_april = df[df.index.month == 4]"
   ]
  },
  {
   "cell_type": "code",
   "execution_count": 142,
   "metadata": {},
   "outputs": [
    {
     "data": {
      "image/png": "[encoded data removed]",
      "text/plain": [
       "<Figure size 864x288 with 1 Axes>"
      ]
     },
     "metadata": {},
     "output_type": "display_data"
    }
   ],
   "source": [
    "df_march.plot(figsize=(12, 4));"
   ]
  },
  {
   "cell_type": "code",
   "execution_count": 143,
   "metadata": {},
   "outputs": [
    {
     "data": {
      "image/png": "[encoded data removed]",
      "text/plain": [
       "<Figure size 864x216 with 4 Axes>"
      ]
     },
     "metadata": {},
     "output_type": "display_data"
    }
   ],
   "source": [
    "fig, axes = plt.subplots(1, 4, figsize=(12, 3))\n",
    "smg.tsa.plot_acf(df_march.Temperatura, lags=72, ax=axes[0])\n",
    "smg.tsa.plot_acf(df_march.Temperatura.diff().dropna(), lags=72, ax=axes[1])\n",
    "smg.tsa.plot_acf(df_march.Temperatura.diff().diff().dropna(), lags=72, ax=axes[2])\n",
    "smg.tsa.plot_acf(df_march.Temperatura.diff().diff().diff().dropna(), lags=72, ax=axes[3])\n",
    "[ax.set_title(\"Funkcja autokorelacji\") for ax in axes]\n",
    "\n",
    "fig.tight_layout()\n",
    "fig.savefig(\"ch14-timeseries-autocorrelation.pdf\")"
   ]
  },
  {
   "cell_type": "code",
   "execution_count": 144,
   "metadata": {},
   "outputs": [
    {
     "name": "stderr",
     "output_type": "stream",
     "text": [
      "/Users/filip/miniconda3/envs/py3.8/lib/python3.8/site-packages/statsmodels/tsa/ar_model.py:691: FutureWarning: \n",
      "statsmodels.tsa.AR has been deprecated in favor of statsmodels.tsa.AutoReg and\n",
      "statsmodels.tsa.SARIMAX.\n",
      "\n",
      "AutoReg adds the ability to specify exogenous variables, include time trends,\n",
      "and add seasonal dummies. The AutoReg API differs from AR since the model is\n",
      "treated as immutable, and so the entire specification including the lag\n",
      "length must be specified when creating the model. This change is too\n",
      "substantial to incorporate into the existing AR api. The function\n",
      "ar_select_order performs lag length selection for AutoReg models.\n",
      "\n",
      "AutoReg only estimates parameters using conditional MLE (OLS). Use SARIMAX to\n",
      "estimate ARX and related models using full MLE via the Kalman Filter.\n",
      "\n",
      "To silence this warning and continue using AR until it is removed, use:\n",
      "\n",
      "import warnings\n",
      "warnings.filterwarnings('ignore', 'statsmodels.tsa.ar_model.AR', FutureWarning)\n",
      "\n",
      "  warnings.warn(AR_DEPRECATION_WARN, FutureWarning)\n"
     ]
    }
   ],
   "source": [
    "model = sm.tsa.AR(df_march.Temperatura)"
   ]
  },
  {
   "cell_type": "code",
   "execution_count": 145,
   "metadata": {},
   "outputs": [],
   "source": [
    "result = model.fit(72)"
   ]
  },
  {
   "cell_type": "code",
   "execution_count": 146,
   "metadata": {},
   "outputs": [
    {
     "data": {
      "text/plain": [
       "1.9985623006352897"
      ]
     },
     "execution_count": 146,
     "metadata": {},
     "output_type": "execute_result"
    }
   ],
   "source": [
    "sm.stats.durbin_watson(result.resid)"
   ]
  },
  {
   "cell_type": "code",
   "execution_count": 147,
   "metadata": {},
   "outputs": [
    {
     "data": {
      "image/png": "[encoded data removed]",
      "text/plain": [
       "<Figure size 576x216 with 1 Axes>"
      ]
     },
     "metadata": {},
     "output_type": "display_data"
    }
   ],
   "source": [
    "fig, ax = plt.subplots(1, 1, figsize=(8, 3))\n",
    "smg.tsa.plot_acf(result.resid, lags=72, ax=ax)\n",
    "ax.set_title(\"Funkcja autokorelacji\")\n",
    "fig.tight_layout()\n",
    "fig.savefig(\"ch14-timeseries-resid-acf.pdf\")"
   ]
  },
  {
   "cell_type": "code",
   "execution_count": 148,
   "metadata": {},
   "outputs": [
    {
     "data": {
      "image/png": "[encoded data removed]",
      "text/plain": [
       "<Figure size 864x288 with 1 Axes>"
      ]
     },
     "metadata": {},
     "output_type": "display_data"
    }
   ],
   "source": [
    "fig, ax = plt.subplots(1, 1, figsize=(12, 4))\n",
    "ax.plot(df_march.index.values[-72:], df_march.Temperatura.values[-72:], label=\"Dane użyte w modelu\")\n",
    "ax.plot(df_april.index.values[:72], df_april.Temperatura.values[:72], label=\"Rzeczywiste pomiary\")\n",
    "ax.plot(pd.date_range(\"2014-04-01\", \"2014-04-4\", freq=\"H\").values,\n",
    "        result.predict(\"2014-04-01\", \"2014-04-4\"), label=\"Przewidywane wartości\")\n",
    "\n",
    "ax.legend()\n",
    "fig.tight_layout()\n",
    "fig.savefig(\"ch14-timeseries-prediction.pdf\")"
   ]
  },
  {
   "cell_type": "code",
   "execution_count": 149,
   "metadata": {},
   "outputs": [],
   "source": [
    "# Model ARMA i dzienne średnie temperatury"
   ]
  },
  {
   "cell_type": "code",
   "execution_count": 150,
   "metadata": {},
   "outputs": [],
   "source": [
    "df_march = df_march.resample(\"D\").mean()"
   ]
  },
  {
   "cell_type": "code",
   "execution_count": 151,
   "metadata": {},
   "outputs": [],
   "source": [
    "df_april = df_april.resample(\"D\").mean()"
   ]
  },
  {
   "cell_type": "code",
   "execution_count": 152,
   "metadata": {},
   "outputs": [],
   "source": [
    "model = sm.tsa.ARMA(df_march, (4, 1))"
   ]
  },
  {
   "cell_type": "code",
   "execution_count": 153,
   "metadata": {},
   "outputs": [],
   "source": [
    "result = model.fit()"
   ]
  },
  {
   "cell_type": "code",
   "execution_count": 154,
   "metadata": {},
   "outputs": [
    {
     "data": {
      "image/png": "[encoded data removed]",
      "text/plain": [
       "<Figure size 864x288 with 1 Axes>"
      ]
     },
     "metadata": {},
     "output_type": "display_data"
    }
   ],
   "source": [
    "fig, ax = plt.subplots(1, 1, figsize=(12, 4))\n",
    "ax.plot(df_march.index.values[-3:], df_march.Temperatura.values[-3:], 's-', label=\"Dane użyte w modelu\")\n",
    "ax.plot(df_april.index.values[:3], df_april.Temperatura.values[:3], 's-', label=\"Rzeczywiste pomiary\")\n",
    "ax.plot(pd.date_range(\"2014-04-01\", \"2014-04-3\").values,\n",
    "        result.predict(\"2014-04-01\", \"2014-04-3\"), 's-', label=\"Przewidywane wartości\")\n",
    "ax.legend()\n",
    "fig.tight_layout()"
   ]
  }
 ],
 "metadata": {
  "kernelspec": {
   "display_name": "Python 3",
   "language": "python",
   "name": "python3"
  },
  "language_info": {
   "codemirror_mode": {
    "name": "ipython",
    "version": 3
   },
   "file_extension": ".py",
   "mimetype": "text/x-python",
   "name": "python",
   "nbconvert_exporter": "python",
   "pygments_lexer": "ipython3",
   "version": "3.8.5"
  }
 },
 "nbformat": 4,
 "nbformat_minor": 2
}
