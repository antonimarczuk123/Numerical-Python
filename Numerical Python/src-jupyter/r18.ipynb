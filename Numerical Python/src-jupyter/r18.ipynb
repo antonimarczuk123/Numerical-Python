{
 "cells": [
  {
   "cell_type": "markdown",
   "metadata": {},
   "source": [
    "# Rozdział 18. Wprowadzanie i wyprowadzanie danych"
   ]
  },
  {
   "cell_type": "code",
   "execution_count": 1,
   "metadata": {},
   "outputs": [],
   "source": [
    "from __future__ import print_function"
   ]
  },
  {
   "cell_type": "code",
   "execution_count": 2,
   "metadata": {},
   "outputs": [],
   "source": [
    "import numpy as np\n",
    "np.random.seed(0)"
   ]
  },
  {
   "cell_type": "code",
   "execution_count": 3,
   "metadata": {},
   "outputs": [],
   "source": [
    "import pandas as pd"
   ]
  },
  {
   "cell_type": "code",
   "execution_count": 4,
   "metadata": {},
   "outputs": [],
   "source": [
    "import csv"
   ]
  },
  {
   "cell_type": "code",
   "execution_count": 5,
   "metadata": {},
   "outputs": [],
   "source": [
    "import json"
   ]
  },
  {
   "cell_type": "code",
   "execution_count": 6,
   "metadata": {},
   "outputs": [],
   "source": [
    "import h5py"
   ]
  },
  {
   "cell_type": "code",
   "execution_count": 7,
   "metadata": {},
   "outputs": [],
   "source": [
    "import tables"
   ]
  },
  {
   "cell_type": "code",
   "execution_count": 8,
   "metadata": {},
   "outputs": [],
   "source": [
    "import pickle"
   ]
  },
  {
   "cell_type": "code",
   "execution_count": 9,
   "metadata": {},
   "outputs": [],
   "source": [
    "import msgpack"
   ]
  },
  {
   "cell_type": "markdown",
   "metadata": {},
   "source": [
    "# CSV"
   ]
  },
  {
   "cell_type": "code",
   "execution_count": 10,
   "metadata": {},
   "outputs": [
    {
     "name": "stdout",
     "output_type": "stream",
     "text": [
      "Overwriting statystyki_graczy_2013_2014.csv\n"
     ]
    }
   ],
   "source": [
    "%%writefile statystyki_graczy_2013_2014.csv\n",
    "# 2013-2014 / Regular Season / All Skaters / Summary / Points\n",
    "#(2013-2014 / Sezon zasadniczy / Wszyscy zawodnicy / Podsumowanie / Punkty) \n",
    "Ranking,Gracz,Drużyna,Pozycja,GP,G,A,P,+/-,PIM,PPG,PPP,SHG,SHP,GW,OT,S,S%,TOI/GP,Shift/GP,FO%\n",
    "1,Sidney Crosby,PIT,C,80,36,68,104,+18,46,11,38,0,0,5,1,259,13.9,21:58,24.0,52.5\n",
    "2,Ryan Getzlaf,ANA,C,77,31,56,87,+28,31,5,23,0,0,7,1,204,15.2,21:17,25.2,49.0\n",
    "3,Claude Giroux,PHI,C,82,28,58,86,+7,46,7,37,0,0,7,1,223,12.6,20:26,25.1,52.9\n",
    "4,Tyler Seguin,DAL,C,80,37,47,84,+16,18,11,25,0,0,8,0,294,12.6,19:20,23.4,41.5\n",
    "5,Corey Perry,ANA,R,81,43,39,82,+32,65,8,18,0,0,9,1,280,15.4,19:28,23.2,36.0"
   ]
  },
  {
   "cell_type": "code",
   "execution_count": 11,
   "metadata": {},
   "outputs": [
    {
     "name": "stdout",
     "output_type": "stream",
     "text": [
      "Overwriting statystyki_graczy_2013_2014-top30.csv\n"
     ]
    }
   ],
   "source": [
    "%%writefile statystyki_graczy_2013_2014-top30.csv\n",
    "# 2013-2014 / Regular Season / All Skaters / Summary / Points\n",
    "#(2013-2014 / Sezon zasadniczy / Wszyscy zawodnicy / Podsumowanie / Punkty) \n",
    "Ranking,Gracz,Drużyna,Pozycja,GP,G,A,P,+/-,PIM,PPG,PPP,SHG,SHP,GW,OT,S,S%,TOI/GP,Shift/GP,FO%\n",
    "1,Sidney Crosby,PIT,C,80,36,68,104,+18,46,11,38,0,0,5,1,259,13.9,21:58,24.0,52.5\n",
    "2,Ryan Getzlaf,ANA,C,77,31,56,87,+28,31,5,23,0,0,7,1,204,15.2,21:17,25.2,49.0\n",
    "3,Claude Giroux,PHI,C,82,28,58,86,+7,46,7,37,0,0,7,1,223,12.6,20:26,25.1,52.9\n",
    "4,Tyler Seguin,DAL,C,80,37,47,84,+16,18,11,25,0,0,8,0,294,12.6,19:20,23.4,41.5\n",
    "5,Corey Perry,ANA,R,81,43,39,82,+32,65,8,18,0,0,9,1,280,15.4,19:28,23.2,36.0\n",
    "6,Phil Kessel,TOR,R,82,37,43,80,-5,27,8,20,0,0,6,0,305,12.1,20:39,24.5,14.3\n",
    "7,Taylor Hall,EDM,L,75,27,53,80,-15,44,7,17,0,1,1,1,250,10.8,20:00,25.4,45.7\n",
    "8,Alex Ovechkin,WSH,L,78,51,28,79,-35,48,24,39,0,1,10,3,386,13.2,20:32,21.8,66.7\n",
    "9,Joe Pavelski,SJS,C,82,41,38,79,+23,32,16,31,1,2,3,0,225,18.2,19:51,27.1,56.0\n",
    "10,Jamie Benn,DAL,L,81,34,45,79,+21,64,5,19,1,3,3,1,279,12.2,19:09,25.0,52.8\n",
    "11,Nicklas Backstrom,WSH,C,82,18,61,79,-20,54,6,44,1,1,1,0,196,9.2,19:48,23.3,50.4\n",
    "12,Patrick Sharp,CHI,L,82,34,44,78,+13,40,10,25,0,0,3,1,313,10.9,18:53,22.7,54.6\n",
    "13,Joe Thornton,SJS,C,82,11,65,76,+20,32,2,19,0,1,3,1,122,9.0,18:55,26.3,56.1\n",
    "14,Erik Karlsson,OTT,D,82,20,54,74,-15,36,5,31,0,0,1,0,257,7.8,27:04,28.6,0.0\n",
    "15,Evgeni Malkin,PIT,C,60,23,49,72,+10,62,7,30,0,0,3,0,191,12.0,20:03,21.4,48.8\n",
    "16,Patrick Marleau,SJS,L,82,33,37,70,+0,18,11,23,2,2,4,0,285,11.6,20:31,27.3,52.9\n",
    "17,Anze Kopitar,LAK,C,82,29,41,70,+34,24,10,23,0,0,9,2,200,14.5,20:53,25.4,53.3\n",
    "18,Matt Duchene,COL,C,71,23,47,70,+8,19,5,17,0,0,6,1,217,10.6,18:29,22.0,50.3\n",
    "19,Martin St. Louis,\"TBL, NYR\",R,81,30,39,69,+13,10,9,21,1,2,5,1,204,14.7,20:56,25.7,40.7\n",
    "20,Patrick Kane,CHI,R,69,29,40,69,+7,22,10,25,0,0,6,0,227,12.8,19:36,22.9,50.0\n",
    "21,Blake Wheeler,WPG,R,82,28,41,69,+4,63,8,19,0,0,4,2,225,12.4,18:41,24.0,37.5\n",
    "22,Kyle Okposo,NYI,R,71,27,42,69,-9,51,5,15,0,0,4,1,195,13.8,20:26,22.2,47.5\n",
    "23,David Krejci,BOS,C,80,19,50,69,+39,28,3,19,0,0,6,1,169,11.2,19:07,21.3,51.2\n",
    "24,Chris Kunitz,PIT,L,78,35,33,68,+25,66,13,22,0,0,8,0,218,16.1,19:09,22.2,75.0\n",
    "25,Jonathan Toews,CHI,C,76,28,40,68,+26,34,5,15,3,5,5,0,193,14.5,20:28,25.9,57.2\n",
    "26,Thomas Vanek,\"BUF, NYI, MTL\",L,78,27,41,68,+7,46,8,18,0,0,4,0,248,10.9,19:21,21.6,43.5\n",
    "27,Jaromir Jagr,NJD,R,82,24,43,67,+16,46,5,17,0,0,6,1,231,10.4,19:09,22.8,0.0\n",
    "28,John Tavares,NYI,C,59,24,42,66,-6,40,8,25,0,0,4,0,188,12.8,21:14,22.3,49.1\n",
    "29,Jason Spezza,OTT,C,75,23,43,66,-26,46,9,22,0,0,5,0,223,10.3,18:12,23.8,54.0\n",
    "30,Jordan Eberle,EDM,R,80,28,37,65,-11,18,7,20,1,1,4,1,200,14.0,19:32,25.4,38.1"
   ]
  },
  {
   "cell_type": "code",
   "execution_count": 12,
   "metadata": {},
   "outputs": [
    {
     "name": "stdout",
     "output_type": "stream",
     "text": [
      "# 2013-2014 / Regular Season / All Skaters / Summary / Points (2013-2014 / Regularny sezon / Wszyscy zawodnicy / Podsumowanie / Punkty) \r\n",
      "Ranking,Gracz,Drużyna,Pozycja,GP,G,A,P,+/-,PIM,PPG,PPP,SHG,SHP,GW,OT,S,S%,TOI/GP,Shift/GP,FO%\r\n",
      "1,Sidney Crosby,PIT,C,80,36,68,104,+18,46,11,38,0,0,5,1,259,13.9,21:58,24.0,52.5\r\n",
      "2,Ryan Getzlaf,ANA,C,77,31,56,87,+28,31,5,23,0,0,7,1,204,15.2,21:17,25.2,49.0\r\n",
      "3,Claude Giroux,PHI,C,82,28,58,86,+7,46,7,37,0,0,7,1,223,12.6,20:26,25.1,52.9\r\n"
     ]
    }
   ],
   "source": [
    "!head -n 5 statystyki_graczy_2013_2014-top30.csv"
   ]
  },
  {
   "cell_type": "code",
   "execution_count": 13,
   "metadata": {},
   "outputs": [],
   "source": [
    "rows = []"
   ]
  },
  {
   "cell_type": "code",
   "execution_count": 14,
   "metadata": {},
   "outputs": [],
   "source": [
    "with open(\"statystyki_graczy_2013_2014.csv\") as f:\n",
    "    csvreader = csv.reader(f)\n",
    "    rows = [fields for fields in csvreader]"
   ]
  },
  {
   "cell_type": "code",
   "execution_count": 15,
   "metadata": {},
   "outputs": [
    {
     "data": {
      "text/plain": [
       "['Gracz', 'Drużyna', 'Pozycja', 'GP', 'G']"
      ]
     },
     "execution_count": 15,
     "metadata": {},
     "output_type": "execute_result"
    }
   ],
   "source": [
    "rows[1][1:6]"
   ]
  },
  {
   "cell_type": "code",
   "execution_count": 16,
   "metadata": {},
   "outputs": [
    {
     "data": {
      "text/plain": [
       "['Sidney Crosby', 'PIT', 'C', '80', '36']"
      ]
     },
     "execution_count": 16,
     "metadata": {},
     "output_type": "execute_result"
    }
   ],
   "source": [
    "rows[2][1:6]"
   ]
  },
  {
   "cell_type": "code",
   "execution_count": 17,
   "metadata": {},
   "outputs": [],
   "source": [
    "data = np.random.randn(100, 3)"
   ]
  },
  {
   "cell_type": "code",
   "execution_count": 18,
   "metadata": {},
   "outputs": [],
   "source": [
    "np.savetxt(\"dane.csv\", data, delimiter=\",\", header=\"x, y, z\", comments=\"# Losowe współrzędne x, y, z\\n\")"
   ]
  },
  {
   "cell_type": "code",
   "execution_count": 19,
   "metadata": {},
   "outputs": [
    {
     "name": "stdout",
     "output_type": "stream",
     "text": [
      "# Losowe współrzędne x, y, z\r\n",
      "x, y, z\r\n",
      "1.764052345967664026e+00,4.001572083672232938e-01,9.787379841057392005e-01\r\n",
      "2.240893199201457797e+00,1.867557990149967484e+00,-9.772778798764110153e-01\r\n",
      "9.500884175255893682e-01,-1.513572082976978872e-01,-1.032188517935578448e-01\r\n"
     ]
    }
   ],
   "source": [
    "!head -n 5 dane.csv"
   ]
  },
  {
   "cell_type": "code",
   "execution_count": 20,
   "metadata": {},
   "outputs": [],
   "source": [
    "data_load = np.loadtxt(\"dane.csv\", skiprows=2, delimiter=\",\")"
   ]
  },
  {
   "cell_type": "code",
   "execution_count": 21,
   "metadata": {},
   "outputs": [
    {
     "data": {
      "text/plain": [
       "array([ 2.2408932 ,  1.86755799, -0.97727788])"
      ]
     },
     "execution_count": 21,
     "metadata": {},
     "output_type": "execute_result"
    }
   ],
   "source": [
    "data_load[1,:]"
   ]
  },
  {
   "cell_type": "code",
   "execution_count": 22,
   "metadata": {},
   "outputs": [
    {
     "data": {
      "text/plain": [
       "dtype('float64')"
      ]
     },
     "execution_count": 22,
     "metadata": {},
     "output_type": "execute_result"
    }
   ],
   "source": [
    "data_load.dtype"
   ]
  },
  {
   "cell_type": "code",
   "execution_count": 23,
   "metadata": {},
   "outputs": [
    {
     "data": {
      "text/plain": [
       "True"
      ]
     },
     "execution_count": 23,
     "metadata": {},
     "output_type": "execute_result"
    }
   ],
   "source": [
    "(data == data_load).all()"
   ]
  },
  {
   "cell_type": "code",
   "execution_count": 24,
   "metadata": {},
   "outputs": [
    {
     "ename": "ValueError",
     "evalue": "could not convert string to float: 'Sidney Crosby'",
     "output_type": "error",
     "traceback": [
      "\u001b[0;31m---------------------------------------------------------------------------\u001b[0m",
      "\u001b[0;31mValueError\u001b[0m                                Traceback (most recent call last)",
      "\u001b[0;32m<ipython-input-24-cffcd6578ec3>\u001b[0m in \u001b[0;36m<module>\u001b[0;34m\u001b[0m\n\u001b[0;32m----> 1\u001b[0;31m \u001b[0mnp\u001b[0m\u001b[0;34m.\u001b[0m\u001b[0mloadtxt\u001b[0m\u001b[0;34m(\u001b[0m\u001b[0;34m\"statystyki_graczy_2013_2014.csv\"\u001b[0m\u001b[0;34m,\u001b[0m \u001b[0mskiprows\u001b[0m\u001b[0;34m=\u001b[0m\u001b[0;36m2\u001b[0m\u001b[0;34m,\u001b[0m \u001b[0mdelimiter\u001b[0m\u001b[0;34m=\u001b[0m\u001b[0;34m\",\"\u001b[0m\u001b[0;34m)\u001b[0m\u001b[0;34m\u001b[0m\u001b[0;34m\u001b[0m\u001b[0m\n\u001b[0m",
      "\u001b[0;32m~/miniconda3/envs/py3.8/lib/python3.8/site-packages/numpy/lib/npyio.py\u001b[0m in \u001b[0;36mloadtxt\u001b[0;34m(fname, dtype, comments, delimiter, converters, skiprows, usecols, unpack, ndmin, encoding, max_rows)\u001b[0m\n\u001b[1;32m   1137\u001b[0m         \u001b[0;31m# converting the data\u001b[0m\u001b[0;34m\u001b[0m\u001b[0;34m\u001b[0m\u001b[0;34m\u001b[0m\u001b[0m\n\u001b[1;32m   1138\u001b[0m         \u001b[0mX\u001b[0m \u001b[0;34m=\u001b[0m \u001b[0;32mNone\u001b[0m\u001b[0;34m\u001b[0m\u001b[0;34m\u001b[0m\u001b[0m\n\u001b[0;32m-> 1139\u001b[0;31m         \u001b[0;32mfor\u001b[0m \u001b[0mx\u001b[0m \u001b[0;32min\u001b[0m \u001b[0mread_data\u001b[0m\u001b[0;34m(\u001b[0m\u001b[0m_loadtxt_chunksize\u001b[0m\u001b[0;34m)\u001b[0m\u001b[0;34m:\u001b[0m\u001b[0;34m\u001b[0m\u001b[0;34m\u001b[0m\u001b[0m\n\u001b[0m\u001b[1;32m   1140\u001b[0m             \u001b[0;32mif\u001b[0m \u001b[0mX\u001b[0m \u001b[0;32mis\u001b[0m \u001b[0;32mNone\u001b[0m\u001b[0;34m:\u001b[0m\u001b[0;34m\u001b[0m\u001b[0;34m\u001b[0m\u001b[0m\n\u001b[1;32m   1141\u001b[0m                 \u001b[0mX\u001b[0m \u001b[0;34m=\u001b[0m \u001b[0mnp\u001b[0m\u001b[0;34m.\u001b[0m\u001b[0marray\u001b[0m\u001b[0;34m(\u001b[0m\u001b[0mx\u001b[0m\u001b[0;34m,\u001b[0m \u001b[0mdtype\u001b[0m\u001b[0;34m)\u001b[0m\u001b[0;34m\u001b[0m\u001b[0;34m\u001b[0m\u001b[0m\n",
      "\u001b[0;32m~/miniconda3/envs/py3.8/lib/python3.8/site-packages/numpy/lib/npyio.py\u001b[0m in \u001b[0;36mread_data\u001b[0;34m(chunk_size)\u001b[0m\n\u001b[1;32m   1065\u001b[0m \u001b[0;34m\u001b[0m\u001b[0m\n\u001b[1;32m   1066\u001b[0m             \u001b[0;31m# Convert each value according to its column and store\u001b[0m\u001b[0;34m\u001b[0m\u001b[0;34m\u001b[0m\u001b[0;34m\u001b[0m\u001b[0m\n\u001b[0;32m-> 1067\u001b[0;31m             \u001b[0mitems\u001b[0m \u001b[0;34m=\u001b[0m \u001b[0;34m[\u001b[0m\u001b[0mconv\u001b[0m\u001b[0;34m(\u001b[0m\u001b[0mval\u001b[0m\u001b[0;34m)\u001b[0m \u001b[0;32mfor\u001b[0m \u001b[0;34m(\u001b[0m\u001b[0mconv\u001b[0m\u001b[0;34m,\u001b[0m \u001b[0mval\u001b[0m\u001b[0;34m)\u001b[0m \u001b[0;32min\u001b[0m \u001b[0mzip\u001b[0m\u001b[0;34m(\u001b[0m\u001b[0mconverters\u001b[0m\u001b[0;34m,\u001b[0m \u001b[0mvals\u001b[0m\u001b[0;34m)\u001b[0m\u001b[0;34m]\u001b[0m\u001b[0;34m\u001b[0m\u001b[0;34m\u001b[0m\u001b[0m\n\u001b[0m\u001b[1;32m   1068\u001b[0m \u001b[0;34m\u001b[0m\u001b[0m\n\u001b[1;32m   1069\u001b[0m             \u001b[0;31m# Then pack it according to the dtype's nesting\u001b[0m\u001b[0;34m\u001b[0m\u001b[0;34m\u001b[0m\u001b[0;34m\u001b[0m\u001b[0m\n",
      "\u001b[0;32m~/miniconda3/envs/py3.8/lib/python3.8/site-packages/numpy/lib/npyio.py\u001b[0m in \u001b[0;36m<listcomp>\u001b[0;34m(.0)\u001b[0m\n\u001b[1;32m   1065\u001b[0m \u001b[0;34m\u001b[0m\u001b[0m\n\u001b[1;32m   1066\u001b[0m             \u001b[0;31m# Convert each value according to its column and store\u001b[0m\u001b[0;34m\u001b[0m\u001b[0;34m\u001b[0m\u001b[0;34m\u001b[0m\u001b[0m\n\u001b[0;32m-> 1067\u001b[0;31m             \u001b[0mitems\u001b[0m \u001b[0;34m=\u001b[0m \u001b[0;34m[\u001b[0m\u001b[0mconv\u001b[0m\u001b[0;34m(\u001b[0m\u001b[0mval\u001b[0m\u001b[0;34m)\u001b[0m \u001b[0;32mfor\u001b[0m \u001b[0;34m(\u001b[0m\u001b[0mconv\u001b[0m\u001b[0;34m,\u001b[0m \u001b[0mval\u001b[0m\u001b[0;34m)\u001b[0m \u001b[0;32min\u001b[0m \u001b[0mzip\u001b[0m\u001b[0;34m(\u001b[0m\u001b[0mconverters\u001b[0m\u001b[0;34m,\u001b[0m \u001b[0mvals\u001b[0m\u001b[0;34m)\u001b[0m\u001b[0;34m]\u001b[0m\u001b[0;34m\u001b[0m\u001b[0;34m\u001b[0m\u001b[0m\n\u001b[0m\u001b[1;32m   1068\u001b[0m \u001b[0;34m\u001b[0m\u001b[0m\n\u001b[1;32m   1069\u001b[0m             \u001b[0;31m# Then pack it according to the dtype's nesting\u001b[0m\u001b[0;34m\u001b[0m\u001b[0;34m\u001b[0m\u001b[0;34m\u001b[0m\u001b[0m\n",
      "\u001b[0;32m~/miniconda3/envs/py3.8/lib/python3.8/site-packages/numpy/lib/npyio.py\u001b[0m in \u001b[0;36mfloatconv\u001b[0;34m(x)\u001b[0m\n\u001b[1;32m    761\u001b[0m         \u001b[0;32mif\u001b[0m \u001b[0;34m'0x'\u001b[0m \u001b[0;32min\u001b[0m \u001b[0mx\u001b[0m\u001b[0;34m:\u001b[0m\u001b[0;34m\u001b[0m\u001b[0;34m\u001b[0m\u001b[0m\n\u001b[1;32m    762\u001b[0m             \u001b[0;32mreturn\u001b[0m \u001b[0mfloat\u001b[0m\u001b[0;34m.\u001b[0m\u001b[0mfromhex\u001b[0m\u001b[0;34m(\u001b[0m\u001b[0mx\u001b[0m\u001b[0;34m)\u001b[0m\u001b[0;34m\u001b[0m\u001b[0;34m\u001b[0m\u001b[0m\n\u001b[0;32m--> 763\u001b[0;31m         \u001b[0;32mreturn\u001b[0m \u001b[0mfloat\u001b[0m\u001b[0;34m(\u001b[0m\u001b[0mx\u001b[0m\u001b[0;34m)\u001b[0m\u001b[0;34m\u001b[0m\u001b[0;34m\u001b[0m\u001b[0m\n\u001b[0m\u001b[1;32m    764\u001b[0m \u001b[0;34m\u001b[0m\u001b[0m\n\u001b[1;32m    765\u001b[0m     \u001b[0mtyp\u001b[0m \u001b[0;34m=\u001b[0m \u001b[0mdtype\u001b[0m\u001b[0;34m.\u001b[0m\u001b[0mtype\u001b[0m\u001b[0;34m\u001b[0m\u001b[0;34m\u001b[0m\u001b[0m\n",
      "\u001b[0;31mValueError\u001b[0m: could not convert string to float: 'Sidney Crosby'"
     ]
    }
   ],
   "source": [
    "np.loadtxt(\"statystyki_graczy_2013_2014.csv\", skiprows=2, delimiter=\",\")"
   ]
  },
  {
   "cell_type": "code",
   "execution_count": 25,
   "metadata": {},
   "outputs": [],
   "source": [
    "data = np.loadtxt(\"statystyki_graczy_2013_2014.csv\", skiprows=2, delimiter=\",\", dtype=bytes)"
   ]
  },
  {
   "cell_type": "code",
   "execution_count": 26,
   "metadata": {},
   "outputs": [
    {
     "data": {
      "text/plain": [
       "array([b'Sidney Crosby', b'PIT', b'C', b'80', b'36'], dtype='|S13')"
      ]
     },
     "execution_count": 26,
     "metadata": {},
     "output_type": "execute_result"
    }
   ],
   "source": [
    "data[0][1:6]"
   ]
  },
  {
   "cell_type": "code",
   "execution_count": 27,
   "metadata": {},
   "outputs": [
    {
     "data": {
      "text/plain": [
       "array([[ 68., 104.,  18.],\n",
       "       [ 56.,  87.,  28.],\n",
       "       [ 58.,  86.,   7.],\n",
       "       [ 47.,  84.,  16.],\n",
       "       [ 39.,  82.,  32.]])"
      ]
     },
     "execution_count": 27,
     "metadata": {},
     "output_type": "execute_result"
    }
   ],
   "source": [
    "np.loadtxt(\"statystyki_graczy_2013_2014.csv\", skiprows=2, delimiter=\",\", usecols=[6,7,8])"
   ]
  },
  {
   "cell_type": "code",
   "execution_count": 28,
   "metadata": {},
   "outputs": [],
   "source": [
    "df = pd.read_csv(\"statystyki_graczy_2013_2014.csv\", skiprows=1)"
   ]
  },
  {
   "cell_type": "code",
   "execution_count": 29,
   "metadata": {},
   "outputs": [],
   "source": [
    "df = df.set_index(\"Ranking\")"
   ]
  },
  {
   "cell_type": "code",
   "execution_count": 30,
   "metadata": {},
   "outputs": [
    {
     "data": {
      "text/html": [
       "<div>\n",
       "<style scoped>\n",
       "    .dataframe tbody tr th:only-of-type {\n",
       "        vertical-align: middle;\n",
       "    }\n",
       "\n",
       "    .dataframe tbody tr th {\n",
       "        vertical-align: top;\n",
       "    }\n",
       "\n",
       "    .dataframe thead th {\n",
       "        text-align: right;\n",
       "    }\n",
       "</style>\n",
       "<table border=\"1\" class=\"dataframe\">\n",
       "  <thead>\n",
       "    <tr style=\"text-align: right;\">\n",
       "      <th></th>\n",
       "      <th>Gracz</th>\n",
       "      <th>GP</th>\n",
       "      <th>G</th>\n",
       "      <th>A</th>\n",
       "      <th>P</th>\n",
       "    </tr>\n",
       "    <tr>\n",
       "      <th>Ranking</th>\n",
       "      <th></th>\n",
       "      <th></th>\n",
       "      <th></th>\n",
       "      <th></th>\n",
       "      <th></th>\n",
       "    </tr>\n",
       "  </thead>\n",
       "  <tbody>\n",
       "    <tr>\n",
       "      <th>1</th>\n",
       "      <td>Sidney Crosby</td>\n",
       "      <td>80</td>\n",
       "      <td>36</td>\n",
       "      <td>68</td>\n",
       "      <td>104</td>\n",
       "    </tr>\n",
       "    <tr>\n",
       "      <th>2</th>\n",
       "      <td>Ryan Getzlaf</td>\n",
       "      <td>77</td>\n",
       "      <td>31</td>\n",
       "      <td>56</td>\n",
       "      <td>87</td>\n",
       "    </tr>\n",
       "    <tr>\n",
       "      <th>3</th>\n",
       "      <td>Claude Giroux</td>\n",
       "      <td>82</td>\n",
       "      <td>28</td>\n",
       "      <td>58</td>\n",
       "      <td>86</td>\n",
       "    </tr>\n",
       "    <tr>\n",
       "      <th>4</th>\n",
       "      <td>Tyler Seguin</td>\n",
       "      <td>80</td>\n",
       "      <td>37</td>\n",
       "      <td>47</td>\n",
       "      <td>84</td>\n",
       "    </tr>\n",
       "    <tr>\n",
       "      <th>5</th>\n",
       "      <td>Corey Perry</td>\n",
       "      <td>81</td>\n",
       "      <td>43</td>\n",
       "      <td>39</td>\n",
       "      <td>82</td>\n",
       "    </tr>\n",
       "  </tbody>\n",
       "</table>\n",
       "</div>"
      ],
      "text/plain": [
       "                 Gracz  GP   G   A    P\n",
       "Ranking                                \n",
       "1        Sidney Crosby  80  36  68  104\n",
       "2         Ryan Getzlaf  77  31  56   87\n",
       "3        Claude Giroux  82  28  58   86\n",
       "4         Tyler Seguin  80  37  47   84\n",
       "5          Corey Perry  81  43  39   82"
      ]
     },
     "execution_count": 30,
     "metadata": {},
     "output_type": "execute_result"
    }
   ],
   "source": [
    "df[[\"Gracz\", \"GP\", \"G\", \"A\", \"P\"]]"
   ]
  },
  {
   "cell_type": "code",
   "execution_count": 31,
   "metadata": {},
   "outputs": [
    {
     "name": "stdout",
     "output_type": "stream",
     "text": [
      "<class 'pandas.core.frame.DataFrame'>\n",
      "Int64Index: 5 entries, 1 to 5\n",
      "Data columns (total 20 columns):\n",
      " #   Column    Non-Null Count  Dtype  \n",
      "---  ------    --------------  -----  \n",
      " 0   Gracz     5 non-null      object \n",
      " 1   Drużyna   5 non-null      object \n",
      " 2   Pozycja   5 non-null      object \n",
      " 3   GP        5 non-null      int64  \n",
      " 4   G         5 non-null      int64  \n",
      " 5   A         5 non-null      int64  \n",
      " 6   P         5 non-null      int64  \n",
      " 7   +/-       5 non-null      int64  \n",
      " 8   PIM       5 non-null      int64  \n",
      " 9   PPG       5 non-null      int64  \n",
      " 10  PPP       5 non-null      int64  \n",
      " 11  SHG       5 non-null      int64  \n",
      " 12  SHP       5 non-null      int64  \n",
      " 13  GW        5 non-null      int64  \n",
      " 14  OT        5 non-null      int64  \n",
      " 15  S         5 non-null      int64  \n",
      " 16  S%        5 non-null      float64\n",
      " 17  TOI/GP    5 non-null      object \n",
      " 18  Shift/GP  5 non-null      float64\n",
      " 19  FO%       5 non-null      float64\n",
      "dtypes: float64(3), int64(13), object(4)\n",
      "memory usage: 840.0+ bytes\n"
     ]
    }
   ],
   "source": [
    "df.info()"
   ]
  },
  {
   "cell_type": "code",
   "execution_count": 32,
   "metadata": {},
   "outputs": [],
   "source": [
    "df[[\"Gracz\", \"GP\", \"G\", \"A\", \"P\"]].to_csv(\"statystyki_graczy_2013_2014-podzbiór.csv\")"
   ]
  },
  {
   "cell_type": "code",
   "execution_count": 33,
   "metadata": {},
   "outputs": [
    {
     "name": "stdout",
     "output_type": "stream",
     "text": [
      "Ranking,Gracz,GP,G,A,P\r\n",
      "1,Sidney Crosby,80,36,68,104\r\n",
      "2,Ryan Getzlaf,77,31,56,87\r\n",
      "3,Claude Giroux,82,28,58,86\r\n",
      "4,Tyler Seguin,80,37,47,84\r\n"
     ]
    }
   ],
   "source": [
    "!head -n 5 statystyki_graczy_2013_2014-podzbiór.csv"
   ]
  },
  {
   "cell_type": "markdown",
   "metadata": {},
   "source": [
    "# HDF5"
   ]
  },
  {
   "cell_type": "markdown",
   "metadata": {},
   "source": [
    "## h5py"
   ]
  },
  {
   "cell_type": "markdown",
   "metadata": {},
   "source": [
    "### Pliki"
   ]
  },
  {
   "cell_type": "code",
   "execution_count": 34,
   "metadata": {},
   "outputs": [],
   "source": [
    "import h5py"
   ]
  },
  {
   "cell_type": "code",
   "execution_count": 35,
   "metadata": {},
   "outputs": [],
   "source": [
    "# mode = \"w\", \"r\", \"w-\", \"r+\", \"a\""
   ]
  },
  {
   "cell_type": "code",
   "execution_count": 36,
   "metadata": {},
   "outputs": [],
   "source": [
    "f = h5py.File(\"dane.h5\", \"w\")"
   ]
  },
  {
   "cell_type": "code",
   "execution_count": 37,
   "metadata": {},
   "outputs": [
    {
     "data": {
      "text/plain": [
       "'r+'"
      ]
     },
     "execution_count": 37,
     "metadata": {},
     "output_type": "execute_result"
    }
   ],
   "source": [
    "f.mode"
   ]
  },
  {
   "cell_type": "code",
   "execution_count": 38,
   "metadata": {},
   "outputs": [],
   "source": [
    "f.flush()"
   ]
  },
  {
   "cell_type": "code",
   "execution_count": 39,
   "metadata": {},
   "outputs": [],
   "source": [
    "f.close()"
   ]
  },
  {
   "cell_type": "markdown",
   "metadata": {},
   "source": [
    "### Grupy"
   ]
  },
  {
   "cell_type": "code",
   "execution_count": 40,
   "metadata": {},
   "outputs": [],
   "source": [
    "f = h5py.File(\"dane.h5\", \"w\")"
   ]
  },
  {
   "cell_type": "code",
   "execution_count": 41,
   "metadata": {},
   "outputs": [
    {
     "data": {
      "text/plain": [
       "'/'"
      ]
     },
     "execution_count": 41,
     "metadata": {},
     "output_type": "execute_result"
    }
   ],
   "source": [
    "f.name"
   ]
  },
  {
   "cell_type": "code",
   "execution_count": 42,
   "metadata": {},
   "outputs": [],
   "source": [
    "grp1 = f.create_group(\"experiment1\")"
   ]
  },
  {
   "cell_type": "code",
   "execution_count": 43,
   "metadata": {},
   "outputs": [
    {
     "data": {
      "text/plain": [
       "'/experiment1'"
      ]
     },
     "execution_count": 43,
     "metadata": {},
     "output_type": "execute_result"
    }
   ],
   "source": [
    "grp1.name"
   ]
  },
  {
   "cell_type": "code",
   "execution_count": 44,
   "metadata": {},
   "outputs": [],
   "source": [
    "grp2_meas = f.create_group(\"experiment2/measurment\")"
   ]
  },
  {
   "cell_type": "code",
   "execution_count": 45,
   "metadata": {},
   "outputs": [
    {
     "data": {
      "text/plain": [
       "'/experiment2/measurment'"
      ]
     },
     "execution_count": 45,
     "metadata": {},
     "output_type": "execute_result"
    }
   ],
   "source": [
    "grp2_meas.name"
   ]
  },
  {
   "cell_type": "code",
   "execution_count": 46,
   "metadata": {},
   "outputs": [],
   "source": [
    "grp2_sim = f.create_group(\"experiment2/simulation\")"
   ]
  },
  {
   "cell_type": "code",
   "execution_count": 47,
   "metadata": {},
   "outputs": [
    {
     "data": {
      "text/plain": [
       "'/experiment2/simulation'"
      ]
     },
     "execution_count": 47,
     "metadata": {},
     "output_type": "execute_result"
    }
   ],
   "source": [
    "grp2_sim.name"
   ]
  },
  {
   "cell_type": "code",
   "execution_count": 48,
   "metadata": {},
   "outputs": [
    {
     "data": {
      "text/plain": [
       "<HDF5 group \"/experiment1\" (0 members)>"
      ]
     },
     "execution_count": 48,
     "metadata": {},
     "output_type": "execute_result"
    }
   ],
   "source": [
    "f[\"/experiment1\"]"
   ]
  },
  {
   "cell_type": "code",
   "execution_count": 49,
   "metadata": {},
   "outputs": [
    {
     "data": {
      "text/plain": [
       "<HDF5 group \"/experiment2/simulation\" (0 members)>"
      ]
     },
     "execution_count": 49,
     "metadata": {},
     "output_type": "execute_result"
    }
   ],
   "source": [
    "f[\"/experiment2/simulation\"]"
   ]
  },
  {
   "cell_type": "code",
   "execution_count": 50,
   "metadata": {},
   "outputs": [],
   "source": [
    "grp_expr2 = f[\"/experiment2\"]"
   ]
  },
  {
   "cell_type": "code",
   "execution_count": 51,
   "metadata": {},
   "outputs": [
    {
     "data": {
      "text/plain": [
       "<HDF5 group \"/experiment2/simulation\" (0 members)>"
      ]
     },
     "execution_count": 51,
     "metadata": {},
     "output_type": "execute_result"
    }
   ],
   "source": [
    "grp_expr2['simulation']"
   ]
  },
  {
   "cell_type": "code",
   "execution_count": 52,
   "metadata": {},
   "outputs": [
    {
     "data": {
      "text/plain": [
       "['experiment1', 'experiment2']"
      ]
     },
     "execution_count": 52,
     "metadata": {},
     "output_type": "execute_result"
    }
   ],
   "source": [
    "list(f.keys())"
   ]
  },
  {
   "cell_type": "code",
   "execution_count": 53,
   "metadata": {},
   "outputs": [
    {
     "data": {
      "text/plain": [
       "[('experiment1', <HDF5 group \"/experiment1\" (0 members)>),\n",
       " ('experiment2', <HDF5 group \"/experiment2\" (2 members)>)]"
      ]
     },
     "execution_count": 53,
     "metadata": {},
     "output_type": "execute_result"
    }
   ],
   "source": [
    "list(f.items())"
   ]
  },
  {
   "cell_type": "code",
   "execution_count": 54,
   "metadata": {},
   "outputs": [
    {
     "name": "stdout",
     "output_type": "stream",
     "text": [
      "experiment1\n",
      "experiment2\n",
      "experiment2/measurment\n",
      "experiment2/simulation\n"
     ]
    }
   ],
   "source": [
    "f.visit(lambda x: print(x))"
   ]
  },
  {
   "cell_type": "code",
   "execution_count": 55,
   "metadata": {},
   "outputs": [
    {
     "name": "stdout",
     "output_type": "stream",
     "text": [
      "experiment1 <HDF5 group \"/experiment1\" (0 members)>\n",
      "experiment2 <HDF5 group \"/experiment2\" (2 members)>\n",
      "experiment2/measurment <HDF5 group \"/experiment2/measurment\" (0 members)>\n",
      "experiment2/simulation <HDF5 group \"/experiment2/simulation\" (0 members)>\n"
     ]
    }
   ],
   "source": [
    "f.visititems(lambda name, value: print(name, value))"
   ]
  },
  {
   "cell_type": "code",
   "execution_count": 56,
   "metadata": {},
   "outputs": [
    {
     "data": {
      "text/plain": [
       "True"
      ]
     },
     "execution_count": 56,
     "metadata": {},
     "output_type": "execute_result"
    }
   ],
   "source": [
    "\"experiment1\" in f"
   ]
  },
  {
   "cell_type": "code",
   "execution_count": 57,
   "metadata": {},
   "outputs": [
    {
     "data": {
      "text/plain": [
       "True"
      ]
     },
     "execution_count": 57,
     "metadata": {},
     "output_type": "execute_result"
    }
   ],
   "source": [
    "\"simulation\" in f[\"experiment2\"]"
   ]
  },
  {
   "cell_type": "code",
   "execution_count": 58,
   "metadata": {},
   "outputs": [
    {
     "data": {
      "text/plain": [
       "False"
      ]
     },
     "execution_count": 58,
     "metadata": {},
     "output_type": "execute_result"
    }
   ],
   "source": [
    "\"experiment3\" in f"
   ]
  },
  {
   "cell_type": "code",
   "execution_count": 59,
   "metadata": {},
   "outputs": [],
   "source": [
    "f.flush()\n",
    "f.close()"
   ]
  },
  {
   "cell_type": "code",
   "execution_count": 60,
   "metadata": {
    "scrolled": false
   },
   "outputs": [
    {
     "name": "stdout",
     "output_type": "stream",
     "text": [
      "/                        Group\r\n",
      "/experiment1             Group\r\n",
      "/experiment2             Group\r\n",
      "/experiment2/measurment  Group\r\n",
      "/experiment2/simulation  Group\r\n"
     ]
    }
   ],
   "source": [
    "!h5ls -r dane.h5"
   ]
  },
  {
   "cell_type": "markdown",
   "metadata": {},
   "source": [
    "### Zbiory danych"
   ]
  },
  {
   "cell_type": "code",
   "execution_count": 61,
   "metadata": {},
   "outputs": [],
   "source": [
    "f = h5py.File(\"dane.h5\", \"w\")"
   ]
  },
  {
   "cell_type": "code",
   "execution_count": 62,
   "metadata": {},
   "outputs": [],
   "source": [
    "data1 = np.arange(10)"
   ]
  },
  {
   "cell_type": "code",
   "execution_count": 63,
   "metadata": {},
   "outputs": [],
   "source": [
    "data2 = np.random.randn(100, 100)"
   ]
  },
  {
   "cell_type": "code",
   "execution_count": 64,
   "metadata": {},
   "outputs": [],
   "source": [
    "f[\"array1\"] = data1"
   ]
  },
  {
   "cell_type": "code",
   "execution_count": 65,
   "metadata": {},
   "outputs": [],
   "source": [
    "f[\"/experiment2/measurement/meas1\"] = data2"
   ]
  },
  {
   "cell_type": "code",
   "execution_count": 66,
   "metadata": {},
   "outputs": [
    {
     "name": "stdout",
     "output_type": "stream",
     "text": [
      "array1 <HDF5 dataset \"array1\": shape (10,), type \"<i8\">\n",
      "experiment2 <HDF5 group \"/experiment2\" (1 members)>\n",
      "experiment2/measurement <HDF5 group \"/experiment2/measurement\" (1 members)>\n",
      "experiment2/measurement/meas1 <HDF5 dataset \"meas1\": shape (100, 100), type \"<f8\">\n"
     ]
    }
   ],
   "source": [
    "f.visititems(lambda name, value: print(name, value))"
   ]
  },
  {
   "cell_type": "code",
   "execution_count": 67,
   "metadata": {},
   "outputs": [],
   "source": [
    "ds = f[\"array1\"]"
   ]
  },
  {
   "cell_type": "code",
   "execution_count": 68,
   "metadata": {},
   "outputs": [
    {
     "data": {
      "text/plain": [
       "<HDF5 dataset \"array1\": shape (10,), type \"<i8\">"
      ]
     },
     "execution_count": 68,
     "metadata": {},
     "output_type": "execute_result"
    }
   ],
   "source": [
    "ds"
   ]
  },
  {
   "cell_type": "code",
   "execution_count": 69,
   "metadata": {},
   "outputs": [
    {
     "data": {
      "text/plain": [
       "'/array1'"
      ]
     },
     "execution_count": 69,
     "metadata": {},
     "output_type": "execute_result"
    }
   ],
   "source": [
    "ds.name"
   ]
  },
  {
   "cell_type": "code",
   "execution_count": 70,
   "metadata": {},
   "outputs": [
    {
     "data": {
      "text/plain": [
       "dtype('int64')"
      ]
     },
     "execution_count": 70,
     "metadata": {},
     "output_type": "execute_result"
    }
   ],
   "source": [
    "ds.dtype"
   ]
  },
  {
   "cell_type": "code",
   "execution_count": 71,
   "metadata": {},
   "outputs": [
    {
     "data": {
      "text/plain": [
       "(10,)"
      ]
     },
     "execution_count": 71,
     "metadata": {},
     "output_type": "execute_result"
    }
   ],
   "source": [
    "ds.shape"
   ]
  },
  {
   "cell_type": "code",
   "execution_count": 72,
   "metadata": {},
   "outputs": [
    {
     "data": {
      "text/plain": [
       "10"
      ]
     },
     "execution_count": 72,
     "metadata": {},
     "output_type": "execute_result"
    }
   ],
   "source": [
    "ds.len()"
   ]
  },
  {
   "cell_type": "code",
   "execution_count": 73,
   "metadata": {},
   "outputs": [
    {
     "name": "stderr",
     "output_type": "stream",
     "text": [
      "<ipython-input-73-7abbe1bc98eb>:1: H5pyDeprecationWarning: dataset.value has been deprecated. Use dataset[()] instead.\n",
      "  ds.value\n"
     ]
    },
    {
     "data": {
      "text/plain": [
       "array([0, 1, 2, 3, 4, 5, 6, 7, 8, 9])"
      ]
     },
     "execution_count": 73,
     "metadata": {},
     "output_type": "execute_result"
    }
   ],
   "source": [
    "ds.value"
   ]
  },
  {
   "cell_type": "code",
   "execution_count": 74,
   "metadata": {},
   "outputs": [],
   "source": [
    "ds = f[\"/experiment2/measurement/meas1\"]"
   ]
  },
  {
   "cell_type": "code",
   "execution_count": 75,
   "metadata": {},
   "outputs": [
    {
     "data": {
      "text/plain": [
       "<HDF5 dataset \"meas1\": shape (100, 100), type \"<f8\">"
      ]
     },
     "execution_count": 75,
     "metadata": {},
     "output_type": "execute_result"
    }
   ],
   "source": [
    "ds"
   ]
  },
  {
   "cell_type": "code",
   "execution_count": 76,
   "metadata": {},
   "outputs": [
    {
     "data": {
      "text/plain": [
       "dtype('<f8')"
      ]
     },
     "execution_count": 76,
     "metadata": {},
     "output_type": "execute_result"
    }
   ],
   "source": [
    "ds.dtype"
   ]
  },
  {
   "cell_type": "code",
   "execution_count": 77,
   "metadata": {},
   "outputs": [
    {
     "data": {
      "text/plain": [
       "(100, 100)"
      ]
     },
     "execution_count": 77,
     "metadata": {},
     "output_type": "execute_result"
    }
   ],
   "source": [
    "ds.shape"
   ]
  },
  {
   "cell_type": "code",
   "execution_count": 78,
   "metadata": {},
   "outputs": [],
   "source": [
    "data_full = ds[...]"
   ]
  },
  {
   "cell_type": "code",
   "execution_count": 79,
   "metadata": {},
   "outputs": [
    {
     "data": {
      "text/plain": [
       "numpy.ndarray"
      ]
     },
     "execution_count": 79,
     "metadata": {},
     "output_type": "execute_result"
    }
   ],
   "source": [
    "type(data_full)"
   ]
  },
  {
   "cell_type": "code",
   "execution_count": 80,
   "metadata": {},
   "outputs": [
    {
     "data": {
      "text/plain": [
       "(100, 100)"
      ]
     },
     "execution_count": 80,
     "metadata": {},
     "output_type": "execute_result"
    }
   ],
   "source": [
    "data_full.shape"
   ]
  },
  {
   "cell_type": "code",
   "execution_count": 81,
   "metadata": {},
   "outputs": [],
   "source": [
    "data_col = ds[:, 0]"
   ]
  },
  {
   "cell_type": "code",
   "execution_count": 82,
   "metadata": {},
   "outputs": [
    {
     "data": {
      "text/plain": [
       "(100,)"
      ]
     },
     "execution_count": 82,
     "metadata": {},
     "output_type": "execute_result"
    }
   ],
   "source": [
    "data_col.shape"
   ]
  },
  {
   "cell_type": "code",
   "execution_count": 83,
   "metadata": {},
   "outputs": [
    {
     "data": {
      "text/plain": [
       "array([[ 0.60270766, -0.34804638, -0.813596  , -1.29737966],\n",
       "       [ 0.91320192, -1.06343294,  0.22734595,  0.52759738],\n",
       "       [ 1.25774422, -0.32775492,  1.4849256 ,  0.28005786],\n",
       "       [-0.84907287, -0.30000358,  1.79691852, -0.19871506]])"
      ]
     },
     "execution_count": 83,
     "metadata": {},
     "output_type": "execute_result"
    }
   ],
   "source": [
    "ds[10:20:3, 10:20:3]"
   ]
  },
  {
   "cell_type": "code",
   "execution_count": 84,
   "metadata": {},
   "outputs": [
    {
     "data": {
      "text/plain": [
       "(3, 100)"
      ]
     },
     "execution_count": 84,
     "metadata": {},
     "output_type": "execute_result"
    }
   ],
   "source": [
    "ds[[1,2,3], :].shape"
   ]
  },
  {
   "cell_type": "code",
   "execution_count": 85,
   "metadata": {},
   "outputs": [
    {
     "data": {
      "text/plain": [
       "(3, 100)"
      ]
     },
     "execution_count": 85,
     "metadata": {},
     "output_type": "execute_result"
    }
   ],
   "source": [
    "ds[[1,2,3], :].shape"
   ]
  },
  {
   "cell_type": "code",
   "execution_count": 86,
   "metadata": {},
   "outputs": [],
   "source": [
    "mask = ds[:, 0] > 2.0"
   ]
  },
  {
   "cell_type": "code",
   "execution_count": 87,
   "metadata": {},
   "outputs": [
    {
     "data": {
      "text/plain": [
       "((100,), dtype('bool'))"
      ]
     },
     "execution_count": 87,
     "metadata": {},
     "output_type": "execute_result"
    }
   ],
   "source": [
    "mask.shape, mask.dtype"
   ]
  },
  {
   "cell_type": "code",
   "execution_count": 88,
   "metadata": {},
   "outputs": [
    {
     "data": {
      "text/plain": [
       "array([2.04253623, 2.1041854 , 2.05689385])"
      ]
     },
     "execution_count": 88,
     "metadata": {},
     "output_type": "execute_result"
    }
   ],
   "source": [
    "ds[mask, 0]"
   ]
  },
  {
   "cell_type": "code",
   "execution_count": 89,
   "metadata": {},
   "outputs": [
    {
     "data": {
      "text/plain": [
       "array([[ 2.04253623, -0.91946118,  0.11467003, -0.1374237 ,  1.36552692],\n",
       "       [ 2.1041854 ,  0.22725706, -1.1291663 , -0.28133197, -0.7394167 ],\n",
       "       [ 2.05689385,  0.18041971, -0.06670925, -0.02835398,  0.48480475]])"
      ]
     },
     "execution_count": 89,
     "metadata": {},
     "output_type": "execute_result"
    }
   ],
   "source": [
    "ds[mask, :5]"
   ]
  },
  {
   "cell_type": "code",
   "execution_count": 90,
   "metadata": {},
   "outputs": [],
   "source": [
    "ds = f.create_dataset(\"array2\", data=np.random.randint(10, size=10))"
   ]
  },
  {
   "cell_type": "code",
   "execution_count": 91,
   "metadata": {},
   "outputs": [
    {
     "data": {
      "text/plain": [
       "<HDF5 dataset \"array2\": shape (10,), type \"<i8\">"
      ]
     },
     "execution_count": 91,
     "metadata": {},
     "output_type": "execute_result"
    }
   ],
   "source": [
    "ds"
   ]
  },
  {
   "cell_type": "code",
   "execution_count": 92,
   "metadata": {},
   "outputs": [
    {
     "name": "stderr",
     "output_type": "stream",
     "text": [
      "<ipython-input-92-7abbe1bc98eb>:1: H5pyDeprecationWarning: dataset.value has been deprecated. Use dataset[()] instead.\n",
      "  ds.value\n"
     ]
    },
    {
     "data": {
      "text/plain": [
       "array([0, 2, 2, 4, 7, 3, 7, 2, 4, 1])"
      ]
     },
     "execution_count": 92,
     "metadata": {},
     "output_type": "execute_result"
    }
   ],
   "source": [
    "ds.value"
   ]
  },
  {
   "cell_type": "code",
   "execution_count": 93,
   "metadata": {},
   "outputs": [],
   "source": [
    "ds = f.create_dataset(\"/experiment2/simulation/data1\", shape=(5, 5), fillvalue=-1)"
   ]
  },
  {
   "cell_type": "code",
   "execution_count": 94,
   "metadata": {},
   "outputs": [
    {
     "data": {
      "text/plain": [
       "<HDF5 dataset \"data1\": shape (5, 5), type \"<f4\">"
      ]
     },
     "execution_count": 94,
     "metadata": {},
     "output_type": "execute_result"
    }
   ],
   "source": [
    "ds"
   ]
  },
  {
   "cell_type": "code",
   "execution_count": 95,
   "metadata": {},
   "outputs": [
    {
     "name": "stderr",
     "output_type": "stream",
     "text": [
      "<ipython-input-95-7abbe1bc98eb>:1: H5pyDeprecationWarning: dataset.value has been deprecated. Use dataset[()] instead.\n",
      "  ds.value\n"
     ]
    },
    {
     "data": {
      "text/plain": [
       "array([[-1., -1., -1., -1., -1.],\n",
       "       [-1., -1., -1., -1., -1.],\n",
       "       [-1., -1., -1., -1., -1.],\n",
       "       [-1., -1., -1., -1., -1.],\n",
       "       [-1., -1., -1., -1., -1.]], dtype=float32)"
      ]
     },
     "execution_count": 95,
     "metadata": {},
     "output_type": "execute_result"
    }
   ],
   "source": [
    "ds.value"
   ]
  },
  {
   "cell_type": "code",
   "execution_count": 96,
   "metadata": {},
   "outputs": [],
   "source": [
    "ds = f.create_dataset(\"/experiment1/simulation/data1\", shape=(5000, 5000, 5000),\n",
    "                      fillvalue=0, compression='gzip')"
   ]
  },
  {
   "cell_type": "code",
   "execution_count": 97,
   "metadata": {},
   "outputs": [
    {
     "data": {
      "text/plain": [
       "<HDF5 dataset \"data1\": shape (5000, 5000, 5000), type \"<f4\">"
      ]
     },
     "execution_count": 97,
     "metadata": {},
     "output_type": "execute_result"
    }
   ],
   "source": [
    "ds"
   ]
  },
  {
   "cell_type": "code",
   "execution_count": 98,
   "metadata": {},
   "outputs": [],
   "source": [
    "ds[:, 0, 0] = np.random.rand(5000)"
   ]
  },
  {
   "cell_type": "code",
   "execution_count": 99,
   "metadata": {},
   "outputs": [],
   "source": [
    "ds[1, :, 0] += np.random.rand(5000)"
   ]
  },
  {
   "cell_type": "code",
   "execution_count": 100,
   "metadata": {},
   "outputs": [
    {
     "data": {
      "text/plain": [
       "array([[0.6939344 , 0.        , 0.        , 0.        , 0.        ],\n",
       "       [1.4819994 , 0.01639538, 0.54387355, 0.11130908, 0.9928771 ]],\n",
       "      dtype=float32)"
      ]
     },
     "execution_count": 100,
     "metadata": {},
     "output_type": "execute_result"
    }
   ],
   "source": [
    "ds[:2, :5, 0]"
   ]
  },
  {
   "cell_type": "code",
   "execution_count": 101,
   "metadata": {},
   "outputs": [
    {
     "data": {
      "text/plain": [
       "0.0"
      ]
     },
     "execution_count": 101,
     "metadata": {},
     "output_type": "execute_result"
    }
   ],
   "source": [
    "ds.fillvalue"
   ]
  },
  {
   "cell_type": "code",
   "execution_count": 102,
   "metadata": {
    "scrolled": true
   },
   "outputs": [
    {
     "name": "stdout",
     "output_type": "stream",
     "text": [
      "simulation <HDF5 group \"/experiment1/simulation\" (1 members)>\n",
      "simulation/data1 <HDF5 dataset \"data1\": shape (5000, 5000, 5000), type \"<f4\">\n"
     ]
    }
   ],
   "source": [
    "f[\"experiment1\"].visititems(lambda name, value: print(name, value))"
   ]
  },
  {
   "cell_type": "code",
   "execution_count": 103,
   "metadata": {},
   "outputs": [
    {
     "data": {
      "text/plain": [
       "465.66128730773926"
      ]
     },
     "execution_count": 103,
     "metadata": {},
     "output_type": "execute_result"
    }
   ],
   "source": [
    "float(np.prod(ds.shape) * ds[0,0,0].nbytes) / (1024**3)  # Gb"
   ]
  },
  {
   "cell_type": "code",
   "execution_count": 104,
   "metadata": {},
   "outputs": [],
   "source": [
    "f.flush()"
   ]
  },
  {
   "cell_type": "code",
   "execution_count": 105,
   "metadata": {},
   "outputs": [
    {
     "data": {
      "text/plain": [
       "'dane.h5'"
      ]
     },
     "execution_count": 105,
     "metadata": {},
     "output_type": "execute_result"
    }
   ],
   "source": [
    "f.filename"
   ]
  },
  {
   "cell_type": "code",
   "execution_count": 106,
   "metadata": {},
   "outputs": [
    {
     "name": "stdout",
     "output_type": "stream",
     "text": [
      "-rw-r--r--  1 filip  staff   357K 26 sie 17:28 dane.h5\r\n"
     ]
    }
   ],
   "source": [
    "!ls -lh dane.h5"
   ]
  },
  {
   "cell_type": "code",
   "execution_count": 107,
   "metadata": {},
   "outputs": [],
   "source": [
    "# del f[\"/experiment1/simulation/data1\"]"
   ]
  },
  {
   "cell_type": "code",
   "execution_count": 108,
   "metadata": {},
   "outputs": [
    {
     "name": "stdout",
     "output_type": "stream",
     "text": [
      "simulation <HDF5 group \"/experiment1/simulation\" (1 members)>\n",
      "simulation/data1 <HDF5 dataset \"data1\": shape (5000, 5000, 5000), type \"<f4\">\n"
     ]
    }
   ],
   "source": [
    "f[\"experiment1\"].visititems(lambda name, value: print(name, value))"
   ]
  },
  {
   "cell_type": "code",
   "execution_count": 109,
   "metadata": {},
   "outputs": [],
   "source": [
    "f.close()"
   ]
  },
  {
   "cell_type": "markdown",
   "metadata": {
    "collapsed": true
   },
   "source": [
    "### Atrybuty"
   ]
  },
  {
   "cell_type": "code",
   "execution_count": 110,
   "metadata": {},
   "outputs": [
    {
     "name": "stderr",
     "output_type": "stream",
     "text": [
      "<ipython-input-110-c00700a28a26>:1: H5pyDeprecationWarning: The default file mode will change to 'r' (read-only) in h5py 3.0. To suppress this warning, pass the mode you need to h5py.File(), or set the global default h5.get_config().default_file_mode, or set the environment variable H5PY_DEFAULT_READONLY=1. Available modes are: 'r', 'r+', 'w', 'w-'/'x', 'a'. See the docs for details.\n",
      "  f = h5py.File(\"dane.h5\")\n"
     ]
    }
   ],
   "source": [
    "f = h5py.File(\"dane.h5\")"
   ]
  },
  {
   "cell_type": "code",
   "execution_count": 111,
   "metadata": {},
   "outputs": [
    {
     "data": {
      "text/plain": [
       "<Attributes of HDF5 object at 140480112212384>"
      ]
     },
     "execution_count": 111,
     "metadata": {},
     "output_type": "execute_result"
    }
   ],
   "source": [
    "f.attrs"
   ]
  },
  {
   "cell_type": "code",
   "execution_count": 112,
   "metadata": {},
   "outputs": [],
   "source": [
    "f.attrs[\"desc\"] = \"Zbiór wyników eksperymentów i symulacji\""
   ]
  },
  {
   "cell_type": "code",
   "execution_count": 113,
   "metadata": {},
   "outputs": [],
   "source": [
    "f[\"experiment1\"].attrs[\"date\"] = \"2015-1-1\""
   ]
  },
  {
   "cell_type": "code",
   "execution_count": 114,
   "metadata": {},
   "outputs": [],
   "source": [
    "f[\"experiment2\"].attrs[\"date\"] = \"2015-1-2\""
   ]
  },
  {
   "cell_type": "code",
   "execution_count": 115,
   "metadata": {},
   "outputs": [],
   "source": [
    "f[\"experiment2/simulation/data1\"].attrs[\"k\"] = 1.5"
   ]
  },
  {
   "cell_type": "code",
   "execution_count": 116,
   "metadata": {},
   "outputs": [],
   "source": [
    "f[\"experiment2/simulation/data1\"].attrs[\"T\"] = 1000"
   ]
  },
  {
   "cell_type": "code",
   "execution_count": 117,
   "metadata": {},
   "outputs": [
    {
     "data": {
      "text/plain": [
       "['date']"
      ]
     },
     "execution_count": 117,
     "metadata": {},
     "output_type": "execute_result"
    }
   ],
   "source": [
    "list(f[\"experiment1\"].attrs.keys())"
   ]
  },
  {
   "cell_type": "code",
   "execution_count": 118,
   "metadata": {},
   "outputs": [
    {
     "data": {
      "text/plain": [
       "[('T', 1000), ('k', 1.5)]"
      ]
     },
     "execution_count": 118,
     "metadata": {},
     "output_type": "execute_result"
    }
   ],
   "source": [
    "list(f[\"experiment2/simulation/data1\"].attrs.items())"
   ]
  },
  {
   "cell_type": "code",
   "execution_count": 119,
   "metadata": {},
   "outputs": [
    {
     "data": {
      "text/plain": [
       "True"
      ]
     },
     "execution_count": 119,
     "metadata": {},
     "output_type": "execute_result"
    }
   ],
   "source": [
    "\"T\" in f[\"experiment2/simulation/data1\"].attrs"
   ]
  },
  {
   "cell_type": "code",
   "execution_count": 120,
   "metadata": {},
   "outputs": [],
   "source": [
    "del f[\"experiment2/simulation/data1\"].attrs[\"T\"]"
   ]
  },
  {
   "cell_type": "code",
   "execution_count": 121,
   "metadata": {},
   "outputs": [
    {
     "data": {
      "text/plain": [
       "False"
      ]
     },
     "execution_count": 121,
     "metadata": {},
     "output_type": "execute_result"
    }
   ],
   "source": [
    "\"T\" in f[\"experiment2/simulation/data1\"].attrs"
   ]
  },
  {
   "cell_type": "code",
   "execution_count": 122,
   "metadata": {},
   "outputs": [],
   "source": [
    "f[\"experiment2/simulation/data1\"].attrs[\"t\"] = np.array([1, 2, 3])"
   ]
  },
  {
   "cell_type": "code",
   "execution_count": 123,
   "metadata": {},
   "outputs": [
    {
     "data": {
      "text/plain": [
       "array([1, 2, 3])"
      ]
     },
     "execution_count": 123,
     "metadata": {},
     "output_type": "execute_result"
    }
   ],
   "source": [
    "f[\"experiment2/simulation/data1\"].attrs[\"t\"]"
   ]
  },
  {
   "cell_type": "code",
   "execution_count": 124,
   "metadata": {},
   "outputs": [],
   "source": [
    "f.close()"
   ]
  },
  {
   "cell_type": "markdown",
   "metadata": {},
   "source": [
    "## PyTables"
   ]
  },
  {
   "cell_type": "code",
   "execution_count": 125,
   "metadata": {},
   "outputs": [],
   "source": [
    "df = pd.read_csv(\"statystyki_graczy_2013_2014-top30.csv\", skiprows=1)\n",
    "df = df.set_index(\"Ranking\")"
   ]
  },
  {
   "cell_type": "code",
   "execution_count": 126,
   "metadata": {},
   "outputs": [
    {
     "data": {
      "text/html": [
       "<div>\n",
       "<style scoped>\n",
       "    .dataframe tbody tr th:only-of-type {\n",
       "        vertical-align: middle;\n",
       "    }\n",
       "\n",
       "    .dataframe tbody tr th {\n",
       "        vertical-align: top;\n",
       "    }\n",
       "\n",
       "    .dataframe thead th {\n",
       "        text-align: right;\n",
       "    }\n",
       "</style>\n",
       "<table border=\"1\" class=\"dataframe\">\n",
       "  <thead>\n",
       "    <tr style=\"text-align: right;\">\n",
       "      <th></th>\n",
       "      <th>Gracz</th>\n",
       "      <th>Pozycja</th>\n",
       "      <th>GP</th>\n",
       "      <th>P</th>\n",
       "      <th>G</th>\n",
       "      <th>A</th>\n",
       "      <th>S%</th>\n",
       "      <th>Shift/GP</th>\n",
       "    </tr>\n",
       "    <tr>\n",
       "      <th>Ranking</th>\n",
       "      <th></th>\n",
       "      <th></th>\n",
       "      <th></th>\n",
       "      <th></th>\n",
       "      <th></th>\n",
       "      <th></th>\n",
       "      <th></th>\n",
       "      <th></th>\n",
       "    </tr>\n",
       "  </thead>\n",
       "  <tbody>\n",
       "    <tr>\n",
       "      <th>1</th>\n",
       "      <td>Sidney Crosby</td>\n",
       "      <td>C</td>\n",
       "      <td>80</td>\n",
       "      <td>104</td>\n",
       "      <td>36</td>\n",
       "      <td>68</td>\n",
       "      <td>13.9</td>\n",
       "      <td>24.0</td>\n",
       "    </tr>\n",
       "    <tr>\n",
       "      <th>2</th>\n",
       "      <td>Ryan Getzlaf</td>\n",
       "      <td>C</td>\n",
       "      <td>77</td>\n",
       "      <td>87</td>\n",
       "      <td>31</td>\n",
       "      <td>56</td>\n",
       "      <td>15.2</td>\n",
       "      <td>25.2</td>\n",
       "    </tr>\n",
       "    <tr>\n",
       "      <th>3</th>\n",
       "      <td>Claude Giroux</td>\n",
       "      <td>C</td>\n",
       "      <td>82</td>\n",
       "      <td>86</td>\n",
       "      <td>28</td>\n",
       "      <td>58</td>\n",
       "      <td>12.6</td>\n",
       "      <td>25.1</td>\n",
       "    </tr>\n",
       "    <tr>\n",
       "      <th>4</th>\n",
       "      <td>Tyler Seguin</td>\n",
       "      <td>C</td>\n",
       "      <td>80</td>\n",
       "      <td>84</td>\n",
       "      <td>37</td>\n",
       "      <td>47</td>\n",
       "      <td>12.6</td>\n",
       "      <td>23.4</td>\n",
       "    </tr>\n",
       "    <tr>\n",
       "      <th>5</th>\n",
       "      <td>Corey Perry</td>\n",
       "      <td>R</td>\n",
       "      <td>81</td>\n",
       "      <td>82</td>\n",
       "      <td>43</td>\n",
       "      <td>39</td>\n",
       "      <td>15.4</td>\n",
       "      <td>23.2</td>\n",
       "    </tr>\n",
       "  </tbody>\n",
       "</table>\n",
       "</div>"
      ],
      "text/plain": [
       "                 Gracz Pozycja  GP    P   G   A    S%  Shift/GP\n",
       "Ranking                                                        \n",
       "1        Sidney Crosby       C  80  104  36  68  13.9      24.0\n",
       "2         Ryan Getzlaf       C  77   87  31  56  15.2      25.2\n",
       "3        Claude Giroux       C  82   86  28  58  12.6      25.1\n",
       "4         Tyler Seguin       C  80   84  37  47  12.6      23.4\n",
       "5          Corey Perry       R  81   82  43  39  15.4      23.2"
      ]
     },
     "execution_count": 126,
     "metadata": {},
     "output_type": "execute_result"
    }
   ],
   "source": [
    "df[[\"Gracz\", \"Pozycja\", \"GP\", \"P\", \"G\", \"A\", \"S%\", \"Shift/GP\"]].head(5)"
   ]
  },
  {
   "cell_type": "code",
   "execution_count": 127,
   "metadata": {},
   "outputs": [],
   "source": [
    "f = tables.open_file(\"statystyki_graczy_2013_2014.h5\", mode=\"w\")"
   ]
  },
  {
   "cell_type": "code",
   "execution_count": 128,
   "metadata": {},
   "outputs": [],
   "source": [
    "grp = f.create_group(\"/\", \"season_2013_2014\", title=\"Statystyki graczy NHL w sezonie 2013/2014\")"
   ]
  },
  {
   "cell_type": "code",
   "execution_count": 129,
   "metadata": {},
   "outputs": [
    {
     "data": {
      "text/plain": [
       "/season_2013_2014 (Group) 'Statystyki graczy NHL w sezonie 2013/2014'\n",
       "  children := []"
      ]
     },
     "execution_count": 129,
     "metadata": {},
     "output_type": "execute_result"
    }
   ],
   "source": [
    "grp"
   ]
  },
  {
   "cell_type": "code",
   "execution_count": 130,
   "metadata": {},
   "outputs": [
    {
     "data": {
      "text/plain": [
       "/ (RootGroup) ''\n",
       "  children := ['season_2013_2014' (Group)]"
      ]
     },
     "execution_count": 130,
     "metadata": {},
     "output_type": "execute_result"
    }
   ],
   "source": [
    "f.root"
   ]
  },
  {
   "cell_type": "code",
   "execution_count": 131,
   "metadata": {},
   "outputs": [],
   "source": [
    "class PlayerStat(tables.IsDescription):\n",
    "    player = tables.StringCol(20, dflt=\"\")\n",
    "    position = tables.StringCol(1, dflt=\"C\")\n",
    "    games_played = tables.UInt8Col(dflt=0)\n",
    "    points = tables.UInt16Col(dflt=0)\n",
    "    goals = tables.UInt16Col(dflt=0)\n",
    "    assists = tables.UInt16Col(dflt=0)\n",
    "    shooting_percentage = tables.Float64Col(dflt=0.0)\n",
    "    shifts_per_game_played = tables.Float64Col(dflt=0.0) "
   ]
  },
  {
   "cell_type": "code",
   "execution_count": 132,
   "metadata": {},
   "outputs": [],
   "source": [
    "top30_table = f.create_table(grp, 'top30', PlayerStat, \"30 zawodników z największą liczbą zdobytych punktów\")"
   ]
  },
  {
   "cell_type": "code",
   "execution_count": 133,
   "metadata": {},
   "outputs": [],
   "source": [
    "playerstat = top30_table.row"
   ]
  },
  {
   "cell_type": "code",
   "execution_count": 134,
   "metadata": {},
   "outputs": [
    {
     "data": {
      "text/plain": [
       "tables.tableextension.Row"
      ]
     },
     "execution_count": 134,
     "metadata": {},
     "output_type": "execute_result"
    }
   ],
   "source": [
    "type(playerstat)"
   ]
  },
  {
   "cell_type": "code",
   "execution_count": 135,
   "metadata": {},
   "outputs": [],
   "source": [
    "for index, row_series in df.iterrows():\n",
    "    playerstat[\"player\"] = row_series[\"Gracz\"]    \n",
    "    playerstat[\"position\"] = row_series[\"Pozycja\"]    \n",
    "    playerstat[\"games_played\"] = row_series[\"GP\"]    \n",
    "    playerstat[\"points\"] = row_series[\"P\"]    \n",
    "    playerstat[\"goals\"] = row_series[\"G\"]\n",
    "    playerstat[\"assists\"] = row_series[\"A\"] \n",
    "    playerstat[\"shooting_percentage\"] = row_series[\"S%\"]\n",
    "    playerstat[\"shifts_per_game_played\"] = row_series[\"Shift/GP\"]\n",
    "    playerstat.append()"
   ]
  },
  {
   "cell_type": "code",
   "execution_count": 136,
   "metadata": {},
   "outputs": [],
   "source": [
    "top30_table.flush()"
   ]
  },
  {
   "cell_type": "code",
   "execution_count": 137,
   "metadata": {},
   "outputs": [
    {
     "data": {
      "text/plain": [
       "array([b'Sidney Crosby', b'Ryan Getzlaf', b'Claude Giroux',\n",
       "       b'Tyler Seguin', b'Corey Perry'], dtype='|S20')"
      ]
     },
     "execution_count": 137,
     "metadata": {},
     "output_type": "execute_result"
    }
   ],
   "source": [
    "top30_table.cols.player[:5]"
   ]
  },
  {
   "cell_type": "code",
   "execution_count": 138,
   "metadata": {},
   "outputs": [
    {
     "data": {
      "text/plain": [
       "array([104,  87,  86,  84,  82], dtype=uint16)"
      ]
     },
     "execution_count": 138,
     "metadata": {},
     "output_type": "execute_result"
    }
   ],
   "source": [
    "top30_table.cols.points[:5]"
   ]
  },
  {
   "cell_type": "code",
   "execution_count": 139,
   "metadata": {},
   "outputs": [],
   "source": [
    "def print_playerstat(row):\n",
    "    print(\"%20s\\t%s\\t%s\\t%s\" %\n",
    "          (row[\"player\"].decode('UTF-8'), row[\"points\"], row[\"goals\"], row[\"assists\"]))"
   ]
  },
  {
   "cell_type": "code",
   "execution_count": 140,
   "metadata": {},
   "outputs": [
    {
     "name": "stdout",
     "output_type": "stream",
     "text": [
      "       Sidney Crosby\t104\t36\t68\n",
      "        Ryan Getzlaf\t87\t31\t56\n",
      "       Claude Giroux\t86\t28\t58\n",
      "        Tyler Seguin\t84\t37\t47\n",
      "         Corey Perry\t82\t43\t39\n",
      "         Phil Kessel\t80\t37\t43\n",
      "         Taylor Hall\t80\t27\t53\n",
      "       Alex Ovechkin\t79\t51\t28\n",
      "        Joe Pavelski\t79\t41\t38\n",
      "          Jamie Benn\t79\t34\t45\n",
      "   Nicklas Backstrom\t79\t18\t61\n",
      "       Patrick Sharp\t78\t34\t44\n",
      "        Joe Thornton\t76\t11\t65\n",
      "       Erik Karlsson\t74\t20\t54\n",
      "       Evgeni Malkin\t72\t23\t49\n",
      "     Patrick Marleau\t70\t33\t37\n",
      "        Anze Kopitar\t70\t29\t41\n",
      "        Matt Duchene\t70\t23\t47\n",
      "    Martin St. Louis\t69\t30\t39\n",
      "        Patrick Kane\t69\t29\t40\n",
      "       Blake Wheeler\t69\t28\t41\n",
      "         Kyle Okposo\t69\t27\t42\n",
      "        David Krejci\t69\t19\t50\n",
      "        Chris Kunitz\t68\t35\t33\n",
      "      Jonathan Toews\t68\t28\t40\n",
      "        Thomas Vanek\t68\t27\t41\n",
      "        Jaromir Jagr\t67\t24\t43\n",
      "        John Tavares\t66\t24\t42\n",
      "        Jason Spezza\t66\t23\t43\n",
      "       Jordan Eberle\t65\t28\t37\n"
     ]
    }
   ],
   "source": [
    "for row in top30_table.iterrows():\n",
    "    print_playerstat(row)"
   ]
  },
  {
   "cell_type": "code",
   "execution_count": 141,
   "metadata": {},
   "outputs": [
    {
     "name": "stdout",
     "output_type": "stream",
     "text": [
      "         Phil Kessel\t80\t37\t43\n",
      "         Taylor Hall\t80\t27\t53\n",
      "       Alex Ovechkin\t79\t51\t28\n",
      "        Joe Pavelski\t79\t41\t38\n",
      "          Jamie Benn\t79\t34\t45\n",
      "   Nicklas Backstrom\t79\t18\t61\n",
      "       Patrick Sharp\t78\t34\t44\n",
      "        Joe Thornton\t76\t11\t65\n"
     ]
    }
   ],
   "source": [
    "for row in top30_table.where(\"(points > 75) & (points <= 80)\"):\n",
    "    print_playerstat(row)"
   ]
  },
  {
   "cell_type": "code",
   "execution_count": 142,
   "metadata": {},
   "outputs": [
    {
     "name": "stdout",
     "output_type": "stream",
     "text": [
      "       Alex Ovechkin\t79\t51\t28\n",
      "        Joe Pavelski\t79\t41\t38\n"
     ]
    }
   ],
   "source": [
    "for row in top30_table.where(\"(goals > 40) & (points < 80)\"):\n",
    "    print_playerstat(row)"
   ]
  },
  {
   "cell_type": "code",
   "execution_count": 143,
   "metadata": {},
   "outputs": [
    {
     "data": {
      "text/plain": [
       "File(filename=statystyki_graczy_2013_2014.h5, title='', mode='w', root_uep='/', filters=Filters(complevel=0, shuffle=False, bitshuffle=False, fletcher32=False, least_significant_digit=None))\n",
       "/ (RootGroup) ''\n",
       "/season_2013_2014 (Group) 'Statystyki graczy NHL w sezonie 2013/2014'\n",
       "/season_2013_2014/top30 (Table(30,)) '30 zawodników z największą liczbą zdobytych punktów'\n",
       "  description := {\n",
       "  \"assists\": UInt16Col(shape=(), dflt=0, pos=0),\n",
       "  \"games_played\": UInt8Col(shape=(), dflt=0, pos=1),\n",
       "  \"goals\": UInt16Col(shape=(), dflt=0, pos=2),\n",
       "  \"player\": StringCol(itemsize=20, shape=(), dflt=b'', pos=3),\n",
       "  \"points\": UInt16Col(shape=(), dflt=0, pos=4),\n",
       "  \"position\": StringCol(itemsize=1, shape=(), dflt=b'C', pos=5),\n",
       "  \"shifts_per_game_played\": Float64Col(shape=(), dflt=0.0, pos=6),\n",
       "  \"shooting_percentage\": Float64Col(shape=(), dflt=0.0, pos=7)}\n",
       "  byteorder := 'little'\n",
       "  chunkshape := (1489,)"
      ]
     },
     "execution_count": 143,
     "metadata": {},
     "output_type": "execute_result"
    }
   ],
   "source": [
    "f"
   ]
  },
  {
   "cell_type": "code",
   "execution_count": 144,
   "metadata": {},
   "outputs": [],
   "source": [
    "f.flush()"
   ]
  },
  {
   "cell_type": "code",
   "execution_count": 145,
   "metadata": {},
   "outputs": [],
   "source": [
    "f.close()"
   ]
  },
  {
   "cell_type": "code",
   "execution_count": 146,
   "metadata": {},
   "outputs": [
    {
     "name": "stdout",
     "output_type": "stream",
     "text": [
      "Opened \"playerstats-2013-2014.h5\" with sec2 driver.\r\n",
      "/                        Group\r\n",
      "    Attribute: CLASS scalar\r\n",
      "        Type:      5-byte null-terminated UTF-8 string\r\n",
      "        Data:  \"GROUP\"\r\n",
      "    Attribute: PYTABLES_FORMAT_VERSION scalar\r\n",
      "        Type:      3-byte null-terminated UTF-8 string\r\n",
      "        Data:  \"2.1\"\r\n",
      "    Attribute: TITLE null\r\n",
      "        Type:      1-byte null-terminated UTF-8 string\r\n",
      "\r\n",
      "    Attribute: VERSION scalar\r\n",
      "        Type:      3-byte null-terminated UTF-8 string\r\n",
      "        Data:  \"1.0\"\r\n",
      "    Location:  1:96\r\n",
      "    Links:     1\r\n"
     ]
    }
   ],
   "source": [
    "!h5ls -rv playerstats-2013-2014.h5"
   ]
  },
  {
   "cell_type": "markdown",
   "metadata": {},
   "source": [
    "## Pandas hdfstore"
   ]
  },
  {
   "cell_type": "code",
   "execution_count": 147,
   "metadata": {},
   "outputs": [],
   "source": [
    "import pandas as pd"
   ]
  },
  {
   "cell_type": "code",
   "execution_count": 148,
   "metadata": {},
   "outputs": [],
   "source": [
    "store = pd.HDFStore('daneHDF.h5')"
   ]
  },
  {
   "cell_type": "code",
   "execution_count": 149,
   "metadata": {},
   "outputs": [],
   "source": [
    "df = pd.DataFrame(np.random.rand(5,5))"
   ]
  },
  {
   "cell_type": "code",
   "execution_count": 150,
   "metadata": {},
   "outputs": [],
   "source": [
    "store[\"df1\"] = df"
   ]
  },
  {
   "cell_type": "code",
   "execution_count": 151,
   "metadata": {},
   "outputs": [],
   "source": [
    "df = pd.read_csv(\"statystyki_graczy_2013_2014-top30.csv\", skiprows=1)"
   ]
  },
  {
   "cell_type": "code",
   "execution_count": 152,
   "metadata": {},
   "outputs": [],
   "source": [
    "store[\"df2\"] = df"
   ]
  },
  {
   "cell_type": "code",
   "execution_count": 153,
   "metadata": {},
   "outputs": [
    {
     "data": {
      "text/plain": [
       "['/df1', '/df2']"
      ]
     },
     "execution_count": 153,
     "metadata": {},
     "output_type": "execute_result"
    }
   ],
   "source": [
    "store.keys()"
   ]
  },
  {
   "cell_type": "code",
   "execution_count": 154,
   "metadata": {},
   "outputs": [
    {
     "data": {
      "text/plain": [
       "True"
      ]
     },
     "execution_count": 154,
     "metadata": {},
     "output_type": "execute_result"
    }
   ],
   "source": [
    "'df2' in store"
   ]
  },
  {
   "cell_type": "code",
   "execution_count": 155,
   "metadata": {},
   "outputs": [],
   "source": [
    "df = store[\"df1\"]"
   ]
  },
  {
   "cell_type": "code",
   "execution_count": 156,
   "metadata": {},
   "outputs": [
    {
     "data": {
      "text/plain": [
       "/ (RootGroup) ''\n",
       "  children := ['df1' (Group), 'df2' (Group)]"
      ]
     },
     "execution_count": 156,
     "metadata": {},
     "output_type": "execute_result"
    }
   ],
   "source": [
    "store.root"
   ]
  },
  {
   "cell_type": "code",
   "execution_count": 157,
   "metadata": {},
   "outputs": [],
   "source": [
    "store.close()"
   ]
  },
  {
   "cell_type": "code",
   "execution_count": 158,
   "metadata": {},
   "outputs": [
    {
     "name": "stderr",
     "output_type": "stream",
     "text": [
      "<ipython-input-158-ba48cbcd2680>:1: H5pyDeprecationWarning: The default file mode will change to 'r' (read-only) in h5py 3.0. To suppress this warning, pass the mode you need to h5py.File(), or set the global default h5.get_config().default_file_mode, or set the environment variable H5PY_DEFAULT_READONLY=1. Available modes are: 'r', 'r+', 'w', 'w-'/'x', 'a'. See the docs for details.\n",
      "  f = h5py.File(\"daneHDF.h5\")\n"
     ]
    }
   ],
   "source": [
    "f = h5py.File(\"daneHDF.h5\")"
   ]
  },
  {
   "cell_type": "code",
   "execution_count": 159,
   "metadata": {},
   "outputs": [
    {
     "name": "stdout",
     "output_type": "stream",
     "text": [
      "df1 \t\t\t <HDF5 group \"/df1\" (4 members)>\n",
      "df1/axis0 \t\t <HDF5 dataset \"axis0\": shape (5,), type \"<i8\">\n",
      "df1/axis1 \t\t <HDF5 dataset \"axis1\": shape (5,), type \"<i8\">\n",
      "df1/block0_items \t <HDF5 dataset \"block0_items\": shape (5,), type \"<i8\">\n",
      "df1/block0_values \t <HDF5 dataset \"block0_values\": shape (5, 5), type \"<f8\">\n",
      "df2 \t\t\t <HDF5 group \"/df2\" (8 members)>\n",
      "df2/axis0 \t\t <HDF5 dataset \"axis0\": shape (21,), type \"|S8\">\n",
      "df2/axis1 \t\t <HDF5 dataset \"axis1\": shape (30,), type \"<i8\">\n",
      "df2/block0_items \t <HDF5 dataset \"block0_items\": shape (3,), type \"|S8\">\n",
      "df2/block0_values \t <HDF5 dataset \"block0_values\": shape (30, 3), type \"<f8\">\n",
      "df2/block1_items \t <HDF5 dataset \"block1_items\": shape (14,), type \"|S7\">\n",
      "df2/block1_values \t <HDF5 dataset \"block1_values\": shape (30, 14), type \"<i8\">\n",
      "df2/block2_items \t <HDF5 dataset \"block2_items\": shape (4,), type \"|S8\">\n",
      "df2/block2_values \t <HDF5 dataset \"block2_values\": shape (1,), type \"|O\">\n"
     ]
    }
   ],
   "source": [
    "f.visititems(lambda x, y: print(x, \"\\t\" * int(3 - len(str(x))//8), y))"
   ]
  },
  {
   "cell_type": "code",
   "execution_count": 160,
   "metadata": {},
   "outputs": [
    {
     "name": "stderr",
     "output_type": "stream",
     "text": [
      "<ipython-input-160-85595d51ac6b>:1: H5pyDeprecationWarning: dataset.value has been deprecated. Use dataset[()] instead.\n",
      "  f[\"/df2/block0_items\"].value\n"
     ]
    },
    {
     "data": {
      "text/plain": [
       "array([b'S%', b'Shift/GP', b'FO%'], dtype='|S8')"
      ]
     },
     "execution_count": 160,
     "metadata": {},
     "output_type": "execute_result"
    }
   ],
   "source": [
    "f[\"/df2/block0_items\"].value          "
   ]
  },
  {
   "cell_type": "code",
   "execution_count": 161,
   "metadata": {},
   "outputs": [
    {
     "data": {
      "text/plain": [
       "array([[13.9, 24. , 52.5],\n",
       "       [15.2, 25.2, 49. ],\n",
       "       [12.6, 25.1, 52.9]])"
      ]
     },
     "execution_count": 161,
     "metadata": {},
     "output_type": "execute_result"
    }
   ],
   "source": [
    "f[\"/df2/block0_values\"][:3]"
   ]
  },
  {
   "cell_type": "code",
   "execution_count": 162,
   "metadata": {},
   "outputs": [
    {
     "name": "stderr",
     "output_type": "stream",
     "text": [
      "<ipython-input-162-1ed53a37e496>:1: H5pyDeprecationWarning: dataset.value has been deprecated. Use dataset[()] instead.\n",
      "  f[\"/df2/block1_items\"].value\n"
     ]
    },
    {
     "data": {
      "text/plain": [
       "array([b'Ranking', b'GP', b'G', b'A', b'P', b'+/-', b'PIM', b'PPG',\n",
       "       b'PPP', b'SHG', b'SHP', b'GW', b'OT', b'S'], dtype='|S7')"
      ]
     },
     "execution_count": 162,
     "metadata": {},
     "output_type": "execute_result"
    }
   ],
   "source": [
    "f[\"/df2/block1_items\"].value  "
   ]
  },
  {
   "cell_type": "code",
   "execution_count": 163,
   "metadata": {},
   "outputs": [
    {
     "data": {
      "text/plain": [
       "array([[  1,  80,  36,  68, 104],\n",
       "       [  2,  77,  31,  56,  87],\n",
       "       [  3,  82,  28,  58,  86]])"
      ]
     },
     "execution_count": 163,
     "metadata": {},
     "output_type": "execute_result"
    }
   ],
   "source": [
    "f[\"/df2/block1_values\"][:3, :5]"
   ]
  },
  {
   "cell_type": "markdown",
   "metadata": {},
   "source": [
    "# JSON"
   ]
  },
  {
   "cell_type": "code",
   "execution_count": 164,
   "metadata": {},
   "outputs": [],
   "source": [
    "data = [\"string\", 1.0, 2, None]"
   ]
  },
  {
   "cell_type": "code",
   "execution_count": 165,
   "metadata": {},
   "outputs": [],
   "source": [
    "data_json = json.dumps(data)"
   ]
  },
  {
   "cell_type": "code",
   "execution_count": 166,
   "metadata": {},
   "outputs": [
    {
     "data": {
      "text/plain": [
       "'[\"string\", 1.0, 2, null]'"
      ]
     },
     "execution_count": 166,
     "metadata": {},
     "output_type": "execute_result"
    }
   ],
   "source": [
    "data_json"
   ]
  },
  {
   "cell_type": "code",
   "execution_count": 167,
   "metadata": {},
   "outputs": [],
   "source": [
    "data2 = json.loads(data_json)"
   ]
  },
  {
   "cell_type": "code",
   "execution_count": 168,
   "metadata": {},
   "outputs": [
    {
     "data": {
      "text/plain": [
       "['string', 1.0, 2, None]"
      ]
     },
     "execution_count": 168,
     "metadata": {},
     "output_type": "execute_result"
    }
   ],
   "source": [
    "data"
   ]
  },
  {
   "cell_type": "code",
   "execution_count": 169,
   "metadata": {},
   "outputs": [
    {
     "data": {
      "text/plain": [
       "'string'"
      ]
     },
     "execution_count": 169,
     "metadata": {},
     "output_type": "execute_result"
    }
   ],
   "source": [
    "data[0]"
   ]
  },
  {
   "cell_type": "code",
   "execution_count": 170,
   "metadata": {},
   "outputs": [],
   "source": [
    "data = {\"one\": 1, \"two\": 2.0, \"three\": \"three\"}"
   ]
  },
  {
   "cell_type": "code",
   "execution_count": 171,
   "metadata": {},
   "outputs": [],
   "source": [
    "data_json = json.dumps(data)"
   ]
  },
  {
   "cell_type": "code",
   "execution_count": 172,
   "metadata": {},
   "outputs": [
    {
     "name": "stdout",
     "output_type": "stream",
     "text": [
      "{\"one\": 1, \"two\": 2.0, \"three\": \"three\"}\n"
     ]
    }
   ],
   "source": [
    "print(data_json)"
   ]
  },
  {
   "cell_type": "code",
   "execution_count": 173,
   "metadata": {},
   "outputs": [],
   "source": [
    "data = json.loads(data_json)"
   ]
  },
  {
   "cell_type": "code",
   "execution_count": 174,
   "metadata": {},
   "outputs": [
    {
     "data": {
      "text/plain": [
       "2.0"
      ]
     },
     "execution_count": 174,
     "metadata": {},
     "output_type": "execute_result"
    }
   ],
   "source": [
    "data[\"two\"]"
   ]
  },
  {
   "cell_type": "code",
   "execution_count": 175,
   "metadata": {},
   "outputs": [
    {
     "data": {
      "text/plain": [
       "'three'"
      ]
     },
     "execution_count": 175,
     "metadata": {},
     "output_type": "execute_result"
    }
   ],
   "source": [
    "data[\"three\"]"
   ]
  },
  {
   "cell_type": "code",
   "execution_count": 176,
   "metadata": {},
   "outputs": [],
   "source": [
    "data = {\"one\": [1], \n",
    "        \"two\": [1, 2], \n",
    "        \"three\": [1, 2, 3]}"
   ]
  },
  {
   "cell_type": "code",
   "execution_count": 177,
   "metadata": {},
   "outputs": [],
   "source": [
    "data_json = json.dumps(data, indent=True)"
   ]
  },
  {
   "cell_type": "code",
   "execution_count": 178,
   "metadata": {},
   "outputs": [
    {
     "name": "stdout",
     "output_type": "stream",
     "text": [
      "{\n",
      " \"one\": [\n",
      "  1\n",
      " ],\n",
      " \"two\": [\n",
      "  1,\n",
      "  2\n",
      " ],\n",
      " \"three\": [\n",
      "  1,\n",
      "  2,\n",
      "  3\n",
      " ]\n",
      "}\n"
     ]
    }
   ],
   "source": [
    "print(data_json)"
   ]
  },
  {
   "cell_type": "code",
   "execution_count": 179,
   "metadata": {},
   "outputs": [],
   "source": [
    "data = {\"one\": [1], \n",
    "        \"two\": {\"one\": 1, \"two\": 2}, \n",
    "        \"three\": [(1,), (1, 2), (1, 2, 3)],\n",
    "        \"four\": \"tekst\"}"
   ]
  },
  {
   "cell_type": "code",
   "execution_count": 180,
   "metadata": {},
   "outputs": [],
   "source": [
    "with open(\"dane.json\", \"w\") as f:\n",
    "    json.dump(data, f)"
   ]
  },
  {
   "cell_type": "code",
   "execution_count": 181,
   "metadata": {},
   "outputs": [
    {
     "name": "stdout",
     "output_type": "stream",
     "text": [
      "{\"one\": [1], \"two\": {\"one\": 1, \"two\": 2}, \"three\": [[1], [1, 2], [1, 2, 3]], \"four\": \"tekst\"}"
     ]
    }
   ],
   "source": [
    "!cat dane.json"
   ]
  },
  {
   "cell_type": "code",
   "execution_count": 182,
   "metadata": {},
   "outputs": [],
   "source": [
    "with open(\"dane.json\", \"r\") as f:\n",
    "    data_from_file = json.load(f)"
   ]
  },
  {
   "cell_type": "code",
   "execution_count": 183,
   "metadata": {},
   "outputs": [
    {
     "data": {
      "text/plain": [
       "{'one': 1, 'two': 2}"
      ]
     },
     "execution_count": 183,
     "metadata": {},
     "output_type": "execute_result"
    }
   ],
   "source": [
    "data_from_file[\"two\"]"
   ]
  },
  {
   "cell_type": "code",
   "execution_count": 184,
   "metadata": {},
   "outputs": [
    {
     "data": {
      "text/plain": [
       "[[1], [1, 2], [1, 2, 3]]"
      ]
     },
     "execution_count": 184,
     "metadata": {},
     "output_type": "execute_result"
    }
   ],
   "source": [
    "data_from_file[\"three\"]"
   ]
  },
  {
   "cell_type": "code",
   "execution_count": 185,
   "metadata": {},
   "outputs": [
    {
     "name": "stdout",
     "output_type": "stream",
     "text": [
      "{\r\n",
      "    \"C\": {\r\n",
      "        \"color\": \"#149848\", \r\n",
      "        \"transfers\": [\r\n",
      "            [\r\n",
      "                \"C3\", \r\n",
      "                \"F15\"\r\n",
      "            ], \r\n",
      "            [\r\n",
      "                \"C4\", \r\n",
      "                \"Z2\"\r\n",
      "            ], \r\n",
      "            [\r\n",
      "                \"C4\", \r\n",
      "                \"G2\"\r\n",
      "            ], \r\n",
      "            [\r\n",
      "                \"C7\", \r\n",
      "                \"M14\"\r\n",
      "            ], \r\n"
     ]
    }
   ],
   "source": [
    "!head -n 20 tokyo-metro.json"
   ]
  },
  {
   "cell_type": "code",
   "execution_count": 186,
   "metadata": {},
   "outputs": [
    {
     "name": "stdout",
     "output_type": "stream",
     "text": [
      "    1471    1508   27638 tokyo-metro.json\r\n"
     ]
    }
   ],
   "source": [
    "!wc tokyo-metro.json"
   ]
  },
  {
   "cell_type": "code",
   "execution_count": 187,
   "metadata": {},
   "outputs": [],
   "source": [
    "with open(\"tokyo-metro.json\", \"r\") as f:\n",
    "    data = json.load(f)"
   ]
  },
  {
   "cell_type": "code",
   "execution_count": 188,
   "metadata": {},
   "outputs": [
    {
     "data": {
      "text/plain": [
       "dict_keys(['C', 'G', 'F', 'H', 'M', 'N', 'T', 'Y', 'Z'])"
      ]
     },
     "execution_count": 188,
     "metadata": {},
     "output_type": "execute_result"
    }
   ],
   "source": [
    "data.keys()"
   ]
  },
  {
   "cell_type": "code",
   "execution_count": 189,
   "metadata": {},
   "outputs": [
    {
     "data": {
      "text/plain": [
       "dict_keys(['color', 'transfers', 'travel_times'])"
      ]
     },
     "execution_count": 189,
     "metadata": {},
     "output_type": "execute_result"
    }
   ],
   "source": [
    "data[\"C\"].keys()"
   ]
  },
  {
   "cell_type": "code",
   "execution_count": 190,
   "metadata": {},
   "outputs": [
    {
     "data": {
      "text/plain": [
       "'#149848'"
      ]
     },
     "execution_count": 190,
     "metadata": {},
     "output_type": "execute_result"
    }
   ],
   "source": [
    "data[\"C\"][\"color\"]"
   ]
  },
  {
   "cell_type": "code",
   "execution_count": 191,
   "metadata": {},
   "outputs": [
    {
     "data": {
      "text/plain": [
       "[['C3', 'F15'],\n",
       " ['C4', 'Z2'],\n",
       " ['C4', 'G2'],\n",
       " ['C7', 'M14'],\n",
       " ['C7', 'N6'],\n",
       " ['C7', 'G6'],\n",
       " ['C8', 'M15'],\n",
       " ['C8', 'H6'],\n",
       " ['C9', 'H7'],\n",
       " ['C9', 'Y18'],\n",
       " ['C11', 'T9'],\n",
       " ['C11', 'M18'],\n",
       " ['C11', 'Z8'],\n",
       " ['C12', 'M19'],\n",
       " ['C18', 'H21']]"
      ]
     },
     "execution_count": 191,
     "metadata": {},
     "output_type": "execute_result"
    }
   ],
   "source": [
    "data[\"C\"][\"transfers\"]"
   ]
  },
  {
   "cell_type": "code",
   "execution_count": 192,
   "metadata": {},
   "outputs": [
    {
     "data": {
      "text/plain": [
       "[('C3', 'C4', 1), ('C7', 'C8', 1), ('C9', 'C10', 1)]"
      ]
     },
     "execution_count": 192,
     "metadata": {},
     "output_type": "execute_result"
    }
   ],
   "source": [
    "[(s, e, tt) for s, e, tt in data[\"C\"][\"travel_times\"] if tt == 1]"
   ]
  },
  {
   "cell_type": "code",
   "execution_count": 193,
   "metadata": {
    "scrolled": true
   },
   "outputs": [
    {
     "data": {
      "text/plain": [
       "{'C': {'color': '#149848',\n",
       "  'transfers': [['C3', 'F15'],\n",
       "   ['C4', 'Z2'],\n",
       "   ['C4', 'G2'],\n",
       "   ['C7', 'M14'],\n",
       "   ['C7', 'N6'],\n",
       "   ['C7', 'G6'],\n",
       "   ['C8', 'M15'],\n",
       "   ['C8', 'H6'],\n",
       "   ['C9', 'H7'],\n",
       "   ['C9', 'Y18'],\n",
       "   ['C11', 'T9'],\n",
       "   ['C11', 'M18'],\n",
       "   ['C11', 'Z8'],\n",
       "   ['C12', 'M19'],\n",
       "   ['C18', 'H21']],\n",
       "  'travel_times': [['C1', 'C2', 2],\n",
       "   ['C2', 'C3', 2],\n",
       "   ['C3', 'C4', 1],\n",
       "   ['C4', 'C5', 2],\n",
       "   ['C5', 'C6', 2],\n",
       "   ['C6', 'C7', 2],\n",
       "   ['C7', 'C8', 1],\n",
       "   ['C8', 'C9', 3],\n",
       "   ['C9', 'C10', 1],\n",
       "   ['C10', 'C11', 2],\n",
       "   ['C11', 'C12', 2],\n",
       "   ['C12', 'C13', 2],\n",
       "   ['C13', 'C14', 2],\n",
       "   ['C14', 'C15', 2],\n",
       "   ['C15', 'C16', 2],\n",
       "   ['C16', 'C17', 3],\n",
       "   ['C17', 'C18', 3],\n",
       "   ['C18', 'C19', 3]]},\n",
       " 'G': {'color': '#f59230',\n",
       "  'transfers': [['G1', 'Z1'],\n",
       "   ['G1', 'F16'],\n",
       "   ['G2', 'Z2'],\n",
       "   ['G2', 'C4'],\n",
       "   ['G4', 'Z3'],\n",
       "   ['G5', 'M13'],\n",
       "   ['G5', 'Y16'],\n",
       "   ['G5', 'Z4'],\n",
       "   ['G5', 'N7'],\n",
       "   ['G6', 'N6'],\n",
       "   ['G6', 'M14'],\n",
       "   ['G6', 'C7'],\n",
       "   ['G9', 'M16'],\n",
       "   ['G9', 'H8'],\n",
       "   ['G11', 'T10'],\n",
       "   ['G12', 'Z9'],\n",
       "   ['G15', 'H16'],\n",
       "   ['G16', 'H17']],\n",
       "  'travel_times': [['G1', 'G2', 2],\n",
       "   ['G2', 'G3', 1],\n",
       "   ['G3', 'G4', 2],\n",
       "   ['G4', 'G5', 2],\n",
       "   ['G5', 'G6', 2],\n",
       "   ['G6', 'G7', 2],\n",
       "   ['G7', 'G8', 2],\n",
       "   ['G8', 'G9', 2],\n",
       "   ['G9', 'G10', 1],\n",
       "   ['G10', 'G11', 2],\n",
       "   ['G11', 'G12', 2],\n",
       "   ['G12', 'G13', 1],\n",
       "   ['G13', 'G14', 2],\n",
       "   ['G14', 'G15', 2],\n",
       "   ['G15', 'G16', 1],\n",
       "   ['G16', 'G17', 2],\n",
       "   ['G17', 'G18', 1],\n",
       "   ['G18', 'G19', 2]]},\n",
       " 'F': {'color': '#b96528',\n",
       "  'transfers': [['F1', 'Y1'],\n",
       "   ['F2', 'Y2'],\n",
       "   ['F3', 'Y3'],\n",
       "   ['F4', 'Y4'],\n",
       "   ['F5', 'Y5'],\n",
       "   ['F6', 'Y6'],\n",
       "   ['F7', 'Y7'],\n",
       "   ['F8', 'Y8'],\n",
       "   ['F9', 'Y9'],\n",
       "   ['F9', 'M25'],\n",
       "   ['F13', 'M9'],\n",
       "   ['F15', 'C3'],\n",
       "   ['F16', 'Z1'],\n",
       "   ['F16', 'G1']],\n",
       "  'travel_times': [['F1', 'F2', 3],\n",
       "   ['F2', 'F3', 2],\n",
       "   ['F3', 'F4', 3],\n",
       "   ['F4', 'F5', 2],\n",
       "   ['F5', 'F6', 2],\n",
       "   ['F6', 'F7', 2],\n",
       "   ['F7', 'F8', 2],\n",
       "   ['F8', 'F9', 2],\n",
       "   ['F9', 'F10', 3],\n",
       "   ['F10', 'F11', 2],\n",
       "   ['F11', 'F12', 2],\n",
       "   ['F12', 'F13', 2],\n",
       "   ['F13', 'F14', 3],\n",
       "   ['F14', 'F15', 2],\n",
       "   ['F15', 'F16', 2]]},\n",
       " 'H': {'color': '#9cacb5',\n",
       "  'transfers': [['H6', 'M15'],\n",
       "   ['H6', 'C8'],\n",
       "   ['H7', 'Y18'],\n",
       "   ['H7', 'C9'],\n",
       "   ['H8', 'M16'],\n",
       "   ['H8', 'G9'],\n",
       "   ['H12', 'T11'],\n",
       "   ['H16', 'G15'],\n",
       "   ['H17', 'G16'],\n",
       "   ['H21', 'C18']],\n",
       "  'travel_times': [['H1', 'H2', 3],\n",
       "   ['H2', 'H3', 3],\n",
       "   ['H3', 'H4', 3],\n",
       "   ['H4', 'H5', 3],\n",
       "   ['H5', 'H6', 2],\n",
       "   ['H6', 'H7', 3],\n",
       "   ['H7', 'H8', 1],\n",
       "   ['H8', 'H9', 2],\n",
       "   ['H9', 'H10', 2],\n",
       "   ['H10', 'H11', 2],\n",
       "   ['H11', 'H12', 1],\n",
       "   ['H12', 'H13', 3],\n",
       "   ['H13', 'H14', 1],\n",
       "   ['H14', 'H15', 2],\n",
       "   ['H15', 'H16', 2],\n",
       "   ['H16', 'H17', 1],\n",
       "   ['H17', 'H18', 2],\n",
       "   ['H18', 'H19', 2],\n",
       "   ['H19', 'H20', 2],\n",
       "   ['H20', 'H21', 3]]},\n",
       " 'M': {'color': '#ff0000',\n",
       "  'transfers': [['M9', 'F13'],\n",
       "   ['M12', 'N8'],\n",
       "   ['M13', 'G5'],\n",
       "   ['M13', 'Y16'],\n",
       "   ['M13', 'Z4'],\n",
       "   ['M13', 'N7'],\n",
       "   ['M14', 'C7'],\n",
       "   ['M14', 'G6'],\n",
       "   ['M14', 'N6'],\n",
       "   ['M15', 'H6'],\n",
       "   ['M15', 'C8'],\n",
       "   ['M16', 'G9'],\n",
       "   ['M16', 'H8'],\n",
       "   ['M18', 'T9'],\n",
       "   ['M18', 'C11'],\n",
       "   ['M18', 'Z8'],\n",
       "   ['M19', 'C12'],\n",
       "   ['M22', 'N11'],\n",
       "   ['M25', 'Y9'],\n",
       "   ['M25', 'F9']],\n",
       "  'travel_times': [['M1', 'M2', 2],\n",
       "   ['M2', 'M3', 2],\n",
       "   ['M3', 'M4', 2],\n",
       "   ['M4', 'M5', 2],\n",
       "   ['M5', 'M6', 2],\n",
       "   ['M6', 'M7', 2],\n",
       "   ['M7', 'M8', 2],\n",
       "   ['M8', 'M9', 2],\n",
       "   ['M9', 'M10', 1],\n",
       "   ['M10', 'M11', 2],\n",
       "   ['M11', 'M12', 2],\n",
       "   ['M12', 'M13', 3],\n",
       "   ['M13', 'M14', 2],\n",
       "   ['M14', 'M15', 1],\n",
       "   ['M15', 'M16', 3],\n",
       "   ['M16', 'M17', 2],\n",
       "   ['M17', 'M18', 2],\n",
       "   ['M18', 'M19', 2],\n",
       "   ['M19', 'M20', 1],\n",
       "   ['M20', 'M21', 2],\n",
       "   ['M21', 'M22', 2],\n",
       "   ['M22', 'M23', 3],\n",
       "   ['M23', 'M24', 2],\n",
       "   ['M24', 'M25', 3],\n",
       "   ['m3', 'm4', 2],\n",
       "   ['m4', 'm5', 2],\n",
       "   ['m5', 'M6', 2]]},\n",
       " 'N': {'color': '#1aaca9',\n",
       "  'transfers': [['N1', 'T1'],\n",
       "   ['N2', 'T2'],\n",
       "   ['N3', 'T3'],\n",
       "   ['N6', 'G6'],\n",
       "   ['N6', 'M14'],\n",
       "   ['N6', 'C7'],\n",
       "   ['N7', 'Y16'],\n",
       "   ['N7', 'Z4'],\n",
       "   ['N7', 'G5'],\n",
       "   ['N7', 'M13'],\n",
       "   ['N8', 'M12'],\n",
       "   ['N9', 'Y14'],\n",
       "   ['N10', 'Y13'],\n",
       "   ['N10', 'T6'],\n",
       "   ['N11', 'M22']],\n",
       "  'travel_times': [['N1', 'N2', 2],\n",
       "   ['N2', 'N3', 2],\n",
       "   ['N3', 'N4', 2],\n",
       "   ['N4', 'N5', 2],\n",
       "   ['N5', 'N6', 2],\n",
       "   ['N6', 'N7', 2],\n",
       "   ['N7', 'N8', 2],\n",
       "   ['N8', 'N9', 2],\n",
       "   ['N9', 'N10', 2],\n",
       "   ['N10', 'N11', 2],\n",
       "   ['N11', 'N12', 3],\n",
       "   ['N12', 'N13', 2],\n",
       "   ['N13', 'N14', 2],\n",
       "   ['N14', 'N15', 3],\n",
       "   ['N15', 'N16', 1],\n",
       "   ['N16', 'N17', 3],\n",
       "   ['N17', 'N18', 2],\n",
       "   ['N18', 'N19', 2]]},\n",
       " 'T': {'color': '#1aa7d8',\n",
       "  'transfers': [['T6', 'N10'],\n",
       "   ['T6', 'Y13'],\n",
       "   ['T7', 'Z6'],\n",
       "   ['T9', 'M18'],\n",
       "   ['T9', 'C11'],\n",
       "   ['T9', 'Z8'],\n",
       "   ['T10', 'G11'],\n",
       "   ['T11', 'H12']],\n",
       "  'travel_times': [['T1', 'T2', 0],\n",
       "   ['T2', 'T3', 3],\n",
       "   ['T3', 'T4', 6],\n",
       "   ['T4', 'T5', 9],\n",
       "   ['T5', 'T6', 11],\n",
       "   ['T6', 'T7', 13],\n",
       "   ['T7', 'T8', 14],\n",
       "   ['T8', 'T9', 16],\n",
       "   ['T9', 'T10', 18],\n",
       "   ['T10', 'T11', 20],\n",
       "   ['T11', 'T12', 21],\n",
       "   ['T12', 'T13', 24],\n",
       "   ['T13', 'T14', 26],\n",
       "   ['T14', 'T15', 27],\n",
       "   ['T15', 'T16', 30],\n",
       "   ['T16', 'T17', 33],\n",
       "   ['T17', 'T18', 35],\n",
       "   ['T18', 'T19', 37],\n",
       "   ['T19', 'T20', 39],\n",
       "   ['T20', 'T21', 41],\n",
       "   ['T21', 'T22', 43],\n",
       "   ['T22', 'T23', 46],\n",
       "   ['T23', 'T24', 49]]},\n",
       " 'Y': {'color': '#ede7c3',\n",
       "  'transfers': [['Y1', 'F1'],\n",
       "   ['Y2', 'F2'],\n",
       "   ['Y3', 'F3'],\n",
       "   ['Y4', 'F4'],\n",
       "   ['Y5', 'F5'],\n",
       "   ['Y6', 'F6'],\n",
       "   ['Y7', 'F7'],\n",
       "   ['Y8', 'F8'],\n",
       "   ['Y9', 'F9'],\n",
       "   ['Y9', 'M25'],\n",
       "   ['Y13', 'T6'],\n",
       "   ['Y13', 'N10'],\n",
       "   ['Y14', 'N9'],\n",
       "   ['Y16', 'Z4'],\n",
       "   ['Y16', 'N7'],\n",
       "   ['Y16', 'G5'],\n",
       "   ['Y16', 'M13'],\n",
       "   ['Y18', 'H7'],\n",
       "   ['Y18', 'C9']],\n",
       "  'travel_times': [['Y1', 'Y2', 4],\n",
       "   ['Y2', 'Y3', 2],\n",
       "   ['Y3', 'Y4', 3],\n",
       "   ['Y4', 'Y5', 2],\n",
       "   ['Y5', 'Y6', 2],\n",
       "   ['Y6', 'Y7', 2],\n",
       "   ['Y7', 'Y8', 2],\n",
       "   ['Y8', 'Y9', 3],\n",
       "   ['Y9', 'Y10', 2],\n",
       "   ['Y10', 'Y11', 2],\n",
       "   ['Y11', 'Y12', 2],\n",
       "   ['Y12', 'Y13', 3],\n",
       "   ['Y13', 'Y14', 2],\n",
       "   ['Y14', 'Y15', 2],\n",
       "   ['Y15', 'Y16', 1],\n",
       "   ['Y16', 'Y17', 2],\n",
       "   ['Y17', 'Y18', 2],\n",
       "   ['Y18', 'Y19', 2],\n",
       "   ['Y19', 'Y20', 2],\n",
       "   ['Y20', 'Y21', 2],\n",
       "   ['Y21', 'Y22', 2],\n",
       "   ['Y22', 'Y23', 3],\n",
       "   ['Y23', 'Y24', 2]]},\n",
       " 'Z': {'color': '#a384bf',\n",
       "  'transfers': [['Z1', 'F16'],\n",
       "   ['Z1', 'G1'],\n",
       "   ['Z2', 'C4'],\n",
       "   ['Z2', 'G2'],\n",
       "   ['Z3', 'G4'],\n",
       "   ['Z4', 'Y16'],\n",
       "   ['Z4', 'N7'],\n",
       "   ['Z4', 'M13'],\n",
       "   ['Z4', 'G5'],\n",
       "   ['Z6', 'T7'],\n",
       "   ['Z8', 'M18'],\n",
       "   ['Z8', 'C11'],\n",
       "   ['Z8', 'T9'],\n",
       "   ['Z9', 'G12']],\n",
       "  'travel_times': [['Z1', 'Z2', 3],\n",
       "   ['Z2', 'Z3', 2],\n",
       "   ['Z3', 'Z4', 2],\n",
       "   ['Z4', 'Z5', 2],\n",
       "   ['Z5', 'Z6', 2],\n",
       "   ['Z6', 'Z7', 2],\n",
       "   ['Z7', 'Z8', 2],\n",
       "   ['Z8', 'Z9', 2],\n",
       "   ['Z9', 'Z10', 3],\n",
       "   ['Z10', 'Z11', 3],\n",
       "   ['Z11', 'Z12', 3],\n",
       "   ['Z12', 'Z13', 2],\n",
       "   ['Z13', 'Z14', 2]]}}"
      ]
     },
     "execution_count": 193,
     "metadata": {},
     "output_type": "execute_result"
    }
   ],
   "source": [
    "data"
   ]
  },
  {
   "cell_type": "code",
   "execution_count": 194,
   "metadata": {},
   "outputs": [
    {
     "name": "stdout",
     "output_type": "stream",
     "text": [
      "-rw-r--r--@ 1 filip  staff    27K 25 maj  2019 tokyo-metro.json\r\n"
     ]
    }
   ],
   "source": [
    "!ls -lh tokyo-metro.json"
   ]
  },
  {
   "cell_type": "code",
   "execution_count": 195,
   "metadata": {},
   "outputs": [],
   "source": [
    "data_pack = msgpack.packb(data)"
   ]
  },
  {
   "cell_type": "code",
   "execution_count": 196,
   "metadata": {},
   "outputs": [],
   "source": [
    "del data"
   ]
  },
  {
   "cell_type": "code",
   "execution_count": 197,
   "metadata": {},
   "outputs": [
    {
     "data": {
      "text/plain": [
       "bytes"
      ]
     },
     "execution_count": 197,
     "metadata": {},
     "output_type": "execute_result"
    }
   ],
   "source": [
    "type(data_pack)"
   ]
  },
  {
   "cell_type": "code",
   "execution_count": 198,
   "metadata": {},
   "outputs": [
    {
     "data": {
      "text/plain": [
       "3021"
      ]
     },
     "execution_count": 198,
     "metadata": {},
     "output_type": "execute_result"
    }
   ],
   "source": [
    "len(data_pack)"
   ]
  },
  {
   "cell_type": "code",
   "execution_count": 199,
   "metadata": {},
   "outputs": [],
   "source": [
    "with open(\"tokyo-metro.msgpack\", \"wb\") as f:\n",
    "    f.write(data_pack)"
   ]
  },
  {
   "cell_type": "code",
   "execution_count": 200,
   "metadata": {},
   "outputs": [
    {
     "name": "stdout",
     "output_type": "stream",
     "text": [
      "-rw-r--r--  1 filip  staff   3,0K 26 sie 17:28 tokyo-metro.msgpack\r\n"
     ]
    }
   ],
   "source": [
    "!ls -lh tokyo-metro.msgpack"
   ]
  },
  {
   "cell_type": "code",
   "execution_count": 201,
   "metadata": {},
   "outputs": [],
   "source": [
    "with open(\"tokyo-metro.msgpack\", \"rb\") as f:\n",
    "    data_msgpack = f.read()\n",
    "    data = msgpack.unpackb(data_msgpack)"
   ]
  },
  {
   "cell_type": "code",
   "execution_count": 202,
   "metadata": {},
   "outputs": [
    {
     "data": {
      "text/plain": [
       "['C', 'G', 'F', 'H', 'M', 'N', 'T', 'Y', 'Z']"
      ]
     },
     "execution_count": 202,
     "metadata": {},
     "output_type": "execute_result"
    }
   ],
   "source": [
    "list(data.keys())"
   ]
  },
  {
   "cell_type": "code",
   "execution_count": 203,
   "metadata": {},
   "outputs": [],
   "source": [
    "with open(\"tokyo-metro.pickle\", \"wb\") as f:\n",
    "    pickle.dump(data, f)"
   ]
  },
  {
   "cell_type": "code",
   "execution_count": 204,
   "metadata": {},
   "outputs": [],
   "source": [
    "del data"
   ]
  },
  {
   "cell_type": "code",
   "execution_count": 205,
   "metadata": {},
   "outputs": [
    {
     "name": "stdout",
     "output_type": "stream",
     "text": [
      "-rw-r--r--  1 filip  staff   5,2K 26 sie 17:28 tokyo-metro.pickle\r\n"
     ]
    }
   ],
   "source": [
    "!ls -lh tokyo-metro.pickle"
   ]
  },
  {
   "cell_type": "code",
   "execution_count": 206,
   "metadata": {},
   "outputs": [],
   "source": [
    "with open(\"tokyo-metro.pickle\", \"rb\") as f:\n",
    "    data = pickle.load(f)"
   ]
  },
  {
   "cell_type": "code",
   "execution_count": 207,
   "metadata": {
    "scrolled": true
   },
   "outputs": [
    {
     "data": {
      "text/plain": [
       "dict_keys(['C', 'G', 'F', 'H', 'M', 'N', 'T', 'Y', 'Z'])"
      ]
     },
     "execution_count": 207,
     "metadata": {},
     "output_type": "execute_result"
    }
   ],
   "source": [
    "data.keys()"
   ]
  }
 ],
 "metadata": {
  "kernelspec": {
   "display_name": "Python 3",
   "language": "python",
   "name": "python3"
  },
  "language_info": {
   "codemirror_mode": {
    "name": "ipython",
    "version": 3
   },
   "file_extension": ".py",
   "mimetype": "text/x-python",
   "name": "python",
   "nbconvert_exporter": "python",
   "pygments_lexer": "ipython3",
   "version": "3.8.5"
  }
 },
 "nbformat": 4,
 "nbformat_minor": 2
}
